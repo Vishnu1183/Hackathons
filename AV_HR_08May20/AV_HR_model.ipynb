{
 "cells": [
  {
   "cell_type": "raw",
   "metadata": {},
   "source": [
    "error aa ja"
   ]
  },
  {
   "cell_type": "code",
   "execution_count": 6,
   "metadata": {},
   "outputs": [],
   "source": [
    "from IPython.core.interactiveshell import InteractiveShell\n",
    "InteractiveShell.ast_node_interactivity = 'all'\n",
    "import warnings\n",
    "warnings.filterwarnings('ignore')\n",
    "#pd.set_option(\"display.max_columns\",50)"
   ]
  },
  {
   "cell_type": "code",
   "execution_count": 7,
   "metadata": {},
   "outputs": [],
   "source": [
    "import pandas as pd\n",
    "import numpy as np\n",
    "import matplotlib.pyplot as plt\n",
    "import re\n",
    "from sklearn.model_selection import train_test_split\n",
    "from sklearn.linear_model import LogisticRegression\n",
    "from sklearn.ensemble import RandomForestClassifier, StackingClassifier\n",
    "from sklearn.preprocessing import StandardScaler,MinMaxScaler,MaxAbsScaler\n",
    "from sklearn.model_selection import cross_val_score,GridSearchCV,StratifiedKFold,RepeatedStratifiedKFold,RandomizedSearchCV\n",
    "from sklearn.metrics import accuracy_score,auc,recall_score,precision_score,precision_recall_curve,confusion_matrix,\\\n",
    "plot_confusion_matrix,plot_precision_recall_curve,plot_roc_curve,classification_report,roc_auc_score,f1_score\n",
    "from xgboost import XGBClassifier\n",
    "from sklearn.pipeline import make_pipeline\n",
    "from sklearn.svm import LinearSVC\n",
    "from sklearn.neighbors import KNeighborsClassifier\n",
    "from sklearn.impute import SimpleImputer,KNNImputer\n",
    "from sklearn.compose import ColumnTransformer\n",
    "from sklearn.impute import KNNImputer,MissingIndicator,SimpleImputer\n",
    "from sklearn.experimental import enable_iterative_imputer\n",
    "from sklearn.impute import IterativeImputer"
   ]
  },
  {
   "cell_type": "code",
   "execution_count": 8,
   "metadata": {},
   "outputs": [],
   "source": [
    "import re\n",
    "import seaborn as sns\n",
    "from matplotlib import pyplot as plt\n",
    "sns.set(style=\"darkgrid\") #white, dark, whitegrid, darkgrid, ticks\n"
   ]
  },
  {
   "cell_type": "code",
   "execution_count": 9,
   "metadata": {},
   "outputs": [],
   "source": [
    "path = r\"C:/Users/Krishna/Documents/kaggle/AV_HR_Hackathon\""
   ]
  },
  {
   "cell_type": "code",
   "execution_count": 10,
   "metadata": {},
   "outputs": [
    {
     "data": {
      "text/plain": [
       "'train dimensions are : (18359, 14)'"
      ]
     },
     "execution_count": 10,
     "metadata": {},
     "output_type": "execute_result"
    },
    {
     "data": {
      "text/plain": [
       "'test dimensions are : (15021, 13)'"
      ]
     },
     "execution_count": 10,
     "metadata": {},
     "output_type": "execute_result"
    },
    {
     "data": {
      "text/html": [
       "<div>\n",
       "<style scoped>\n",
       "    .dataframe tbody tr th:only-of-type {\n",
       "        vertical-align: middle;\n",
       "    }\n",
       "\n",
       "    .dataframe tbody tr th {\n",
       "        vertical-align: top;\n",
       "    }\n",
       "\n",
       "    .dataframe thead th {\n",
       "        text-align: right;\n",
       "    }\n",
       "</style>\n",
       "<table border=\"1\" class=\"dataframe\">\n",
       "  <thead>\n",
       "    <tr style=\"text-align: right;\">\n",
       "      <th></th>\n",
       "      <th>enrollee_id</th>\n",
       "      <th>city</th>\n",
       "      <th>city_development_index</th>\n",
       "      <th>gender</th>\n",
       "      <th>relevent_experience</th>\n",
       "      <th>enrolled_university</th>\n",
       "      <th>education_level</th>\n",
       "      <th>major_discipline</th>\n",
       "      <th>experience</th>\n",
       "      <th>company_size</th>\n",
       "      <th>company_type</th>\n",
       "      <th>last_new_job</th>\n",
       "      <th>training_hours</th>\n",
       "      <th>target</th>\n",
       "    </tr>\n",
       "  </thead>\n",
       "  <tbody>\n",
       "    <tr>\n",
       "      <th>0</th>\n",
       "      <td>23798</td>\n",
       "      <td>city_149</td>\n",
       "      <td>0.689</td>\n",
       "      <td>Male</td>\n",
       "      <td>Has relevent experience</td>\n",
       "      <td>no_enrollment</td>\n",
       "      <td>Graduate</td>\n",
       "      <td>STEM</td>\n",
       "      <td>3</td>\n",
       "      <td>100-500</td>\n",
       "      <td>Pvt Ltd</td>\n",
       "      <td>1</td>\n",
       "      <td>106</td>\n",
       "      <td>0</td>\n",
       "    </tr>\n",
       "    <tr>\n",
       "      <th>1</th>\n",
       "      <td>29166</td>\n",
       "      <td>city_83</td>\n",
       "      <td>0.923</td>\n",
       "      <td>Male</td>\n",
       "      <td>Has relevent experience</td>\n",
       "      <td>no_enrollment</td>\n",
       "      <td>Graduate</td>\n",
       "      <td>STEM</td>\n",
       "      <td>14</td>\n",
       "      <td>&lt;10</td>\n",
       "      <td>Funded Startup</td>\n",
       "      <td>1</td>\n",
       "      <td>69</td>\n",
       "      <td>0</td>\n",
       "    </tr>\n",
       "  </tbody>\n",
       "</table>\n",
       "</div>"
      ],
      "text/plain": [
       "  enrollee_id      city  city_development_index gender  \\\n",
       "0       23798  city_149                   0.689   Male   \n",
       "1       29166   city_83                   0.923   Male   \n",
       "\n",
       "       relevent_experience enrolled_university education_level  \\\n",
       "0  Has relevent experience       no_enrollment        Graduate   \n",
       "1  Has relevent experience       no_enrollment        Graduate   \n",
       "\n",
       "  major_discipline experience company_size    company_type last_new_job  \\\n",
       "0             STEM          3      100-500         Pvt Ltd            1   \n",
       "1             STEM         14          <10  Funded Startup            1   \n",
       "\n",
       "   training_hours  target  \n",
       "0             106       0  \n",
       "1              69       0  "
      ]
     },
     "execution_count": 10,
     "metadata": {},
     "output_type": "execute_result"
    },
    {
     "data": {
      "text/html": [
       "<div>\n",
       "<style scoped>\n",
       "    .dataframe tbody tr th:only-of-type {\n",
       "        vertical-align: middle;\n",
       "    }\n",
       "\n",
       "    .dataframe tbody tr th {\n",
       "        vertical-align: top;\n",
       "    }\n",
       "\n",
       "    .dataframe thead th {\n",
       "        text-align: right;\n",
       "    }\n",
       "</style>\n",
       "<table border=\"1\" class=\"dataframe\">\n",
       "  <thead>\n",
       "    <tr style=\"text-align: right;\">\n",
       "      <th></th>\n",
       "      <th>enrollee_id</th>\n",
       "      <th>city</th>\n",
       "      <th>city_development_index</th>\n",
       "      <th>gender</th>\n",
       "      <th>relevent_experience</th>\n",
       "      <th>enrolled_university</th>\n",
       "      <th>education_level</th>\n",
       "      <th>major_discipline</th>\n",
       "      <th>experience</th>\n",
       "      <th>company_size</th>\n",
       "      <th>company_type</th>\n",
       "      <th>last_new_job</th>\n",
       "      <th>training_hours</th>\n",
       "    </tr>\n",
       "  </thead>\n",
       "  <tbody>\n",
       "    <tr>\n",
       "      <th>0</th>\n",
       "      <td>16548</td>\n",
       "      <td>city_33</td>\n",
       "      <td>0.448</td>\n",
       "      <td>NaN</td>\n",
       "      <td>No relevent experience</td>\n",
       "      <td>Full time course</td>\n",
       "      <td>Graduate</td>\n",
       "      <td>STEM</td>\n",
       "      <td>&lt;1</td>\n",
       "      <td>1000-4999</td>\n",
       "      <td>Public Sector</td>\n",
       "      <td>NaN</td>\n",
       "      <td>15</td>\n",
       "    </tr>\n",
       "    <tr>\n",
       "      <th>1</th>\n",
       "      <td>12036</td>\n",
       "      <td>city_28</td>\n",
       "      <td>0.939</td>\n",
       "      <td>Male</td>\n",
       "      <td>No relevent experience</td>\n",
       "      <td>no_enrollment</td>\n",
       "      <td>Graduate</td>\n",
       "      <td>STEM</td>\n",
       "      <td>&gt;20</td>\n",
       "      <td>50-99</td>\n",
       "      <td>Pvt Ltd</td>\n",
       "      <td>1</td>\n",
       "      <td>94</td>\n",
       "    </tr>\n",
       "  </tbody>\n",
       "</table>\n",
       "</div>"
      ],
      "text/plain": [
       "  enrollee_id     city  city_development_index gender     relevent_experience  \\\n",
       "0       16548  city_33                   0.448    NaN  No relevent experience   \n",
       "1       12036  city_28                   0.939   Male  No relevent experience   \n",
       "\n",
       "  enrolled_university education_level major_discipline experience  \\\n",
       "0    Full time course        Graduate             STEM         <1   \n",
       "1       no_enrollment        Graduate             STEM        >20   \n",
       "\n",
       "  company_size   company_type last_new_job  training_hours  \n",
       "0    1000-4999  Public Sector          NaN              15  \n",
       "1        50-99        Pvt Ltd            1              94  "
      ]
     },
     "execution_count": 10,
     "metadata": {},
     "output_type": "execute_result"
    }
   ],
   "source": [
    "train = pd.read_csv(f'{path}/input/train_jqd04QH.csv',dtype = {'enrollee_id':str})\n",
    "test = pd.read_csv(f'{path}/input/test_KaymcHn.csv',dtype = {'enrollee_id':str})\n",
    "\n",
    "f'train dimensions are : {train.shape}'\n",
    "f'test dimensions are : {test.shape}'\n",
    "\n",
    "train.head(2)\n",
    "test.head(2)\n"
   ]
  },
  {
   "cell_type": "code",
   "execution_count": 11,
   "metadata": {},
   "outputs": [],
   "source": [
    "def data_info(df = train):\n",
    "    df_info = pd.DataFrame(df.isna().sum(),columns = ['Null_count'])\n",
    "    df_info['Non_Null_count'] = df_info.index.map(df.notna().sum())\n",
    "    df_info['N_unique'] = df_info.index.map(df.nunique())\n",
    "    df_info['D_types'] = df_info.index.map(df.dtypes)\n",
    "    df_info['Blank_count'] = df_info.index.map((df=='').sum())\n",
    "    return df_info"
   ]
  },
  {
   "cell_type": "code",
   "execution_count": 12,
   "metadata": {
    "scrolled": true
   },
   "outputs": [
    {
     "data": {
      "text/html": [
       "<div>\n",
       "<style scoped>\n",
       "    .dataframe tbody tr th:only-of-type {\n",
       "        vertical-align: middle;\n",
       "    }\n",
       "\n",
       "    .dataframe tbody tr th {\n",
       "        vertical-align: top;\n",
       "    }\n",
       "\n",
       "    .dataframe thead th {\n",
       "        text-align: right;\n",
       "    }\n",
       "</style>\n",
       "<table border=\"1\" class=\"dataframe\">\n",
       "  <thead>\n",
       "    <tr style=\"text-align: right;\">\n",
       "      <th></th>\n",
       "      <th>Null_count</th>\n",
       "      <th>Non_Null_count</th>\n",
       "      <th>N_unique</th>\n",
       "      <th>D_types</th>\n",
       "      <th>Blank_count</th>\n",
       "    </tr>\n",
       "  </thead>\n",
       "  <tbody>\n",
       "    <tr>\n",
       "      <th>enrollee_id</th>\n",
       "      <td>0</td>\n",
       "      <td>18359</td>\n",
       "      <td>18359</td>\n",
       "      <td>object</td>\n",
       "      <td>0</td>\n",
       "    </tr>\n",
       "    <tr>\n",
       "      <th>city</th>\n",
       "      <td>0</td>\n",
       "      <td>18359</td>\n",
       "      <td>123</td>\n",
       "      <td>object</td>\n",
       "      <td>0</td>\n",
       "    </tr>\n",
       "    <tr>\n",
       "      <th>city_development_index</th>\n",
       "      <td>0</td>\n",
       "      <td>18359</td>\n",
       "      <td>93</td>\n",
       "      <td>float64</td>\n",
       "      <td>0</td>\n",
       "    </tr>\n",
       "    <tr>\n",
       "      <th>gender</th>\n",
       "      <td>4098</td>\n",
       "      <td>14261</td>\n",
       "      <td>3</td>\n",
       "      <td>object</td>\n",
       "      <td>0</td>\n",
       "    </tr>\n",
       "    <tr>\n",
       "      <th>relevent_experience</th>\n",
       "      <td>0</td>\n",
       "      <td>18359</td>\n",
       "      <td>2</td>\n",
       "      <td>object</td>\n",
       "      <td>0</td>\n",
       "    </tr>\n",
       "    <tr>\n",
       "      <th>enrolled_university</th>\n",
       "      <td>342</td>\n",
       "      <td>18017</td>\n",
       "      <td>3</td>\n",
       "      <td>object</td>\n",
       "      <td>0</td>\n",
       "    </tr>\n",
       "    <tr>\n",
       "      <th>education_level</th>\n",
       "      <td>457</td>\n",
       "      <td>17902</td>\n",
       "      <td>5</td>\n",
       "      <td>object</td>\n",
       "      <td>0</td>\n",
       "    </tr>\n",
       "    <tr>\n",
       "      <th>major_discipline</th>\n",
       "      <td>2838</td>\n",
       "      <td>15521</td>\n",
       "      <td>6</td>\n",
       "      <td>object</td>\n",
       "      <td>0</td>\n",
       "    </tr>\n",
       "    <tr>\n",
       "      <th>experience</th>\n",
       "      <td>59</td>\n",
       "      <td>18300</td>\n",
       "      <td>22</td>\n",
       "      <td>object</td>\n",
       "      <td>0</td>\n",
       "    </tr>\n",
       "    <tr>\n",
       "      <th>company_size</th>\n",
       "      <td>4779</td>\n",
       "      <td>13580</td>\n",
       "      <td>8</td>\n",
       "      <td>object</td>\n",
       "      <td>0</td>\n",
       "    </tr>\n",
       "    <tr>\n",
       "      <th>company_type</th>\n",
       "      <td>5039</td>\n",
       "      <td>13320</td>\n",
       "      <td>6</td>\n",
       "      <td>object</td>\n",
       "      <td>0</td>\n",
       "    </tr>\n",
       "    <tr>\n",
       "      <th>last_new_job</th>\n",
       "      <td>367</td>\n",
       "      <td>17992</td>\n",
       "      <td>6</td>\n",
       "      <td>object</td>\n",
       "      <td>0</td>\n",
       "    </tr>\n",
       "    <tr>\n",
       "      <th>training_hours</th>\n",
       "      <td>0</td>\n",
       "      <td>18359</td>\n",
       "      <td>241</td>\n",
       "      <td>int64</td>\n",
       "      <td>0</td>\n",
       "    </tr>\n",
       "    <tr>\n",
       "      <th>target</th>\n",
       "      <td>0</td>\n",
       "      <td>18359</td>\n",
       "      <td>2</td>\n",
       "      <td>int64</td>\n",
       "      <td>0</td>\n",
       "    </tr>\n",
       "  </tbody>\n",
       "</table>\n",
       "</div>"
      ],
      "text/plain": [
       "                        Null_count  Non_Null_count  N_unique  D_types  \\\n",
       "enrollee_id                      0           18359     18359   object   \n",
       "city                             0           18359       123   object   \n",
       "city_development_index           0           18359        93  float64   \n",
       "gender                        4098           14261         3   object   \n",
       "relevent_experience              0           18359         2   object   \n",
       "enrolled_university            342           18017         3   object   \n",
       "education_level                457           17902         5   object   \n",
       "major_discipline              2838           15521         6   object   \n",
       "experience                      59           18300        22   object   \n",
       "company_size                  4779           13580         8   object   \n",
       "company_type                  5039           13320         6   object   \n",
       "last_new_job                   367           17992         6   object   \n",
       "training_hours                   0           18359       241    int64   \n",
       "target                           0           18359         2    int64   \n",
       "\n",
       "                        Blank_count  \n",
       "enrollee_id                       0  \n",
       "city                              0  \n",
       "city_development_index            0  \n",
       "gender                            0  \n",
       "relevent_experience               0  \n",
       "enrolled_university               0  \n",
       "education_level                   0  \n",
       "major_discipline                  0  \n",
       "experience                        0  \n",
       "company_size                      0  \n",
       "company_type                      0  \n",
       "last_new_job                      0  \n",
       "training_hours                    0  \n",
       "target                            0  "
      ]
     },
     "execution_count": 12,
     "metadata": {},
     "output_type": "execute_result"
    }
   ],
   "source": [
    "data_info(train)"
   ]
  },
  {
   "cell_type": "markdown",
   "metadata": {},
   "source": [
    "### checking event rate "
   ]
  },
  {
   "cell_type": "code",
   "execution_count": 13,
   "metadata": {},
   "outputs": [
    {
     "data": {
      "text/plain": [
       "Counter({0: 15934, 1: 2425})"
      ]
     },
     "execution_count": 13,
     "metadata": {},
     "output_type": "execute_result"
    },
    {
     "data": {
      "text/plain": [
       "0    0.867912\n",
       "1    0.132088\n",
       "Name: target, dtype: float64"
      ]
     },
     "execution_count": 13,
     "metadata": {},
     "output_type": "execute_result"
    }
   ],
   "source": [
    "from collections import Counter\n",
    "Counter(train.target)\n",
    "train.target.value_counts(normalize=True) # works for numeric columns too with arguement `bins`\n",
    "#train.city_development_index.value_counts(bins =6)"
   ]
  },
  {
   "cell_type": "markdown",
   "metadata": {},
   "source": [
    "### treating null values"
   ]
  },
  {
   "cell_type": "code",
   "execution_count": 14,
   "metadata": {
    "scrolled": true
   },
   "outputs": [
    {
     "data": {
      "text/plain": [
       "Male      0.701781\n",
       "NaN       0.223215\n",
       "Female    0.064709\n",
       "Other     0.010295\n",
       "Name: gender, dtype: float64"
      ]
     },
     "execution_count": 14,
     "metadata": {},
     "output_type": "execute_result"
    },
    {
     "data": {
      "text/html": [
       "<div>\n",
       "<style scoped>\n",
       "    .dataframe tbody tr th:only-of-type {\n",
       "        vertical-align: middle;\n",
       "    }\n",
       "\n",
       "    .dataframe tbody tr th {\n",
       "        vertical-align: top;\n",
       "    }\n",
       "\n",
       "    .dataframe thead th {\n",
       "        text-align: right;\n",
       "    }\n",
       "</style>\n",
       "<table border=\"1\" class=\"dataframe\">\n",
       "  <thead>\n",
       "    <tr style=\"text-align: right;\">\n",
       "      <th>target</th>\n",
       "      <th>0</th>\n",
       "      <th>1</th>\n",
       "    </tr>\n",
       "    <tr>\n",
       "      <th>gender</th>\n",
       "      <th></th>\n",
       "      <th></th>\n",
       "    </tr>\n",
       "  </thead>\n",
       "  <tbody>\n",
       "    <tr>\n",
       "      <th>Female</th>\n",
       "      <td>0.849327</td>\n",
       "      <td>0.150673</td>\n",
       "    </tr>\n",
       "    <tr>\n",
       "      <th>Male</th>\n",
       "      <td>0.877523</td>\n",
       "      <td>0.122477</td>\n",
       "    </tr>\n",
       "    <tr>\n",
       "      <th>Nan</th>\n",
       "      <td>0.844070</td>\n",
       "      <td>0.155930</td>\n",
       "    </tr>\n",
       "    <tr>\n",
       "      <th>Other</th>\n",
       "      <td>0.846561</td>\n",
       "      <td>0.153439</td>\n",
       "    </tr>\n",
       "    <tr>\n",
       "      <th>All</th>\n",
       "      <td>0.867912</td>\n",
       "      <td>0.132088</td>\n",
       "    </tr>\n",
       "  </tbody>\n",
       "</table>\n",
       "</div>"
      ],
      "text/plain": [
       "target         0         1\n",
       "gender                    \n",
       "Female  0.849327  0.150673\n",
       "Male    0.877523  0.122477\n",
       "Nan     0.844070  0.155930\n",
       "Other   0.846561  0.153439\n",
       "All     0.867912  0.132088"
      ]
     },
     "execution_count": 14,
     "metadata": {},
     "output_type": "execute_result"
    }
   ],
   "source": [
    "var = 'gender'\n",
    "#f'count of NULLs in {var} : {train[[var]].isna().sum()[0]}'\n",
    "train[var].value_counts(dropna = False,normalize = True)\n",
    "pd.crosstab(index = train[var].fillna('Nan'), columns = train.target,margins = True,normalize='index',)"
   ]
  },
  {
   "cell_type": "markdown",
   "metadata": {},
   "source": [
    "### creating NA indicator for all the columns containing NAs"
   ]
  },
  {
   "cell_type": "code",
   "execution_count": 15,
   "metadata": {},
   "outputs": [],
   "source": [
    "mindicator = MissingIndicator(missing_values=np.nan,error_on_new=False)\n",
    "z = mindicator.fit_transform(train.drop('target',axis = 1))"
   ]
  },
  {
   "cell_type": "code",
   "execution_count": 16,
   "metadata": {},
   "outputs": [
    {
     "data": {
      "text/html": [
       "<div>\n",
       "<style scoped>\n",
       "    .dataframe tbody tr th:only-of-type {\n",
       "        vertical-align: middle;\n",
       "    }\n",
       "\n",
       "    .dataframe tbody tr th {\n",
       "        vertical-align: top;\n",
       "    }\n",
       "\n",
       "    .dataframe thead th {\n",
       "        text-align: right;\n",
       "    }\n",
       "</style>\n",
       "<table border=\"1\" class=\"dataframe\">\n",
       "  <thead>\n",
       "    <tr style=\"text-align: right;\">\n",
       "      <th></th>\n",
       "      <th>enrollee_id</th>\n",
       "      <th>city</th>\n",
       "      <th>city_development_index</th>\n",
       "      <th>gender</th>\n",
       "      <th>relevent_experience</th>\n",
       "      <th>enrolled_university</th>\n",
       "      <th>education_level</th>\n",
       "      <th>major_discipline</th>\n",
       "      <th>experience</th>\n",
       "      <th>company_size</th>\n",
       "      <th>...</th>\n",
       "      <th>training_hours</th>\n",
       "      <th>target</th>\n",
       "      <th>gender_na_ind</th>\n",
       "      <th>enrolled_university_na_ind</th>\n",
       "      <th>education_level_na_ind</th>\n",
       "      <th>major_discipline_na_ind</th>\n",
       "      <th>experience_na_ind</th>\n",
       "      <th>company_size_na_ind</th>\n",
       "      <th>company_type_na_ind</th>\n",
       "      <th>last_new_job_na_ind</th>\n",
       "    </tr>\n",
       "  </thead>\n",
       "  <tbody>\n",
       "    <tr>\n",
       "      <th>0</th>\n",
       "      <td>23798</td>\n",
       "      <td>city_149</td>\n",
       "      <td>0.689</td>\n",
       "      <td>Male</td>\n",
       "      <td>Has relevent experience</td>\n",
       "      <td>no_enrollment</td>\n",
       "      <td>Graduate</td>\n",
       "      <td>STEM</td>\n",
       "      <td>3</td>\n",
       "      <td>100-500</td>\n",
       "      <td>...</td>\n",
       "      <td>106</td>\n",
       "      <td>0</td>\n",
       "      <td>0</td>\n",
       "      <td>0</td>\n",
       "      <td>0</td>\n",
       "      <td>0</td>\n",
       "      <td>0</td>\n",
       "      <td>0</td>\n",
       "      <td>0</td>\n",
       "      <td>0</td>\n",
       "    </tr>\n",
       "  </tbody>\n",
       "</table>\n",
       "<p>1 rows × 22 columns</p>\n",
       "</div>"
      ],
      "text/plain": [
       "  enrollee_id      city  city_development_index gender  \\\n",
       "0       23798  city_149                   0.689   Male   \n",
       "\n",
       "       relevent_experience enrolled_university education_level  \\\n",
       "0  Has relevent experience       no_enrollment        Graduate   \n",
       "\n",
       "  major_discipline experience company_size  ... training_hours target  \\\n",
       "0             STEM          3      100-500  ...            106      0   \n",
       "\n",
       "   gender_na_ind  enrolled_university_na_ind  education_level_na_ind  \\\n",
       "0              0                           0                       0   \n",
       "\n",
       "   major_discipline_na_ind  experience_na_ind  company_size_na_ind  \\\n",
       "0                        0                  0                    0   \n",
       "\n",
       "   company_type_na_ind  last_new_job_na_ind  \n",
       "0                    0                    0  \n",
       "\n",
       "[1 rows x 22 columns]"
      ]
     },
     "execution_count": 16,
     "metadata": {},
     "output_type": "execute_result"
    }
   ],
   "source": [
    "cols_na_ind = [x+'_na_ind' for x in train.columns[mindicator.features_]]\n",
    "train = pd.concat([train,pd.DataFrame(1*z,columns = cols_na_ind)],axis = 1)\n",
    "train.head(1)"
   ]
  },
  {
   "cell_type": "code",
   "execution_count": 17,
   "metadata": {},
   "outputs": [
    {
     "data": {
      "text/html": [
       "<div>\n",
       "<style scoped>\n",
       "    .dataframe tbody tr th:only-of-type {\n",
       "        vertical-align: middle;\n",
       "    }\n",
       "\n",
       "    .dataframe tbody tr th {\n",
       "        vertical-align: top;\n",
       "    }\n",
       "\n",
       "    .dataframe thead th {\n",
       "        text-align: right;\n",
       "    }\n",
       "</style>\n",
       "<table border=\"1\" class=\"dataframe\">\n",
       "  <thead>\n",
       "    <tr style=\"text-align: right;\">\n",
       "      <th></th>\n",
       "      <th>enrollee_id</th>\n",
       "      <th>city</th>\n",
       "      <th>city_development_index</th>\n",
       "      <th>gender</th>\n",
       "      <th>relevent_experience</th>\n",
       "      <th>enrolled_university</th>\n",
       "      <th>education_level</th>\n",
       "      <th>major_discipline</th>\n",
       "      <th>experience</th>\n",
       "      <th>company_size</th>\n",
       "      <th>...</th>\n",
       "      <th>last_new_job</th>\n",
       "      <th>training_hours</th>\n",
       "      <th>gender_na_ind</th>\n",
       "      <th>enrolled_university_na_ind</th>\n",
       "      <th>education_level_na_ind</th>\n",
       "      <th>major_discipline_na_ind</th>\n",
       "      <th>experience_na_ind</th>\n",
       "      <th>company_size_na_ind</th>\n",
       "      <th>company_type_na_ind</th>\n",
       "      <th>last_new_job_na_ind</th>\n",
       "    </tr>\n",
       "  </thead>\n",
       "  <tbody>\n",
       "    <tr>\n",
       "      <th>0</th>\n",
       "      <td>16548</td>\n",
       "      <td>city_33</td>\n",
       "      <td>0.448</td>\n",
       "      <td>NaN</td>\n",
       "      <td>No relevent experience</td>\n",
       "      <td>Full time course</td>\n",
       "      <td>Graduate</td>\n",
       "      <td>STEM</td>\n",
       "      <td>&lt;1</td>\n",
       "      <td>1000-4999</td>\n",
       "      <td>...</td>\n",
       "      <td>NaN</td>\n",
       "      <td>15</td>\n",
       "      <td>1</td>\n",
       "      <td>0</td>\n",
       "      <td>0</td>\n",
       "      <td>0</td>\n",
       "      <td>0</td>\n",
       "      <td>0</td>\n",
       "      <td>0</td>\n",
       "      <td>1</td>\n",
       "    </tr>\n",
       "  </tbody>\n",
       "</table>\n",
       "<p>1 rows × 21 columns</p>\n",
       "</div>"
      ],
      "text/plain": [
       "  enrollee_id     city  city_development_index gender     relevent_experience  \\\n",
       "0       16548  city_33                   0.448    NaN  No relevent experience   \n",
       "\n",
       "  enrolled_university education_level major_discipline experience  \\\n",
       "0    Full time course        Graduate             STEM         <1   \n",
       "\n",
       "  company_size  ... last_new_job training_hours  gender_na_ind  \\\n",
       "0    1000-4999  ...          NaN             15              1   \n",
       "\n",
       "   enrolled_university_na_ind  education_level_na_ind  \\\n",
       "0                           0                       0   \n",
       "\n",
       "   major_discipline_na_ind  experience_na_ind  company_size_na_ind  \\\n",
       "0                        0                  0                    0   \n",
       "\n",
       "   company_type_na_ind  last_new_job_na_ind  \n",
       "0                    0                    1  \n",
       "\n",
       "[1 rows x 21 columns]"
      ]
     },
     "execution_count": 17,
     "metadata": {},
     "output_type": "execute_result"
    }
   ],
   "source": [
    "z = mindicator.transform(test)\n",
    "cols_na_ind = [x+'_na_ind' for x in test.columns[mindicator.features_]]\n",
    "test = pd.concat([test,pd.DataFrame(1*z,columns = cols_na_ind)],axis = 1)\n",
    "test.head(1)"
   ]
  },
  {
   "cell_type": "code",
   "execution_count": 18,
   "metadata": {},
   "outputs": [
    {
     "data": {
      "text/plain": [
       "Male      0.701781\n",
       "NaN       0.223215\n",
       "Female    0.064709\n",
       "Other     0.010295\n",
       "Name: gender, dtype: float64"
      ]
     },
     "execution_count": 18,
     "metadata": {},
     "output_type": "execute_result"
    },
    {
     "data": {
      "text/html": [
       "<div>\n",
       "<style scoped>\n",
       "    .dataframe tbody tr th:only-of-type {\n",
       "        vertical-align: middle;\n",
       "    }\n",
       "\n",
       "    .dataframe tbody tr th {\n",
       "        vertical-align: top;\n",
       "    }\n",
       "\n",
       "    .dataframe thead th {\n",
       "        text-align: right;\n",
       "    }\n",
       "</style>\n",
       "<table border=\"1\" class=\"dataframe\">\n",
       "  <thead>\n",
       "    <tr style=\"text-align: right;\">\n",
       "      <th>target</th>\n",
       "      <th>0</th>\n",
       "      <th>1</th>\n",
       "    </tr>\n",
       "    <tr>\n",
       "      <th>gender</th>\n",
       "      <th></th>\n",
       "      <th></th>\n",
       "    </tr>\n",
       "  </thead>\n",
       "  <tbody>\n",
       "    <tr>\n",
       "      <th>Female</th>\n",
       "      <td>0.849327</td>\n",
       "      <td>0.150673</td>\n",
       "    </tr>\n",
       "    <tr>\n",
       "      <th>Male</th>\n",
       "      <td>0.877523</td>\n",
       "      <td>0.122477</td>\n",
       "    </tr>\n",
       "    <tr>\n",
       "      <th>Nan</th>\n",
       "      <td>0.844070</td>\n",
       "      <td>0.155930</td>\n",
       "    </tr>\n",
       "    <tr>\n",
       "      <th>Other</th>\n",
       "      <td>0.846561</td>\n",
       "      <td>0.153439</td>\n",
       "    </tr>\n",
       "    <tr>\n",
       "      <th>All</th>\n",
       "      <td>0.867912</td>\n",
       "      <td>0.132088</td>\n",
       "    </tr>\n",
       "  </tbody>\n",
       "</table>\n",
       "</div>"
      ],
      "text/plain": [
       "target         0         1\n",
       "gender                    \n",
       "Female  0.849327  0.150673\n",
       "Male    0.877523  0.122477\n",
       "Nan     0.844070  0.155930\n",
       "Other   0.846561  0.153439\n",
       "All     0.867912  0.132088"
      ]
     },
     "execution_count": 18,
     "metadata": {},
     "output_type": "execute_result"
    }
   ],
   "source": [
    "var = 'gender'\n",
    "train[var].value_counts(dropna = False,normalize=True)\n",
    "pd.crosstab(index = train[var].fillna('Nan'), columns = train.target,margins = True,normalize='index',)"
   ]
  },
  {
   "cell_type": "code",
   "execution_count": 19,
   "metadata": {
    "scrolled": false
   },
   "outputs": [
    {
     "data": {
      "text/plain": [
       "no_enrollment       0.743995\n",
       "Full time course    0.173593\n",
       "Part time course    0.063783\n",
       "NaN                 0.018628\n",
       "Name: enrolled_university, dtype: float64"
      ]
     },
     "execution_count": 19,
     "metadata": {},
     "output_type": "execute_result"
    },
    {
     "data": {
      "text/html": [
       "<div>\n",
       "<style scoped>\n",
       "    .dataframe tbody tr th:only-of-type {\n",
       "        vertical-align: middle;\n",
       "    }\n",
       "\n",
       "    .dataframe tbody tr th {\n",
       "        vertical-align: top;\n",
       "    }\n",
       "\n",
       "    .dataframe thead th {\n",
       "        text-align: right;\n",
       "    }\n",
       "</style>\n",
       "<table border=\"1\" class=\"dataframe\">\n",
       "  <thead>\n",
       "    <tr style=\"text-align: right;\">\n",
       "      <th>target</th>\n",
       "      <th>0</th>\n",
       "      <th>1</th>\n",
       "    </tr>\n",
       "    <tr>\n",
       "      <th>enrolled_university</th>\n",
       "      <th></th>\n",
       "      <th></th>\n",
       "    </tr>\n",
       "  </thead>\n",
       "  <tbody>\n",
       "    <tr>\n",
       "      <th>Full time course</th>\n",
       "      <td>0.809539</td>\n",
       "      <td>0.190461</td>\n",
       "    </tr>\n",
       "    <tr>\n",
       "      <th>Nan</th>\n",
       "      <td>0.836257</td>\n",
       "      <td>0.163743</td>\n",
       "    </tr>\n",
       "    <tr>\n",
       "      <th>Part time course</th>\n",
       "      <td>0.851409</td>\n",
       "      <td>0.148591</td>\n",
       "    </tr>\n",
       "    <tr>\n",
       "      <th>no_enrollment</th>\n",
       "      <td>0.883740</td>\n",
       "      <td>0.116260</td>\n",
       "    </tr>\n",
       "    <tr>\n",
       "      <th>All</th>\n",
       "      <td>0.867912</td>\n",
       "      <td>0.132088</td>\n",
       "    </tr>\n",
       "  </tbody>\n",
       "</table>\n",
       "</div>"
      ],
      "text/plain": [
       "target                      0         1\n",
       "enrolled_university                    \n",
       "Full time course     0.809539  0.190461\n",
       "Nan                  0.836257  0.163743\n",
       "Part time course     0.851409  0.148591\n",
       "no_enrollment        0.883740  0.116260\n",
       "All                  0.867912  0.132088"
      ]
     },
     "execution_count": 19,
     "metadata": {},
     "output_type": "execute_result"
    }
   ],
   "source": [
    "var = 'enrolled_university'\n",
    "train[var].value_counts(dropna = False,normalize=True)\n",
    "pd.crosstab(index = train[var].fillna('Nan'), columns = train.target,margins = True,normalize='index',)"
   ]
  },
  {
   "cell_type": "code",
   "execution_count": 20,
   "metadata": {
    "scrolled": false
   },
   "outputs": [
    {
     "data": {
      "text/plain": [
       "Graduate          0.586579\n",
       "Masters           0.235252\n",
       "High School       0.110681\n",
       "Phd               0.025001\n",
       "NaN               0.024892\n",
       "Primary School    0.017594\n",
       "Name: education_level, dtype: float64"
      ]
     },
     "execution_count": 20,
     "metadata": {},
     "output_type": "execute_result"
    },
    {
     "data": {
      "text/html": [
       "<div>\n",
       "<style scoped>\n",
       "    .dataframe tbody tr th:only-of-type {\n",
       "        vertical-align: middle;\n",
       "    }\n",
       "\n",
       "    .dataframe tbody tr th {\n",
       "        vertical-align: top;\n",
       "    }\n",
       "\n",
       "    .dataframe thead th {\n",
       "        text-align: right;\n",
       "    }\n",
       "</style>\n",
       "<table border=\"1\" class=\"dataframe\">\n",
       "  <thead>\n",
       "    <tr style=\"text-align: right;\">\n",
       "      <th>target</th>\n",
       "      <th>0</th>\n",
       "      <th>1</th>\n",
       "      <th>All</th>\n",
       "    </tr>\n",
       "    <tr>\n",
       "      <th>education_level</th>\n",
       "      <th></th>\n",
       "      <th></th>\n",
       "      <th></th>\n",
       "    </tr>\n",
       "  </thead>\n",
       "  <tbody>\n",
       "    <tr>\n",
       "      <th>Graduate</th>\n",
       "      <td>0.503132</td>\n",
       "      <td>0.083447</td>\n",
       "      <td>0.586579</td>\n",
       "    </tr>\n",
       "    <tr>\n",
       "      <th>High School</th>\n",
       "      <td>0.097554</td>\n",
       "      <td>0.013127</td>\n",
       "      <td>0.110681</td>\n",
       "    </tr>\n",
       "    <tr>\n",
       "      <th>Masters</th>\n",
       "      <td>0.207310</td>\n",
       "      <td>0.027943</td>\n",
       "      <td>0.235252</td>\n",
       "    </tr>\n",
       "    <tr>\n",
       "      <th>Nan</th>\n",
       "      <td>0.021570</td>\n",
       "      <td>0.003323</td>\n",
       "      <td>0.024892</td>\n",
       "    </tr>\n",
       "    <tr>\n",
       "      <th>Phd</th>\n",
       "      <td>0.022114</td>\n",
       "      <td>0.002887</td>\n",
       "      <td>0.025001</td>\n",
       "    </tr>\n",
       "    <tr>\n",
       "      <th>Primary School</th>\n",
       "      <td>0.016232</td>\n",
       "      <td>0.001362</td>\n",
       "      <td>0.017594</td>\n",
       "    </tr>\n",
       "    <tr>\n",
       "      <th>All</th>\n",
       "      <td>0.867912</td>\n",
       "      <td>0.132088</td>\n",
       "      <td>1.000000</td>\n",
       "    </tr>\n",
       "  </tbody>\n",
       "</table>\n",
       "</div>"
      ],
      "text/plain": [
       "target                  0         1       All\n",
       "education_level                              \n",
       "Graduate         0.503132  0.083447  0.586579\n",
       "High School      0.097554  0.013127  0.110681\n",
       "Masters          0.207310  0.027943  0.235252\n",
       "Nan              0.021570  0.003323  0.024892\n",
       "Phd              0.022114  0.002887  0.025001\n",
       "Primary School   0.016232  0.001362  0.017594\n",
       "All              0.867912  0.132088  1.000000"
      ]
     },
     "execution_count": 20,
     "metadata": {},
     "output_type": "execute_result"
    }
   ],
   "source": [
    "var = 'education_level'\n",
    "train[var].value_counts(dropna=False,normalize=True)\n",
    "pd.crosstab(index = train[var].fillna('Nan'), columns = train.target,margins = True,normalize=True,dropna=False)"
   ]
  },
  {
   "cell_type": "code",
   "execution_count": null,
   "metadata": {},
   "outputs": [],
   "source": []
  },
  {
   "cell_type": "code",
   "execution_count": 21,
   "metadata": {
    "scrolled": false
   },
   "outputs": [
    {
     "data": {
      "text/plain": [
       "STEM               0.748298\n",
       "NaN                0.154584\n",
       "Humanities         0.037475\n",
       "Other              0.018683\n",
       "Business Degree    0.016722\n",
       "Arts               0.013018\n",
       "No Major           0.011221\n",
       "Name: major_discipline, dtype: float64"
      ]
     },
     "execution_count": 21,
     "metadata": {},
     "output_type": "execute_result"
    },
    {
     "data": {
      "text/html": [
       "<div>\n",
       "<style scoped>\n",
       "    .dataframe tbody tr th:only-of-type {\n",
       "        vertical-align: middle;\n",
       "    }\n",
       "\n",
       "    .dataframe tbody tr th {\n",
       "        vertical-align: top;\n",
       "    }\n",
       "\n",
       "    .dataframe thead th {\n",
       "        text-align: right;\n",
       "    }\n",
       "</style>\n",
       "<table border=\"1\" class=\"dataframe\">\n",
       "  <thead>\n",
       "    <tr style=\"text-align: right;\">\n",
       "      <th>target</th>\n",
       "      <th>0</th>\n",
       "      <th>1</th>\n",
       "    </tr>\n",
       "    <tr>\n",
       "      <th>major_discipline</th>\n",
       "      <th></th>\n",
       "      <th></th>\n",
       "    </tr>\n",
       "  </thead>\n",
       "  <tbody>\n",
       "    <tr>\n",
       "      <th>Arts</th>\n",
       "      <td>0.895397</td>\n",
       "      <td>0.104603</td>\n",
       "    </tr>\n",
       "    <tr>\n",
       "      <th>Business Degree</th>\n",
       "      <td>0.872964</td>\n",
       "      <td>0.127036</td>\n",
       "    </tr>\n",
       "    <tr>\n",
       "      <th>Humanities</th>\n",
       "      <td>0.864826</td>\n",
       "      <td>0.135174</td>\n",
       "    </tr>\n",
       "    <tr>\n",
       "      <th>Nan</th>\n",
       "      <td>0.882311</td>\n",
       "      <td>0.117689</td>\n",
       "    </tr>\n",
       "    <tr>\n",
       "      <th>No Major</th>\n",
       "      <td>0.902913</td>\n",
       "      <td>0.097087</td>\n",
       "    </tr>\n",
       "    <tr>\n",
       "      <th>Other</th>\n",
       "      <td>0.892128</td>\n",
       "      <td>0.107872</td>\n",
       "    </tr>\n",
       "    <tr>\n",
       "      <th>STEM</th>\n",
       "      <td>0.863372</td>\n",
       "      <td>0.136628</td>\n",
       "    </tr>\n",
       "    <tr>\n",
       "      <th>All</th>\n",
       "      <td>0.867912</td>\n",
       "      <td>0.132088</td>\n",
       "    </tr>\n",
       "  </tbody>\n",
       "</table>\n",
       "</div>"
      ],
      "text/plain": [
       "target                   0         1\n",
       "major_discipline                    \n",
       "Arts              0.895397  0.104603\n",
       "Business Degree   0.872964  0.127036\n",
       "Humanities        0.864826  0.135174\n",
       "Nan               0.882311  0.117689\n",
       "No Major          0.902913  0.097087\n",
       "Other             0.892128  0.107872\n",
       "STEM              0.863372  0.136628\n",
       "All               0.867912  0.132088"
      ]
     },
     "execution_count": 21,
     "metadata": {},
     "output_type": "execute_result"
    }
   ],
   "source": [
    "var = 'major_discipline'\n",
    "train[var].value_counts(dropna=False,normalize=True)\n",
    "pd.crosstab(index = train[var].fillna('Nan'), columns = train.target,margins = True,dropna = False,normalize='index')"
   ]
  },
  {
   "cell_type": "code",
   "execution_count": null,
   "metadata": {},
   "outputs": [],
   "source": []
  },
  {
   "cell_type": "code",
   "execution_count": 22,
   "metadata": {
    "scrolled": true
   },
   "outputs": [
    {
     "data": {
      "text/html": [
       "<div>\n",
       "<style scoped>\n",
       "    .dataframe tbody tr th:only-of-type {\n",
       "        vertical-align: middle;\n",
       "    }\n",
       "\n",
       "    .dataframe tbody tr th {\n",
       "        vertical-align: top;\n",
       "    }\n",
       "\n",
       "    .dataframe thead th {\n",
       "        text-align: right;\n",
       "    }\n",
       "</style>\n",
       "<table border=\"1\" class=\"dataframe\">\n",
       "  <thead>\n",
       "    <tr style=\"text-align: right;\">\n",
       "      <th>target</th>\n",
       "      <th>0</th>\n",
       "      <th>1</th>\n",
       "    </tr>\n",
       "    <tr>\n",
       "      <th>experience</th>\n",
       "      <th></th>\n",
       "      <th></th>\n",
       "    </tr>\n",
       "  </thead>\n",
       "  <tbody>\n",
       "    <tr>\n",
       "      <th>1</th>\n",
       "      <td>0.761062</td>\n",
       "      <td>0.238938</td>\n",
       "    </tr>\n",
       "    <tr>\n",
       "      <th>10</th>\n",
       "      <td>0.875905</td>\n",
       "      <td>0.124095</td>\n",
       "    </tr>\n",
       "    <tr>\n",
       "      <th>11</th>\n",
       "      <td>0.875562</td>\n",
       "      <td>0.124438</td>\n",
       "    </tr>\n",
       "    <tr>\n",
       "      <th>12</th>\n",
       "      <td>0.895372</td>\n",
       "      <td>0.104628</td>\n",
       "    </tr>\n",
       "    <tr>\n",
       "      <th>13</th>\n",
       "      <td>0.883495</td>\n",
       "      <td>0.116505</td>\n",
       "    </tr>\n",
       "    <tr>\n",
       "      <th>14</th>\n",
       "      <td>0.875415</td>\n",
       "      <td>0.124585</td>\n",
       "    </tr>\n",
       "    <tr>\n",
       "      <th>15</th>\n",
       "      <td>0.889209</td>\n",
       "      <td>0.110791</td>\n",
       "    </tr>\n",
       "    <tr>\n",
       "      <th>16</th>\n",
       "      <td>0.896175</td>\n",
       "      <td>0.103825</td>\n",
       "    </tr>\n",
       "    <tr>\n",
       "      <th>17</th>\n",
       "      <td>0.902017</td>\n",
       "      <td>0.097983</td>\n",
       "    </tr>\n",
       "    <tr>\n",
       "      <th>18</th>\n",
       "      <td>0.909091</td>\n",
       "      <td>0.090909</td>\n",
       "    </tr>\n",
       "    <tr>\n",
       "      <th>19</th>\n",
       "      <td>0.892857</td>\n",
       "      <td>0.107143</td>\n",
       "    </tr>\n",
       "    <tr>\n",
       "      <th>2</th>\n",
       "      <td>0.827621</td>\n",
       "      <td>0.172379</td>\n",
       "    </tr>\n",
       "    <tr>\n",
       "      <th>20</th>\n",
       "      <td>0.890411</td>\n",
       "      <td>0.109589</td>\n",
       "    </tr>\n",
       "    <tr>\n",
       "      <th>3</th>\n",
       "      <td>0.835203</td>\n",
       "      <td>0.164797</td>\n",
       "    </tr>\n",
       "    <tr>\n",
       "      <th>4</th>\n",
       "      <td>0.831200</td>\n",
       "      <td>0.168800</td>\n",
       "    </tr>\n",
       "    <tr>\n",
       "      <th>5</th>\n",
       "      <td>0.859435</td>\n",
       "      <td>0.140565</td>\n",
       "    </tr>\n",
       "    <tr>\n",
       "      <th>6</th>\n",
       "      <td>0.864000</td>\n",
       "      <td>0.136000</td>\n",
       "    </tr>\n",
       "    <tr>\n",
       "      <th>7</th>\n",
       "      <td>0.853684</td>\n",
       "      <td>0.146316</td>\n",
       "    </tr>\n",
       "    <tr>\n",
       "      <th>8</th>\n",
       "      <td>0.886093</td>\n",
       "      <td>0.113907</td>\n",
       "    </tr>\n",
       "    <tr>\n",
       "      <th>9</th>\n",
       "      <td>0.879469</td>\n",
       "      <td>0.120531</td>\n",
       "    </tr>\n",
       "    <tr>\n",
       "      <th>&lt;1</th>\n",
       "      <td>0.757212</td>\n",
       "      <td>0.242788</td>\n",
       "    </tr>\n",
       "    <tr>\n",
       "      <th>&gt;20</th>\n",
       "      <td>0.903986</td>\n",
       "      <td>0.096014</td>\n",
       "    </tr>\n",
       "    <tr>\n",
       "      <th>Nan</th>\n",
       "      <td>0.796610</td>\n",
       "      <td>0.203390</td>\n",
       "    </tr>\n",
       "    <tr>\n",
       "      <th>All</th>\n",
       "      <td>0.867912</td>\n",
       "      <td>0.132088</td>\n",
       "    </tr>\n",
       "  </tbody>\n",
       "</table>\n",
       "</div>"
      ],
      "text/plain": [
       "target             0         1\n",
       "experience                    \n",
       "1           0.761062  0.238938\n",
       "10          0.875905  0.124095\n",
       "11          0.875562  0.124438\n",
       "12          0.895372  0.104628\n",
       "13          0.883495  0.116505\n",
       "14          0.875415  0.124585\n",
       "15          0.889209  0.110791\n",
       "16          0.896175  0.103825\n",
       "17          0.902017  0.097983\n",
       "18          0.909091  0.090909\n",
       "19          0.892857  0.107143\n",
       "2           0.827621  0.172379\n",
       "20          0.890411  0.109589\n",
       "3           0.835203  0.164797\n",
       "4           0.831200  0.168800\n",
       "5           0.859435  0.140565\n",
       "6           0.864000  0.136000\n",
       "7           0.853684  0.146316\n",
       "8           0.886093  0.113907\n",
       "9           0.879469  0.120531\n",
       "<1          0.757212  0.242788\n",
       ">20         0.903986  0.096014\n",
       "Nan         0.796610  0.203390\n",
       "All         0.867912  0.132088"
      ]
     },
     "execution_count": 22,
     "metadata": {},
     "output_type": "execute_result"
    }
   ],
   "source": [
    "var = 'experience'\n",
    "#train[var].value_counts(dropna=False,normalize=True)\n",
    "pd.crosstab(index = train[var].fillna('Nan'), columns = train.target,margins = True,dropna = False,normalize='index',)"
   ]
  },
  {
   "cell_type": "raw",
   "metadata": {},
   "source": [
    "simputer = SimpleImputer(add_indicator = True,strategy= 'constant',fill_value='missing')\n",
    "x = simputer.fit_transform(train.drop('target', axis =1))"
   ]
  },
  {
   "cell_type": "code",
   "execution_count": 23,
   "metadata": {},
   "outputs": [
    {
     "data": {
      "text/plain": [
       "{'gender': 'missing',\n",
       " 'enrolled_university': 'missing',\n",
       " 'education_level': 'missing',\n",
       " 'major_discipline': 'missing',\n",
       " 'experience': 'missing',\n",
       " 'company_size': 'missing',\n",
       " 'company_type': 'missing',\n",
       " 'last_new_job': 'missing'}"
      ]
     },
     "execution_count": 23,
     "metadata": {},
     "output_type": "execute_result"
    }
   ],
   "source": [
    "na_cols = train.isna().sum()[train.isna().sum()>0].index\n",
    "fillna_vals = dict(zip(na_cols,len(na_cols)*['missing']))\n",
    "fillna_vals"
   ]
  },
  {
   "cell_type": "code",
   "execution_count": 24,
   "metadata": {},
   "outputs": [],
   "source": [
    "train.fillna(fillna_vals,inplace = True)\n",
    "\n",
    "test.fillna(fillna_vals,inplace = True)"
   ]
  },
  {
   "cell_type": "code",
   "execution_count": 25,
   "metadata": {},
   "outputs": [
    {
     "data": {
      "text/html": [
       "<div>\n",
       "<style scoped>\n",
       "    .dataframe tbody tr th:only-of-type {\n",
       "        vertical-align: middle;\n",
       "    }\n",
       "\n",
       "    .dataframe tbody tr th {\n",
       "        vertical-align: top;\n",
       "    }\n",
       "\n",
       "    .dataframe thead th {\n",
       "        text-align: right;\n",
       "    }\n",
       "</style>\n",
       "<table border=\"1\" class=\"dataframe\">\n",
       "  <thead>\n",
       "    <tr style=\"text-align: right;\">\n",
       "      <th></th>\n",
       "      <th>Null_count</th>\n",
       "      <th>Non_Null_count</th>\n",
       "      <th>N_unique</th>\n",
       "      <th>D_types</th>\n",
       "      <th>Blank_count</th>\n",
       "    </tr>\n",
       "  </thead>\n",
       "  <tbody>\n",
       "    <tr>\n",
       "      <th>enrollee_id</th>\n",
       "      <td>0</td>\n",
       "      <td>18359</td>\n",
       "      <td>18359</td>\n",
       "      <td>object</td>\n",
       "      <td>0</td>\n",
       "    </tr>\n",
       "    <tr>\n",
       "      <th>city</th>\n",
       "      <td>0</td>\n",
       "      <td>18359</td>\n",
       "      <td>123</td>\n",
       "      <td>object</td>\n",
       "      <td>0</td>\n",
       "    </tr>\n",
       "    <tr>\n",
       "      <th>city_development_index</th>\n",
       "      <td>0</td>\n",
       "      <td>18359</td>\n",
       "      <td>93</td>\n",
       "      <td>float64</td>\n",
       "      <td>0</td>\n",
       "    </tr>\n",
       "    <tr>\n",
       "      <th>gender</th>\n",
       "      <td>0</td>\n",
       "      <td>18359</td>\n",
       "      <td>4</td>\n",
       "      <td>object</td>\n",
       "      <td>0</td>\n",
       "    </tr>\n",
       "    <tr>\n",
       "      <th>relevent_experience</th>\n",
       "      <td>0</td>\n",
       "      <td>18359</td>\n",
       "      <td>2</td>\n",
       "      <td>object</td>\n",
       "      <td>0</td>\n",
       "    </tr>\n",
       "    <tr>\n",
       "      <th>enrolled_university</th>\n",
       "      <td>0</td>\n",
       "      <td>18359</td>\n",
       "      <td>4</td>\n",
       "      <td>object</td>\n",
       "      <td>0</td>\n",
       "    </tr>\n",
       "    <tr>\n",
       "      <th>education_level</th>\n",
       "      <td>0</td>\n",
       "      <td>18359</td>\n",
       "      <td>6</td>\n",
       "      <td>object</td>\n",
       "      <td>0</td>\n",
       "    </tr>\n",
       "    <tr>\n",
       "      <th>major_discipline</th>\n",
       "      <td>0</td>\n",
       "      <td>18359</td>\n",
       "      <td>7</td>\n",
       "      <td>object</td>\n",
       "      <td>0</td>\n",
       "    </tr>\n",
       "    <tr>\n",
       "      <th>experience</th>\n",
       "      <td>0</td>\n",
       "      <td>18359</td>\n",
       "      <td>23</td>\n",
       "      <td>object</td>\n",
       "      <td>0</td>\n",
       "    </tr>\n",
       "    <tr>\n",
       "      <th>company_size</th>\n",
       "      <td>0</td>\n",
       "      <td>18359</td>\n",
       "      <td>9</td>\n",
       "      <td>object</td>\n",
       "      <td>0</td>\n",
       "    </tr>\n",
       "    <tr>\n",
       "      <th>company_type</th>\n",
       "      <td>0</td>\n",
       "      <td>18359</td>\n",
       "      <td>7</td>\n",
       "      <td>object</td>\n",
       "      <td>0</td>\n",
       "    </tr>\n",
       "    <tr>\n",
       "      <th>last_new_job</th>\n",
       "      <td>0</td>\n",
       "      <td>18359</td>\n",
       "      <td>7</td>\n",
       "      <td>object</td>\n",
       "      <td>0</td>\n",
       "    </tr>\n",
       "    <tr>\n",
       "      <th>training_hours</th>\n",
       "      <td>0</td>\n",
       "      <td>18359</td>\n",
       "      <td>241</td>\n",
       "      <td>int64</td>\n",
       "      <td>0</td>\n",
       "    </tr>\n",
       "    <tr>\n",
       "      <th>target</th>\n",
       "      <td>0</td>\n",
       "      <td>18359</td>\n",
       "      <td>2</td>\n",
       "      <td>int64</td>\n",
       "      <td>0</td>\n",
       "    </tr>\n",
       "  </tbody>\n",
       "</table>\n",
       "</div>"
      ],
      "text/plain": [
       "                        Null_count  Non_Null_count  N_unique  D_types  \\\n",
       "enrollee_id                      0           18359     18359   object   \n",
       "city                             0           18359       123   object   \n",
       "city_development_index           0           18359        93  float64   \n",
       "gender                           0           18359         4   object   \n",
       "relevent_experience              0           18359         2   object   \n",
       "enrolled_university              0           18359         4   object   \n",
       "education_level                  0           18359         6   object   \n",
       "major_discipline                 0           18359         7   object   \n",
       "experience                       0           18359        23   object   \n",
       "company_size                     0           18359         9   object   \n",
       "company_type                     0           18359         7   object   \n",
       "last_new_job                     0           18359         7   object   \n",
       "training_hours                   0           18359       241    int64   \n",
       "target                           0           18359         2    int64   \n",
       "\n",
       "                        Blank_count  \n",
       "enrollee_id                       0  \n",
       "city                              0  \n",
       "city_development_index            0  \n",
       "gender                            0  \n",
       "relevent_experience               0  \n",
       "enrolled_university               0  \n",
       "education_level                   0  \n",
       "major_discipline                  0  \n",
       "experience                        0  \n",
       "company_size                      0  \n",
       "company_type                      0  \n",
       "last_new_job                      0  \n",
       "training_hours                    0  \n",
       "target                            0  "
      ]
     },
     "execution_count": 25,
     "metadata": {},
     "output_type": "execute_result"
    }
   ],
   "source": [
    "data_info(train.loc[:,~train.columns.str.contains('_na_ind')])"
   ]
  },
  {
   "cell_type": "code",
   "execution_count": 26,
   "metadata": {},
   "outputs": [],
   "source": [
    "train.to_csv(f'{path}/train_null_rem_1.csv',index= False)\n",
    "test.to_csv(f'{path}/test_null_rem_1.csv',index= False)"
   ]
  },
  {
   "cell_type": "markdown",
   "metadata": {},
   "source": [
    "<center><b> ***THE END** </center></b>"
   ]
  },
  {
   "cell_type": "code",
   "execution_count": 27,
   "metadata": {},
   "outputs": [],
   "source": [
    "train['city_event_rate'] = train.city.map(train.groupby('city').target.mean())\n",
    "test['city_event_rate'] = test.city.map(train.groupby('city').target.mean())"
   ]
  },
  {
   "cell_type": "code",
   "execution_count": 28,
   "metadata": {},
   "outputs": [],
   "source": [
    "train['experience_rate'] = train.experience.map(train.groupby('experience').target.mean())\n",
    "test['experience_rate'] = test.experience.map(train.groupby('experience').target.mean())"
   ]
  },
  {
   "cell_type": "code",
   "execution_count": 29,
   "metadata": {},
   "outputs": [],
   "source": [
    "train['company_size_rate'] = train.company_size.map(train.groupby('company_size').target.mean())\n",
    "test['company_size_rate'] = test.company_size.map(train.groupby('company_size').target.mean())"
   ]
  },
  {
   "cell_type": "code",
   "execution_count": 30,
   "metadata": {},
   "outputs": [],
   "source": [
    "train['company_type_rate'] = train.company_type.map(train.groupby('company_type').target.mean())\n",
    "test['company_type_rate'] = test.company_type.map(train.groupby('company_type').target.mean())"
   ]
  },
  {
   "cell_type": "code",
   "execution_count": 42,
   "metadata": {},
   "outputs": [],
   "source": [
    "train['last_new_job_rate'] = train.last_new_job.map(train.groupby('last_new_job').target.mean())\n",
    "test['last_new_job_rate'] = test.last_new_job.map(train.groupby('last_new_job').target.mean())"
   ]
  },
  {
   "cell_type": "code",
   "execution_count": 32,
   "metadata": {
    "scrolled": true
   },
   "outputs": [
    {
     "data": {
      "text/plain": [
       "0"
      ]
     },
     "execution_count": 32,
     "metadata": {},
     "output_type": "execute_result"
    }
   ],
   "source": [
    "train['experience_le'] = pd.to_numeric(train.experience.replace({'<1': '0', '>20' : '29', 'missing' : 1.5}))\n",
    "test['experience_le'] = pd.to_numeric(test.experience.replace({'<1': '0', '>20' : '29', 'missing' : 1.5}))\n",
    "train['experience_le'].isna().sum()"
   ]
  },
  {
   "cell_type": "code",
   "execution_count": 33,
   "metadata": {},
   "outputs": [
    {
     "data": {
      "text/plain": [
       "0"
      ]
     },
     "execution_count": 33,
     "metadata": {},
     "output_type": "execute_result"
    }
   ],
   "source": [
    "edu_lev_dict = {'Primary School' : 1,'High School' : 2, 'Graduate' : 3, 'Masters' : 4, 'missing' :  5, 'Phd' : 6}\n",
    "\n",
    "train['education_le'] = train.education_level.map(edu_lev_dict)\n",
    "test['education_le'] = test.education_level.map(edu_lev_dict)\n",
    "train['education_le'].isna().sum()"
   ]
  },
  {
   "cell_type": "code",
   "execution_count": 34,
   "metadata": {},
   "outputs": [
    {
     "data": {
      "text/plain": [
       "0"
      ]
     },
     "execution_count": 34,
     "metadata": {},
     "output_type": "execute_result"
    }
   ],
   "source": [
    "company_size_dict = {'<10' : 5, \n",
    "    '10/49' : 30,\n",
    "        '50-99' : 75,\n",
    "            '100-500' : 300,\n",
    "                '500-999' : 750,\n",
    "                    '1000-4999' : 3000,\n",
    "                       '5000-9999' : 7500,\n",
    "                        '10000+' : 30000,\n",
    "                            'missing' : 5200}\n",
    "#(5+30+75+300+750+3000+7500+30000)/8\n",
    "train['company_size_le'] = train.company_size.map(company_size_dict)\n",
    "test['company_size_le'] = test.company_size.map(company_size_dict)\n",
    "train['company_size_le'].isna().sum()"
   ]
  },
  {
   "cell_type": "code",
   "execution_count": 35,
   "metadata": {},
   "outputs": [
    {
     "data": {
      "text/plain": [
       "0    12955\n",
       "1     5404\n",
       "Name: stable, dtype: int64"
      ]
     },
     "execution_count": 35,
     "metadata": {},
     "output_type": "execute_result"
    }
   ],
   "source": [
    "train['stable'] = np.where(train.last_new_job.isin(['>4','3','4']),1,0)\n",
    "test['stable'] = np.where(test.last_new_job.isin(['>4','3','4']),1,0)\n",
    "train['stable'].value_counts()"
   ]
  },
  {
   "cell_type": "code",
   "execution_count": 36,
   "metadata": {},
   "outputs": [
    {
     "data": {
      "text/plain": [
       "0"
      ]
     },
     "execution_count": 36,
     "metadata": {},
     "output_type": "execute_result"
    }
   ],
   "source": [
    "last_new_job_dict = {'>4' : 5,'4' : 4, '3' : 3, '2' : 2, '1' :  1, 'never' : 0, 'missing' : 2}\n",
    "\n",
    "train['last_new_job_le'] = train.last_new_job.map(last_new_job_dict)\n",
    "test['last_new_job_le'] = test.last_new_job.map(last_new_job_dict)\n",
    "train['last_new_job_le'].isna().sum()"
   ]
  },
  {
   "cell_type": "code",
   "execution_count": 37,
   "metadata": {},
   "outputs": [
    {
     "data": {
      "text/plain": [
       "STEM          0.748298\n",
       "missing       0.154584\n",
       "low_pop       0.059644\n",
       "Humanities    0.037475\n",
       "Name: major_discipline, dtype: float64"
      ]
     },
     "execution_count": 37,
     "metadata": {},
     "output_type": "execute_result"
    }
   ],
   "source": [
    "var = 'major_discipline'\n",
    "temp = train[var].value_counts(normalize=True)\n",
    "temp = pd.Series(temp[temp> 0.03].index)\n",
    "#temp\n",
    "train[var] = np.where(train[var].isin(temp), train[var],'low_pop')\n",
    "train[var].value_counts(normalize=True)\n",
    "test[var] = np.where(test[var].isin(temp), test[var],'low_pop')"
   ]
  },
  {
   "cell_type": "code",
   "execution_count": 38,
   "metadata": {},
   "outputs": [
    {
     "data": {
      "text/plain": [
       "missing      0.260308\n",
       "50-99        0.169944\n",
       "100-500      0.146958\n",
       "10000+       0.111335\n",
       "low_pop      0.081323\n",
       "10/49        0.079852\n",
       "1000-4999    0.076202\n",
       "<10          0.074078\n",
       "Name: company_size, dtype: float64"
      ]
     },
     "execution_count": 38,
     "metadata": {},
     "output_type": "execute_result"
    }
   ],
   "source": [
    "var = 'company_size'\n",
    "temp = train[var].value_counts(normalize=True)\n",
    "temp = pd.Series(temp[temp> 0.05].index)\n",
    "#temp\n",
    "train[var] = np.where(train[var].isin(temp), train[var],'low_pop')\n",
    "train[var].value_counts(normalize=True)\n",
    "test[var] = np.where(test[var].isin(temp), test[var],'low_pop')\n"
   ]
  },
  {
   "cell_type": "code",
   "execution_count": 39,
   "metadata": {},
   "outputs": [
    {
     "data": {
      "text/plain": [
       "Pvt Ltd           0.547470\n",
       "missing           0.274470\n",
       "low_pop           0.067269\n",
       "Funded Startup    0.056539\n",
       "Public Sector     0.054251\n",
       "Name: company_type, dtype: float64"
      ]
     },
     "execution_count": 39,
     "metadata": {},
     "output_type": "execute_result"
    }
   ],
   "source": [
    "var = 'company_type'\n",
    "temp = train[var].value_counts(normalize=True)\n",
    "temp = pd.Series(temp[temp> 0.05].index)\n",
    "#temp\n",
    "train[var] = np.where(train[var].isin(temp), train[var],'low_pop')\n",
    "train[var].value_counts(normalize=True)\n",
    "test[var] = np.where(test[var].isin(temp), test[var],'low_pop')"
   ]
  },
  {
   "cell_type": "code",
   "execution_count": 40,
   "metadata": {},
   "outputs": [
    {
     "data": {
      "text/plain": [
       "1          0.412168\n",
       ">4         0.181873\n",
       "2          0.154420\n",
       "never      0.119070\n",
       "4          0.056539\n",
       "3          0.055940\n",
       "low_pop    0.019990\n",
       "Name: last_new_job, dtype: float64"
      ]
     },
     "execution_count": 40,
     "metadata": {},
     "output_type": "execute_result"
    }
   ],
   "source": [
    "var = 'last_new_job'\n",
    "temp = train[var].value_counts(normalize=True)\n",
    "temp = pd.Series(temp[temp> 0.05].index)\n",
    "#temp\n",
    "train[var] = np.where(train[var].isin(temp), train[var],'low_pop')\n",
    "train[var].value_counts(normalize=True)\n",
    "test[var] = np.where(test[var].isin(temp), test[var],'low_pop')\n"
   ]
  },
  {
   "cell_type": "code",
   "execution_count": 43,
   "metadata": {
    "scrolled": true
   },
   "outputs": [
    {
     "data": {
      "text/plain": [
       "enrollee_id                   0\n",
       "city                          0\n",
       "city_development_index        0\n",
       "gender                        0\n",
       "relevent_experience           0\n",
       "enrolled_university           0\n",
       "education_level               0\n",
       "major_discipline              0\n",
       "experience                    0\n",
       "company_size                  0\n",
       "company_type                  0\n",
       "last_new_job                  0\n",
       "training_hours                0\n",
       "target                        0\n",
       "gender_na_ind                 0\n",
       "enrolled_university_na_ind    0\n",
       "education_level_na_ind        0\n",
       "major_discipline_na_ind       0\n",
       "experience_na_ind             0\n",
       "company_size_na_ind           0\n",
       "company_type_na_ind           0\n",
       "last_new_job_na_ind           0\n",
       "city_event_rate               0\n",
       "experience_rate               0\n",
       "company_size_rate             0\n",
       "company_type_rate             0\n",
       "last_new_job_rate             0\n",
       "experience_le                 0\n",
       "education_le                  0\n",
       "company_size_le               0\n",
       "stable                        0\n",
       "last_new_job_le               0\n",
       "dtype: int64"
      ]
     },
     "execution_count": 43,
     "metadata": {},
     "output_type": "execute_result"
    }
   ],
   "source": [
    "train.isna().sum()"
   ]
  },
  {
   "cell_type": "code",
   "execution_count": 44,
   "metadata": {},
   "outputs": [],
   "source": [
    "# 5 - DIct Vectorizer on train and transforming it on test\n",
    "def dict_vec(train_set,cols,is_test, test_set):\n",
    "    \"\"\"\n",
    "    returns dict vectorizer on train set or train & test set for chosen columns\n",
    "    train_set: Dataset on which DV is to be fit\n",
    "    cols: List of columns of train_set which are to be considered for DV\n",
    "    is_test: Boolean, If DV is to be transformed on test too\n",
    "    test_set: Test set on which DV is to be transformed\n",
    "    \"\"\"\n",
    "    from sklearn.feature_extraction import DictVectorizer\n",
    "    import pandas as pd\n",
    "    dvec = DictVectorizer(sparse=False)\n",
    "    if not is_test:\n",
    "        train_dvec = dvec.fit_transform(train_set[cols].transpose().to_dict().values())\n",
    "        train_dvec = pd.DataFrame(train_dvec, index = train_set.index, columns = dvec.get_feature_names())\n",
    "        train_df = pd.concat([train_set.drop(cols, axis = 1),train_dvec], axis = 1)\n",
    "        return train_df,pd.DataFrame(),dvec\n",
    "    else:\n",
    "        train_dvec = dvec.fit_transform(train_set[cols].transpose().to_dict().values())\n",
    "        train_dvec = pd.DataFrame(train_dvec, index = train_set.index, columns = dvec.get_feature_names())\n",
    "        train_df = pd.concat([train_set.drop(cols, axis = 1),train_dvec], axis = 1)\n",
    "        test_dvec = dvec.transform(test_set[cols].transpose().to_dict().values())\n",
    "        test_dvec = pd.DataFrame(test_dvec, index = test_set.index, columns = dvec.get_feature_names())\n",
    "        test_df = pd.concat([test_set.drop(cols, axis = 1),test_dvec], axis = 1)\n",
    "        return train_df, test_df,dvec"
   ]
  },
  {
   "cell_type": "raw",
   "metadata": {},
   "source": [
    "gender,relevent_experience,enrolled_university,major_discipline,company_type"
   ]
  },
  {
   "cell_type": "code",
   "execution_count": 46,
   "metadata": {},
   "outputs": [
    {
     "data": {
      "text/plain": [
       "Index(['gender', 'relevent_experience', 'enrolled_university',\n",
       "       'education_level', 'major_discipline', 'company_size', 'company_type',\n",
       "       'last_new_job'],\n",
       "      dtype='object')"
      ]
     },
     "execution_count": 46,
     "metadata": {},
     "output_type": "execute_result"
    },
    {
     "data": {
      "text/plain": [
       "['gender',\n",
       " 'relevent_experience',\n",
       " 'enrolled_university',\n",
       " 'major_discipline',\n",
       " 'company_type']"
      ]
     },
     "execution_count": 46,
     "metadata": {},
     "output_type": "execute_result"
    }
   ],
   "source": [
    "obj_cols = train.drop(['enrollee_id','city', 'experience'],axis = 1).select_dtypes('object').columns\n",
    "#obj_cols = [x for x in train.columns if x != 'enrollee_id' or x != 'city']\n",
    "obj_cols\n",
    "sel_obj_cols = ['gender','relevent_experience','enrolled_university','major_discipline','company_type']\n",
    "sel_obj_cols"
   ]
  },
  {
   "cell_type": "code",
   "execution_count": 76,
   "metadata": {},
   "outputs": [],
   "source": [
    "df_train,df_test,dv = dict_vec(train, obj_cols,is_test = True,test_set =test)"
   ]
  },
  {
   "cell_type": "code",
   "execution_count": 77,
   "metadata": {},
   "outputs": [
    {
     "data": {
      "text/plain": [
       "(18359, 64)"
      ]
     },
     "execution_count": 77,
     "metadata": {},
     "output_type": "execute_result"
    },
    {
     "data": {
      "text/plain": [
       "(15021, 63)"
      ]
     },
     "execution_count": 77,
     "metadata": {},
     "output_type": "execute_result"
    },
    {
     "data": {
      "text/plain": [
       "Index(['enrollee_id', 'city', 'city_development_index', 'experience',\n",
       "       'training_hours', 'target', 'gender_na_ind',\n",
       "       'enrolled_university_na_ind', 'education_level_na_ind',\n",
       "       'major_discipline_na_ind', 'experience_na_ind', 'company_size_na_ind',\n",
       "       'company_type_na_ind', 'last_new_job_na_ind', 'city_event_rate',\n",
       "       'experience_rate', 'company_size_rate', 'company_type_rate',\n",
       "       'last_new_job_rate', 'experience_le', 'education_le', 'company_size_le',\n",
       "       'stable', 'last_new_job_le', 'company_size=10/49',\n",
       "       'company_size=100-500', 'company_size=1000-4999', 'company_size=10000+',\n",
       "       'company_size=50-99', 'company_size=<10', 'company_size=low_pop',\n",
       "       'company_size=missing', 'company_type=Funded Startup',\n",
       "       'company_type=Public Sector', 'company_type=Pvt Ltd',\n",
       "       'company_type=low_pop', 'company_type=missing',\n",
       "       'education_level=Graduate', 'education_level=High School',\n",
       "       'education_level=Masters', 'education_level=Phd',\n",
       "       'education_level=Primary School', 'education_level=missing',\n",
       "       'enrolled_university=Full time course',\n",
       "       'enrolled_university=Part time course', 'enrolled_university=missing',\n",
       "       'enrolled_university=no_enrollment', 'gender=Female', 'gender=Male',\n",
       "       'gender=Other', 'gender=missing', 'last_new_job=1', 'last_new_job=2',\n",
       "       'last_new_job=3', 'last_new_job=4', 'last_new_job=>4',\n",
       "       'last_new_job=low_pop', 'last_new_job=never',\n",
       "       'major_discipline=Humanities', 'major_discipline=STEM',\n",
       "       'major_discipline=low_pop', 'major_discipline=missing',\n",
       "       'relevent_experience=Has relevent experience',\n",
       "       'relevent_experience=No relevent experience'],\n",
       "      dtype='object')"
      ]
     },
     "execution_count": 77,
     "metadata": {},
     "output_type": "execute_result"
    }
   ],
   "source": [
    "df_train.shape; df_test.shape\n",
    "df_train.columns"
   ]
  },
  {
   "cell_type": "code",
   "execution_count": 78,
   "metadata": {},
   "outputs": [],
   "source": [
    "fin_cols = pd.Series(df_train.columns)\n",
    "#fin_cols\n",
    "df_train.columns = fin_cols.apply(lambda x : re.sub('>', 'grtr',x)).apply(lambda x : re.sub('<', 'smlr',x))"
   ]
  },
  {
   "cell_type": "code",
   "execution_count": 79,
   "metadata": {},
   "outputs": [],
   "source": [
    "fin_cols_test = pd.Series(df_test.columns)\n",
    "#fin_cols\n",
    "df_test.columns = fin_cols_test.apply(lambda x : re.sub('>', 'grtr',x)).apply(lambda x : re.sub('<', 'smlr',x))"
   ]
  },
  {
   "cell_type": "code",
   "execution_count": 80,
   "metadata": {},
   "outputs": [],
   "source": [
    "df_train.to_csv(f'{path}/train_for_model.csv',index= False)\n",
    "df_test.to_csv(f'{path}/test_for_model.csv',index= False)"
   ]
  },
  {
   "cell_type": "code",
   "execution_count": null,
   "metadata": {},
   "outputs": [],
   "source": []
  },
  {
   "cell_type": "code",
   "execution_count": null,
   "metadata": {},
   "outputs": [],
   "source": []
  },
  {
   "cell_type": "markdown",
   "metadata": {},
   "source": [
    "# Modelling"
   ]
  },
  {
   "cell_type": "code",
   "execution_count": 81,
   "metadata": {},
   "outputs": [
    {
     "data": {
      "text/plain": [
       "Index(['city_development_index', 'training_hours', 'gender_na_ind',\n",
       "       'enrolled_university_na_ind', 'education_level_na_ind',\n",
       "       'major_discipline_na_ind', 'experience_na_ind', 'company_size_na_ind',\n",
       "       'company_type_na_ind', 'last_new_job_na_ind', 'city_event_rate',\n",
       "       'experience_rate', 'company_size_rate', 'company_type_rate',\n",
       "       'last_new_job_rate', 'experience_le', 'education_le', 'company_size_le',\n",
       "       'stable', 'last_new_job_le', 'company_size=10/49',\n",
       "       'company_size=100-500', 'company_size=1000-4999', 'company_size=10000+',\n",
       "       'company_size=50-99', 'company_size=smlr10', 'company_size=low_pop',\n",
       "       'company_size=missing', 'company_type=Funded Startup',\n",
       "       'company_type=Public Sector', 'company_type=Pvt Ltd',\n",
       "       'company_type=low_pop', 'company_type=missing',\n",
       "       'education_level=Graduate', 'education_level=High School',\n",
       "       'education_level=Masters', 'education_level=Phd',\n",
       "       'education_level=Primary School', 'education_level=missing',\n",
       "       'enrolled_university=Full time course',\n",
       "       'enrolled_university=Part time course', 'enrolled_university=missing',\n",
       "       'enrolled_university=no_enrollment', 'gender=Female', 'gender=Male',\n",
       "       'gender=Other', 'gender=missing', 'last_new_job=1', 'last_new_job=2',\n",
       "       'last_new_job=3', 'last_new_job=4', 'last_new_job=grtr4',\n",
       "       'last_new_job=low_pop', 'last_new_job=never',\n",
       "       'major_discipline=Humanities', 'major_discipline=STEM',\n",
       "       'major_discipline=low_pop', 'major_discipline=missing',\n",
       "       'relevent_experience=Has relevent experience',\n",
       "       'relevent_experience=No relevent experience'],\n",
       "      dtype='object')"
      ]
     },
     "execution_count": 81,
     "metadata": {},
     "output_type": "execute_result"
    }
   ],
   "source": [
    "features = df_train.select_dtypes('number').drop('target', axis = 1).columns\n",
    "features"
   ]
  },
  {
   "cell_type": "raw",
   "metadata": {},
   "source": [
    "features = train.select_dtypes('number')drop(['enrollee_id','city', 'experience','target'],axis = 1).columns\n",
    "train[features].dtypes"
   ]
  },
  {
   "cell_type": "code",
   "execution_count": 82,
   "metadata": {},
   "outputs": [],
   "source": [
    "X_train, X_test, y_train, y_test = train_test_split(df_train[features],\\\n",
    "                df_train.target,test_size = 0.20, random_state = 69, stratify = df_train.target)"
   ]
  },
  {
   "cell_type": "code",
   "execution_count": 83,
   "metadata": {},
   "outputs": [
    {
     "data": {
      "text/plain": [
       "((14687, 60), (3672, 60))"
      ]
     },
     "execution_count": 83,
     "metadata": {},
     "output_type": "execute_result"
    },
    {
     "data": {
      "text/html": [
       "<div>\n",
       "<style scoped>\n",
       "    .dataframe tbody tr th:only-of-type {\n",
       "        vertical-align: middle;\n",
       "    }\n",
       "\n",
       "    .dataframe tbody tr th {\n",
       "        vertical-align: top;\n",
       "    }\n",
       "\n",
       "    .dataframe thead th {\n",
       "        text-align: right;\n",
       "    }\n",
       "</style>\n",
       "<table border=\"1\" class=\"dataframe\">\n",
       "  <thead>\n",
       "    <tr style=\"text-align: right;\">\n",
       "      <th></th>\n",
       "      <th>city_development_index</th>\n",
       "      <th>training_hours</th>\n",
       "      <th>gender_na_ind</th>\n",
       "      <th>enrolled_university_na_ind</th>\n",
       "      <th>education_level_na_ind</th>\n",
       "      <th>major_discipline_na_ind</th>\n",
       "      <th>experience_na_ind</th>\n",
       "      <th>company_size_na_ind</th>\n",
       "      <th>company_type_na_ind</th>\n",
       "      <th>last_new_job_na_ind</th>\n",
       "      <th>...</th>\n",
       "      <th>last_new_job=4</th>\n",
       "      <th>last_new_job=grtr4</th>\n",
       "      <th>last_new_job=low_pop</th>\n",
       "      <th>last_new_job=never</th>\n",
       "      <th>major_discipline=Humanities</th>\n",
       "      <th>major_discipline=STEM</th>\n",
       "      <th>major_discipline=low_pop</th>\n",
       "      <th>major_discipline=missing</th>\n",
       "      <th>relevent_experience=Has relevent experience</th>\n",
       "      <th>relevent_experience=No relevent experience</th>\n",
       "    </tr>\n",
       "  </thead>\n",
       "  <tbody>\n",
       "    <tr>\n",
       "      <th>13809</th>\n",
       "      <td>0.698</td>\n",
       "      <td>72</td>\n",
       "      <td>0</td>\n",
       "      <td>0</td>\n",
       "      <td>0</td>\n",
       "      <td>0</td>\n",
       "      <td>0</td>\n",
       "      <td>1</td>\n",
       "      <td>1</td>\n",
       "      <td>0</td>\n",
       "      <td>...</td>\n",
       "      <td>0.0</td>\n",
       "      <td>0.0</td>\n",
       "      <td>0.0</td>\n",
       "      <td>0.0</td>\n",
       "      <td>0.0</td>\n",
       "      <td>1.0</td>\n",
       "      <td>0.0</td>\n",
       "      <td>0.0</td>\n",
       "      <td>0.0</td>\n",
       "      <td>1.0</td>\n",
       "    </tr>\n",
       "    <tr>\n",
       "      <th>1784</th>\n",
       "      <td>0.897</td>\n",
       "      <td>254</td>\n",
       "      <td>0</td>\n",
       "      <td>0</td>\n",
       "      <td>0</td>\n",
       "      <td>0</td>\n",
       "      <td>0</td>\n",
       "      <td>0</td>\n",
       "      <td>0</td>\n",
       "      <td>0</td>\n",
       "      <td>...</td>\n",
       "      <td>0.0</td>\n",
       "      <td>1.0</td>\n",
       "      <td>0.0</td>\n",
       "      <td>0.0</td>\n",
       "      <td>0.0</td>\n",
       "      <td>1.0</td>\n",
       "      <td>0.0</td>\n",
       "      <td>0.0</td>\n",
       "      <td>1.0</td>\n",
       "      <td>0.0</td>\n",
       "    </tr>\n",
       "    <tr>\n",
       "      <th>3895</th>\n",
       "      <td>0.926</td>\n",
       "      <td>18</td>\n",
       "      <td>1</td>\n",
       "      <td>1</td>\n",
       "      <td>1</td>\n",
       "      <td>1</td>\n",
       "      <td>0</td>\n",
       "      <td>1</td>\n",
       "      <td>1</td>\n",
       "      <td>0</td>\n",
       "      <td>...</td>\n",
       "      <td>0.0</td>\n",
       "      <td>0.0</td>\n",
       "      <td>0.0</td>\n",
       "      <td>0.0</td>\n",
       "      <td>0.0</td>\n",
       "      <td>0.0</td>\n",
       "      <td>0.0</td>\n",
       "      <td>1.0</td>\n",
       "      <td>0.0</td>\n",
       "      <td>1.0</td>\n",
       "    </tr>\n",
       "    <tr>\n",
       "      <th>15444</th>\n",
       "      <td>0.624</td>\n",
       "      <td>23</td>\n",
       "      <td>1</td>\n",
       "      <td>0</td>\n",
       "      <td>0</td>\n",
       "      <td>0</td>\n",
       "      <td>0</td>\n",
       "      <td>0</td>\n",
       "      <td>0</td>\n",
       "      <td>0</td>\n",
       "      <td>...</td>\n",
       "      <td>0.0</td>\n",
       "      <td>0.0</td>\n",
       "      <td>0.0</td>\n",
       "      <td>0.0</td>\n",
       "      <td>0.0</td>\n",
       "      <td>1.0</td>\n",
       "      <td>0.0</td>\n",
       "      <td>0.0</td>\n",
       "      <td>1.0</td>\n",
       "      <td>0.0</td>\n",
       "    </tr>\n",
       "    <tr>\n",
       "      <th>16193</th>\n",
       "      <td>0.878</td>\n",
       "      <td>106</td>\n",
       "      <td>1</td>\n",
       "      <td>0</td>\n",
       "      <td>0</td>\n",
       "      <td>0</td>\n",
       "      <td>0</td>\n",
       "      <td>0</td>\n",
       "      <td>0</td>\n",
       "      <td>0</td>\n",
       "      <td>...</td>\n",
       "      <td>0.0</td>\n",
       "      <td>1.0</td>\n",
       "      <td>0.0</td>\n",
       "      <td>0.0</td>\n",
       "      <td>0.0</td>\n",
       "      <td>1.0</td>\n",
       "      <td>0.0</td>\n",
       "      <td>0.0</td>\n",
       "      <td>0.0</td>\n",
       "      <td>1.0</td>\n",
       "    </tr>\n",
       "  </tbody>\n",
       "</table>\n",
       "<p>5 rows × 60 columns</p>\n",
       "</div>"
      ],
      "text/plain": [
       "       city_development_index  training_hours  gender_na_ind  \\\n",
       "13809                   0.698              72              0   \n",
       "1784                    0.897             254              0   \n",
       "3895                    0.926              18              1   \n",
       "15444                   0.624              23              1   \n",
       "16193                   0.878             106              1   \n",
       "\n",
       "       enrolled_university_na_ind  education_level_na_ind  \\\n",
       "13809                           0                       0   \n",
       "1784                            0                       0   \n",
       "3895                            1                       1   \n",
       "15444                           0                       0   \n",
       "16193                           0                       0   \n",
       "\n",
       "       major_discipline_na_ind  experience_na_ind  company_size_na_ind  \\\n",
       "13809                        0                  0                    1   \n",
       "1784                         0                  0                    0   \n",
       "3895                         1                  0                    1   \n",
       "15444                        0                  0                    0   \n",
       "16193                        0                  0                    0   \n",
       "\n",
       "       company_type_na_ind  last_new_job_na_ind  ...  last_new_job=4  \\\n",
       "13809                    1                    0  ...             0.0   \n",
       "1784                     0                    0  ...             0.0   \n",
       "3895                     1                    0  ...             0.0   \n",
       "15444                    0                    0  ...             0.0   \n",
       "16193                    0                    0  ...             0.0   \n",
       "\n",
       "       last_new_job=grtr4  last_new_job=low_pop  last_new_job=never  \\\n",
       "13809                 0.0                   0.0                 0.0   \n",
       "1784                  1.0                   0.0                 0.0   \n",
       "3895                  0.0                   0.0                 0.0   \n",
       "15444                 0.0                   0.0                 0.0   \n",
       "16193                 1.0                   0.0                 0.0   \n",
       "\n",
       "       major_discipline=Humanities  major_discipline=STEM  \\\n",
       "13809                          0.0                    1.0   \n",
       "1784                           0.0                    1.0   \n",
       "3895                           0.0                    0.0   \n",
       "15444                          0.0                    1.0   \n",
       "16193                          0.0                    1.0   \n",
       "\n",
       "       major_discipline=low_pop  major_discipline=missing  \\\n",
       "13809                       0.0                       0.0   \n",
       "1784                        0.0                       0.0   \n",
       "3895                        0.0                       1.0   \n",
       "15444                       0.0                       0.0   \n",
       "16193                       0.0                       0.0   \n",
       "\n",
       "       relevent_experience=Has relevent experience  \\\n",
       "13809                                          0.0   \n",
       "1784                                           1.0   \n",
       "3895                                           0.0   \n",
       "15444                                          1.0   \n",
       "16193                                          0.0   \n",
       "\n",
       "       relevent_experience=No relevent experience  \n",
       "13809                                         1.0  \n",
       "1784                                          0.0  \n",
       "3895                                          1.0  \n",
       "15444                                         0.0  \n",
       "16193                                         1.0  \n",
       "\n",
       "[5 rows x 60 columns]"
      ]
     },
     "execution_count": 83,
     "metadata": {},
     "output_type": "execute_result"
    }
   ],
   "source": [
    "X_train.shape, X_test.shape\n",
    "X_train.head()"
   ]
  },
  {
   "cell_type": "code",
   "execution_count": 84,
   "metadata": {
    "scrolled": true
   },
   "outputs": [
    {
     "data": {
      "text/plain": [
       "0    12747\n",
       "1     1940\n",
       "Name: target, dtype: int64"
      ]
     },
     "execution_count": 84,
     "metadata": {},
     "output_type": "execute_result"
    },
    {
     "data": {
      "text/plain": [
       "6.570618556701031"
      ]
     },
     "execution_count": 84,
     "metadata": {},
     "output_type": "execute_result"
    }
   ],
   "source": [
    "y_train.value_counts()\n",
    "12747/1940"
   ]
  },
  {
   "cell_type": "code",
   "execution_count": null,
   "metadata": {},
   "outputs": [],
   "source": []
  },
  {
   "cell_type": "code",
   "execution_count": null,
   "metadata": {},
   "outputs": [],
   "source": [
    "xgbm = XGBClassifier(random_state = 69, colsample = 0.45, learning_rate = 0.01, subsample = 0.58,n_estimators =500,\\\n",
    "           scale_pos_weight  = 5.2)  #0.68955"
   ]
  },
  {
   "cell_type": "code",
   "execution_count": null,
   "metadata": {},
   "outputs": [],
   "source": [
    "cv_params = {'max_depth': [1,2,3,4,5,6], 'min_child_weight': [1,2,3,4]}    # parameters to be tries in the grid search\n",
    "fix_params = {'learning_rate': 0.2, 'n_estimators': 100, 'objective': 'binary:logistic'}   #other parameters, fixed for the moment \n",
    "csv = GridSearchCV(xgb.XGBClassifier(**fix_params), cv_params, scoring = 'f1', cv = 5)"
   ]
  },
  {
   "cell_type": "code",
   "execution_count": 214,
   "metadata": {},
   "outputs": [],
   "source": [
    "params = {\n",
    "        #'min_child_weight': [1, 5, 10],\n",
    "        #'gamma': [0.5, 1, 1.5, 2, 5],\n",
    "        'subsample': np.arange(0.5,7,0.025),\n",
    "        'colsample_bytree': np.arange(0.5,0.7,0.025),\n",
    "        #'max_depth': np.arange(3,11,1),\n",
    "        #'n_estimators': np.arange(100,501,50),\n",
    "        'scale_pos_weight' : np.arange(4.7,5.7,0.1),\n",
    "        }"
   ]
  },
  {
   "cell_type": "code",
   "execution_count": 233,
   "metadata": {},
   "outputs": [
    {
     "data": {
      "text/plain": [
       "0.041044776119402986"
      ]
     },
     "execution_count": 233,
     "metadata": {},
     "output_type": "execute_result"
    }
   ],
   "source": [
    "11/268"
   ]
  },
  {
   "cell_type": "code",
   "execution_count": 215,
   "metadata": {},
   "outputs": [],
   "source": [
    "xgb = XGBClassifier(objective='binary:logistic',\n",
    "                    silent=True, n_jobs = -1,random_state = 53)"
   ]
  },
  {
   "cell_type": "code",
   "execution_count": 224,
   "metadata": {},
   "outputs": [],
   "source": [
    "folds = 3\n",
    "param_comb = 40\n",
    "\n",
    "skf = StratifiedKFold(n_splits=folds, shuffle = True, random_state = 1001)"
   ]
  },
  {
   "cell_type": "code",
   "execution_count": 229,
   "metadata": {},
   "outputs": [],
   "source": [
    "random_search = RandomizedSearchCV(xgb, param_distributions=params, n_iter=param_comb, \\\n",
    "          scoring=['f1_macro', 'roc_auc'], n_jobs=-1, cv=skf, verbose=3, random_state=None,refit = 'roc_auc')"
   ]
  },
  {
   "cell_type": "code",
   "execution_count": 230,
   "metadata": {},
   "outputs": [
    {
     "name": "stdout",
     "output_type": "stream",
     "text": [
      "Fitting 3 folds for each of 40 candidates, totalling 120 fits\n"
     ]
    },
    {
     "name": "stderr",
     "output_type": "stream",
     "text": [
      "[Parallel(n_jobs=-1)]: Using backend LokyBackend with 8 concurrent workers.\n",
      "[Parallel(n_jobs=-1)]: Done  16 tasks      | elapsed:    0.2s\n",
      "[Parallel(n_jobs=-1)]: Done 120 out of 120 | elapsed:   33.8s finished\n"
     ]
    },
    {
     "name": "stdout",
     "output_type": "stream",
     "text": [
      "Wall time: 43.2 s\n"
     ]
    },
    {
     "data": {
      "text/plain": [
       "RandomizedSearchCV(cv=StratifiedKFold(n_splits=3, random_state=1001, shuffle=True),\n",
       "                   error_score=nan,\n",
       "                   estimator=XGBClassifier(base_score=None, booster=None,\n",
       "                                           colsample_bylevel=None,\n",
       "                                           colsample_bynode=None,\n",
       "                                           colsample_bytree=None, gamma=None,\n",
       "                                           gpu_id=None, importance_type='gain',\n",
       "                                           interaction_constraints=None,\n",
       "                                           learning_rate=None,\n",
       "                                           max_delta_step=None, max_depth=None,\n",
       "                                           min_...\n",
       "       5.9  , 5.925, 5.95 , 5.975, 6.   , 6.025, 6.05 , 6.075, 6.1  ,\n",
       "       6.125, 6.15 , 6.175, 6.2  , 6.225, 6.25 , 6.275, 6.3  , 6.325,\n",
       "       6.35 , 6.375, 6.4  , 6.425, 6.45 , 6.475, 6.5  , 6.525, 6.55 ,\n",
       "       6.575, 6.6  , 6.625, 6.65 , 6.675, 6.7  , 6.725, 6.75 , 6.775,\n",
       "       6.8  , 6.825, 6.85 , 6.875, 6.9  , 6.925, 6.95 , 6.975])},\n",
       "                   pre_dispatch='2*n_jobs', random_state=None, refit='roc_auc',\n",
       "                   return_train_score=False, scoring=['f1_macro', 'roc_auc'],\n",
       "                   verbose=3)"
      ]
     },
     "execution_count": 230,
     "metadata": {},
     "output_type": "execute_result"
    }
   ],
   "source": [
    "%%time\n",
    "random_search.fit(X_train, y_train,);"
   ]
  },
  {
   "cell_type": "code",
   "execution_count": 231,
   "metadata": {},
   "outputs": [
    {
     "data": {
      "text/plain": [
       "'train_roca : 0.9244077239924655 ; test_roca : 0.6507826576394438'"
      ]
     },
     "execution_count": 231,
     "metadata": {},
     "output_type": "execute_result"
    },
    {
     "data": {
      "text/plain": [
       "'train_f1_s : 0.606273134619131 ; test_f1_s : 0.3076923076923077'"
      ]
     },
     "execution_count": 231,
     "metadata": {},
     "output_type": "execute_result"
    },
    {
     "data": {
      "text/plain": [
       "'train_prec : 0.4873160037582211 ; test_prec : 0.25333333333333335'"
      ]
     },
     "execution_count": 231,
     "metadata": {},
     "output_type": "execute_result"
    },
    {
     "data": {
      "text/plain": [
       "'train_reca : 0.8020618556701031 ; test_reca : 0.3917525773195876'"
      ]
     },
     "execution_count": 231,
     "metadata": {},
     "output_type": "execute_result"
    },
    {
     "data": {
      "text/plain": [
       "'train_accu : 0.8623953155852114 ; test_accu : 0.7671568627450981'"
      ]
     },
     "execution_count": 231,
     "metadata": {},
     "output_type": "execute_result"
    },
    {
     "data": {
      "text/plain": [
       "'train_conf : [[11110  1637]\\n [  384  1556]] ; test_conf : [[2627  560]\\n [ 295  190]]'"
      ]
     },
     "execution_count": 231,
     "metadata": {},
     "output_type": "execute_result"
    }
   ],
   "source": [
    "estimator= random_search\n",
    "pred_bin_tr = estimator.predict(X_train)\n",
    "pred_bin_te = estimator.predict(X_test)\n",
    "f'train_roca : {roc_auc_score(y_train,estimator.predict_proba(X_train)[:,1])} ; test_roca : {roc_auc_score(y_test,estimator.predict_proba(X_test)[:,1])}'\n",
    "f'train_f1_s : {f1_score(y_train,pred_bin_tr)} ; test_f1_s : {f1_score(y_test,pred_bin_te)}'\n",
    "f'train_prec : {precision_score(y_train,pred_bin_tr)} ; test_prec : {precision_score(y_test,pred_bin_te)}'\n",
    "f'train_reca : {recall_score(y_train,pred_bin_tr)} ; test_reca : {recall_score(y_test,pred_bin_te)}'\n",
    "f'train_accu : {accuracy_score(y_train,pred_bin_tr)} ; test_accu : {accuracy_score(y_test,pred_bin_te)}'\n",
    "f'train_conf : {confusion_matrix(y_train,pred_bin_tr)} ; test_conf : {confusion_matrix(y_test,pred_bin_te)}'"
   ]
  },
  {
   "cell_type": "code",
   "execution_count": 232,
   "metadata": {},
   "outputs": [],
   "source": [
    "estimator = random_search\n",
    "df_sub = df_test[['enrollee_id']]\n",
    "df_sub['target'] = estimator.predict_proba(df_test[features])[:,1]\n",
    "df_sub['target'] = estimator.predict(df_test[features])\n",
    "df_sub.to_csv(f'{path}/my_submission_v5.csv',index = False)"
   ]
  },
  {
   "cell_type": "code",
   "execution_count": 222,
   "metadata": {
    "scrolled": true
   },
   "outputs": [
    {
     "data": {
      "text/plain": [
       "'train_roca : 0.748124624431542 ; test_roca : 0.6895516256441276'"
      ]
     },
     "execution_count": 222,
     "metadata": {},
     "output_type": "execute_result"
    },
    {
     "data": {
      "text/plain": [
       "'train_f1_s : 0.3815616180620885 ; test_f1_s : 0.33872209391839875'"
      ]
     },
     "execution_count": 222,
     "metadata": {},
     "output_type": "execute_result"
    },
    {
     "data": {
      "text/plain": [
       "'train_prec : 0.30044444444444446 ; test_prec : 0.2702702702702703'"
      ]
     },
     "execution_count": 222,
     "metadata": {},
     "output_type": "execute_result"
    },
    {
     "data": {
      "text/plain": [
       "'train_reca : 0.522680412371134 ; test_reca : 0.4536082474226804'"
      ]
     },
     "execution_count": 222,
     "metadata": {},
     "output_type": "execute_result"
    },
    {
     "data": {
      "text/plain": [
       "'train_accu : 0.7761966364812419 ; test_accu : 0.7660675381263616'"
      ]
     },
     "execution_count": 222,
     "metadata": {},
     "output_type": "execute_result"
    },
    {
     "data": {
      "text/plain": [
       "'train_conf : [[10386  2361]\\n [  926  1014]] ; test_conf : [[2593  594]\\n [ 265  220]]'"
      ]
     },
     "execution_count": 222,
     "metadata": {},
     "output_type": "execute_result"
    }
   ],
   "source": [
    "estimator= xgbm\n",
    "pred_bin_tr = estimator.predict(X_train)\n",
    "pred_bin_te = estimator.predict(X_test)\n",
    "f'train_roca : {roc_auc_score(y_train,estimator.predict_proba(X_train)[:,1])} ; test_roca : {roc_auc_score(y_test,estimator.predict_proba(X_test)[:,1])}'\n",
    "f'train_f1_s : {f1_score(y_train,pred_bin_tr)} ; test_f1_s : {f1_score(y_test,pred_bin_te)}'\n",
    "f'train_prec : {precision_score(y_train,pred_bin_tr)} ; test_prec : {precision_score(y_test,pred_bin_te)}'\n",
    "f'train_reca : {recall_score(y_train,pred_bin_tr)} ; test_reca : {recall_score(y_test,pred_bin_te)}'\n",
    "f'train_accu : {accuracy_score(y_train,pred_bin_tr)} ; test_accu : {accuracy_score(y_test,pred_bin_te)}'\n",
    "f'train_conf : {confusion_matrix(y_train,pred_bin_tr)} ; test_conf : {confusion_matrix(y_test,pred_bin_te)}'"
   ]
  },
  {
   "cell_type": "code",
   "execution_count": null,
   "metadata": {},
   "outputs": [],
   "source": []
  },
  {
   "cell_type": "code",
   "execution_count": null,
   "metadata": {},
   "outputs": [],
   "source": [
    "estimator = random_search\n",
    "df_sub = df_test[['enrollee_id']]\n",
    "df_sub['target'] = estimator.predict_proba(df_test[features])[:,1]\n",
    "df_sub['target'] = estimator.predict(df_test[features])\n",
    "df_sub.to_csv(f'{path}/my_submission_v4.csv',index = False)"
   ]
  },
  {
   "cell_type": "code",
   "execution_count": null,
   "metadata": {},
   "outputs": [],
   "source": [
    "rf_disp = plot_roc_curve(random_search, X_test, y_test)\n",
    "ax = plt.gca()\n",
    "#stk_disp = plot_roc_curve(clf, X_test, y_test, ax=ax, alpha=0.8)\n",
    "xgb_disp = plot_roc_curve(xgb_best1, X_test, y_test, ax=ax, alpha=0.8)\n",
    "lr_disp = plot_roc_curve(logreg, X_test, y_test, ax=ax, alpha=0.8)\n",
    "plt.show()"
   ]
  },
  {
   "cell_type": "code",
   "execution_count": null,
   "metadata": {},
   "outputs": [],
   "source": []
  },
  {
   "cell_type": "code",
   "execution_count": null,
   "metadata": {},
   "outputs": [],
   "source": [
    "XGBClassifier(base_score=0.5, booster=None, colsample_bylevel=1,\n",
    "              colsample_bynode=1, colsample_bytree=0.6, gamma=5, gpu_id=-1,\n",
    "              importance_type='gain', interaction_constraints=None,\n",
    "              learning_rate=0.02, max_delta_step=0, max_depth=5,\n",
    "              min_child_weight=5, missing=nan, monotone_constraints=None,\n",
    "              n_estimators=600, n_jobs=-1, num_parallel_tree=1,\n",
    "              objective='binary:logistic', random_state=0, reg_alpha=0,\n",
    "              reg_lambda=1, scale_pos_weight=1, silent=True, subsample=1.0,\n",
    "              tree_method=None, validate_parameters=False, verbosity=None)"
   ]
  },
  {
   "cell_type": "code",
   "execution_count": null,
   "metadata": {},
   "outputs": [],
   "source": []
  },
  {
   "cell_type": "code",
   "execution_count": null,
   "metadata": {},
   "outputs": [],
   "source": []
  },
  {
   "cell_type": "code",
   "execution_count": null,
   "metadata": {},
   "outputs": [],
   "source": [
    "logreg = LogisticRegression(max_iter= 10000,tol = 1e-5,C=2)"
   ]
  },
  {
   "cell_type": "code",
   "execution_count": null,
   "metadata": {
    "scrolled": true
   },
   "outputs": [],
   "source": [
    "%%time\n",
    "logreg.fit(df_train[features],df_train.target)"
   ]
  },
  {
   "cell_type": "code",
   "execution_count": null,
   "metadata": {},
   "outputs": [],
   "source": [
    "all_accuracies_data = cross_val_score(estimator=logreg, X=df_train[features], y=df_train.target, cv=5,scoring = 'roc_auc')\n",
    "all_accuracies_data\n",
    "print(\"Full Accuracy: %0.2f(+/- %0.2f)\" % (all_accuracies_data.mean(), all_accuracies_data.std()*2))\n"
   ]
  },
  {
   "cell_type": "code",
   "execution_count": null,
   "metadata": {},
   "outputs": [],
   "source": [
    "roc_auc_score(df_train.target, logreg.predict_proba(df_train[features])[:,1])"
   ]
  },
  {
   "cell_type": "code",
   "execution_count": null,
   "metadata": {},
   "outputs": [],
   "source": [
    "pred_bin = logreg.predict(df_train[features])\n",
    "precision_score(df_train.target,pred_bin)\n",
    "recall_score(df_train.target,pred_bin)\n",
    "confusion_matrix(df_train.target,pred_bin)\n",
    "accuracy_score(df_train.target,pred_bin)\n",
    "f1_score(df_train.target ,pred_bin)#df_train[features]"
   ]
  },
  {
   "cell_type": "code",
   "execution_count": null,
   "metadata": {},
   "outputs": [],
   "source": [
    "df_sub = df_test[['enrollee_id']]\n",
    "df_sub['target'] = logreg.predict_proba(df_test[features])[:,1]\n",
    "df_sub['target'] = logreg.predict(df_test[features])\n",
    "df_sub.to_csv(f'{path}/my_submission_v2.csv',index = False)"
   ]
  },
  {
   "cell_type": "code",
   "execution_count": null,
   "metadata": {},
   "outputs": [],
   "source": [
    "xgb"
   ]
  },
  {
   "cell_type": "code",
   "execution_count": null,
   "metadata": {},
   "outputs": [],
   "source": [
    "train.target.value_counts()\n",
    "15934/2425"
   ]
  },
  {
   "cell_type": "code",
   "execution_count": null,
   "metadata": {},
   "outputs": [],
   "source": [
    "from xgboost import XGBClassifier\n",
    "xgb = XGBClassifier(random_state = 69, colsample = 0.5, learning_rate = 0.05, subsample = 0.6,n_estimators =500,\\\n",
    "           scale_pos_weight  = 6.57,)"
   ]
  },
  {
   "cell_type": "code",
   "execution_count": null,
   "metadata": {},
   "outputs": [],
   "source": [
    "features = df_train.drop(['enrollee_id','city','experience','target'],axis =1).columns"
   ]
  },
  {
   "cell_type": "code",
   "execution_count": null,
   "metadata": {},
   "outputs": [],
   "source": [
    "%%time\n",
    "xgb.fit(df_train[features],df_train.target)"
   ]
  },
  {
   "cell_type": "code",
   "execution_count": null,
   "metadata": {},
   "outputs": [],
   "source": []
  },
  {
   "cell_type": "code",
   "execution_count": 101,
   "metadata": {},
   "outputs": [],
   "source": [
    "\n",
    "from sklearn.model_selection import StratifiedKFold\n",
    "skf = StratifiedKFold(n_splits = 5,shuffle = True, random_state=69)"
   ]
  },
  {
   "cell_type": "code",
   "execution_count": 107,
   "metadata": {},
   "outputs": [
    {
     "data": {
      "text/plain": [
       "XGBClassifier(base_score=None, booster=None, colsample_bylevel=None,\n",
       "              colsample_bynode=None, colsample_bytree=None, gamma=None,\n",
       "              gpu_id=None, importance_type='gain', interaction_constraints=None,\n",
       "              learning_rate=None, max_delta_step=None, max_depth=None,\n",
       "              min_child_weight=None, missing=nan, monotone_constraints=None,\n",
       "              n_estimators=100, n_jobs=None, num_parallel_tree=None,\n",
       "              objective='binary:logistic', random_state=None, reg_alpha=None,\n",
       "              reg_lambda=None, scale_pos_weight=None, subsample=None,\n",
       "              tree_method=None, validate_parameters=False, verbosity=None)"
      ]
     },
     "execution_count": 107,
     "metadata": {},
     "output_type": "execute_result"
    }
   ],
   "source": [
    "XGBClassifier()"
   ]
  },
  {
   "cell_type": "code",
   "execution_count": 170,
   "metadata": {},
   "outputs": [],
   "source": [
    "xgbm = XGBClassifier(random_state = 69, colsample = 0.45, learning_rate = 0.01, subsample = 0.58,n_estimators =500,\\\n",
    "           scale_pos_weight  = 5.2)"
   ]
  },
  {
   "cell_type": "code",
   "execution_count": 171,
   "metadata": {
    "scrolled": false
   },
   "outputs": [
    {
     "name": "stdout",
     "output_type": "stream",
     "text": [
      "[0]\tvalidation_0-auc:0.68909\tvalidation_1-auc:0.64123\n",
      "Multiple eval metrics have been passed: 'validation_1-auc' will be used for early stopping.\n",
      "\n",
      "Will train until validation_1-auc hasn't improved in 100 rounds.\n",
      "[1]\tvalidation_0-auc:0.71439\tvalidation_1-auc:0.64954\n",
      "[2]\tvalidation_0-auc:0.72536\tvalidation_1-auc:0.66707\n",
      "[3]\tvalidation_0-auc:0.72895\tvalidation_1-auc:0.67295\n",
      "[4]\tvalidation_0-auc:0.73220\tvalidation_1-auc:0.67378\n",
      "[5]\tvalidation_0-auc:0.73614\tvalidation_1-auc:0.67473\n",
      "[6]\tvalidation_0-auc:0.73838\tvalidation_1-auc:0.67614\n",
      "[7]\tvalidation_0-auc:0.73944\tvalidation_1-auc:0.67728\n",
      "[8]\tvalidation_0-auc:0.74014\tvalidation_1-auc:0.67968\n",
      "[9]\tvalidation_0-auc:0.74065\tvalidation_1-auc:0.68014\n",
      "[10]\tvalidation_0-auc:0.74178\tvalidation_1-auc:0.68142\n",
      "[11]\tvalidation_0-auc:0.74252\tvalidation_1-auc:0.68230\n",
      "[12]\tvalidation_0-auc:0.74350\tvalidation_1-auc:0.68333\n",
      "[13]\tvalidation_0-auc:0.74400\tvalidation_1-auc:0.68388\n",
      "[14]\tvalidation_0-auc:0.74492\tvalidation_1-auc:0.68522\n",
      "[15]\tvalidation_0-auc:0.74568\tvalidation_1-auc:0.68512\n",
      "[16]\tvalidation_0-auc:0.74617\tvalidation_1-auc:0.68489\n",
      "[17]\tvalidation_0-auc:0.74608\tvalidation_1-auc:0.68598\n",
      "[18]\tvalidation_0-auc:0.74632\tvalidation_1-auc:0.68540\n",
      "[19]\tvalidation_0-auc:0.74610\tvalidation_1-auc:0.68549\n",
      "[20]\tvalidation_0-auc:0.74643\tvalidation_1-auc:0.68558\n",
      "[21]\tvalidation_0-auc:0.74674\tvalidation_1-auc:0.68506\n",
      "[22]\tvalidation_0-auc:0.74669\tvalidation_1-auc:0.68643\n",
      "[23]\tvalidation_0-auc:0.74775\tvalidation_1-auc:0.68560\n",
      "[24]\tvalidation_0-auc:0.74786\tvalidation_1-auc:0.68598\n",
      "[25]\tvalidation_0-auc:0.74845\tvalidation_1-auc:0.68627\n",
      "[26]\tvalidation_0-auc:0.74838\tvalidation_1-auc:0.68609\n",
      "[27]\tvalidation_0-auc:0.74859\tvalidation_1-auc:0.68723\n",
      "[28]\tvalidation_0-auc:0.74863\tvalidation_1-auc:0.68795\n",
      "[29]\tvalidation_0-auc:0.74849\tvalidation_1-auc:0.68847\n",
      "[30]\tvalidation_0-auc:0.74865\tvalidation_1-auc:0.68932\n",
      "[31]\tvalidation_0-auc:0.74856\tvalidation_1-auc:0.68932\n",
      "[32]\tvalidation_0-auc:0.74842\tvalidation_1-auc:0.68948\n",
      "[33]\tvalidation_0-auc:0.74828\tvalidation_1-auc:0.68885\n",
      "[34]\tvalidation_0-auc:0.74813\tvalidation_1-auc:0.68955\n",
      "[35]\tvalidation_0-auc:0.74839\tvalidation_1-auc:0.68928\n",
      "[36]\tvalidation_0-auc:0.74851\tvalidation_1-auc:0.68896\n",
      "[37]\tvalidation_0-auc:0.74882\tvalidation_1-auc:0.68864\n",
      "[38]\tvalidation_0-auc:0.74888\tvalidation_1-auc:0.68799\n",
      "[39]\tvalidation_0-auc:0.74915\tvalidation_1-auc:0.68737\n",
      "[40]\tvalidation_0-auc:0.74972\tvalidation_1-auc:0.68745\n",
      "[41]\tvalidation_0-auc:0.75009\tvalidation_1-auc:0.68719\n",
      "[42]\tvalidation_0-auc:0.75022\tvalidation_1-auc:0.68707\n",
      "[43]\tvalidation_0-auc:0.75038\tvalidation_1-auc:0.68682\n",
      "[44]\tvalidation_0-auc:0.75077\tvalidation_1-auc:0.68714\n",
      "[45]\tvalidation_0-auc:0.75121\tvalidation_1-auc:0.68724\n",
      "[46]\tvalidation_0-auc:0.75158\tvalidation_1-auc:0.68703\n",
      "[47]\tvalidation_0-auc:0.75169\tvalidation_1-auc:0.68750\n",
      "[48]\tvalidation_0-auc:0.75225\tvalidation_1-auc:0.68720\n",
      "[49]\tvalidation_0-auc:0.75270\tvalidation_1-auc:0.68675\n",
      "[50]\tvalidation_0-auc:0.75303\tvalidation_1-auc:0.68710\n",
      "[51]\tvalidation_0-auc:0.75359\tvalidation_1-auc:0.68726\n",
      "[52]\tvalidation_0-auc:0.75385\tvalidation_1-auc:0.68768\n",
      "[53]\tvalidation_0-auc:0.75399\tvalidation_1-auc:0.68719\n",
      "[54]\tvalidation_0-auc:0.75427\tvalidation_1-auc:0.68737\n",
      "[55]\tvalidation_0-auc:0.75439\tvalidation_1-auc:0.68728\n",
      "[56]\tvalidation_0-auc:0.75445\tvalidation_1-auc:0.68720\n",
      "[57]\tvalidation_0-auc:0.75462\tvalidation_1-auc:0.68727\n",
      "[58]\tvalidation_0-auc:0.75499\tvalidation_1-auc:0.68768\n",
      "[59]\tvalidation_0-auc:0.75507\tvalidation_1-auc:0.68744\n",
      "[60]\tvalidation_0-auc:0.75535\tvalidation_1-auc:0.68703\n",
      "[61]\tvalidation_0-auc:0.75578\tvalidation_1-auc:0.68705\n",
      "[62]\tvalidation_0-auc:0.75575\tvalidation_1-auc:0.68658\n",
      "[63]\tvalidation_0-auc:0.75570\tvalidation_1-auc:0.68626\n",
      "[64]\tvalidation_0-auc:0.75571\tvalidation_1-auc:0.68673\n",
      "[65]\tvalidation_0-auc:0.75606\tvalidation_1-auc:0.68650\n",
      "[66]\tvalidation_0-auc:0.75620\tvalidation_1-auc:0.68603\n",
      "[67]\tvalidation_0-auc:0.75642\tvalidation_1-auc:0.68591\n",
      "[68]\tvalidation_0-auc:0.75664\tvalidation_1-auc:0.68563\n",
      "[69]\tvalidation_0-auc:0.75667\tvalidation_1-auc:0.68566\n",
      "[70]\tvalidation_0-auc:0.75691\tvalidation_1-auc:0.68587\n",
      "[71]\tvalidation_0-auc:0.75697\tvalidation_1-auc:0.68566\n",
      "[72]\tvalidation_0-auc:0.75737\tvalidation_1-auc:0.68567\n",
      "[73]\tvalidation_0-auc:0.75734\tvalidation_1-auc:0.68560\n",
      "[74]\tvalidation_0-auc:0.75751\tvalidation_1-auc:0.68559\n",
      "[75]\tvalidation_0-auc:0.75760\tvalidation_1-auc:0.68553\n",
      "[76]\tvalidation_0-auc:0.75775\tvalidation_1-auc:0.68522\n",
      "[77]\tvalidation_0-auc:0.75813\tvalidation_1-auc:0.68483\n",
      "[78]\tvalidation_0-auc:0.75831\tvalidation_1-auc:0.68522\n",
      "[79]\tvalidation_0-auc:0.75833\tvalidation_1-auc:0.68537\n",
      "[80]\tvalidation_0-auc:0.75856\tvalidation_1-auc:0.68559\n",
      "[81]\tvalidation_0-auc:0.75889\tvalidation_1-auc:0.68576\n",
      "[82]\tvalidation_0-auc:0.75922\tvalidation_1-auc:0.68602\n",
      "[83]\tvalidation_0-auc:0.75945\tvalidation_1-auc:0.68559\n",
      "[84]\tvalidation_0-auc:0.75965\tvalidation_1-auc:0.68610\n",
      "[85]\tvalidation_0-auc:0.75992\tvalidation_1-auc:0.68614\n",
      "[86]\tvalidation_0-auc:0.76009\tvalidation_1-auc:0.68605\n",
      "[87]\tvalidation_0-auc:0.76027\tvalidation_1-auc:0.68593\n",
      "[88]\tvalidation_0-auc:0.76050\tvalidation_1-auc:0.68579\n",
      "[89]\tvalidation_0-auc:0.76070\tvalidation_1-auc:0.68608\n",
      "[90]\tvalidation_0-auc:0.76096\tvalidation_1-auc:0.68608\n",
      "[91]\tvalidation_0-auc:0.76136\tvalidation_1-auc:0.68617\n",
      "[92]\tvalidation_0-auc:0.76157\tvalidation_1-auc:0.68639\n",
      "[93]\tvalidation_0-auc:0.76174\tvalidation_1-auc:0.68598\n",
      "[94]\tvalidation_0-auc:0.76185\tvalidation_1-auc:0.68595\n",
      "[95]\tvalidation_0-auc:0.76211\tvalidation_1-auc:0.68575\n",
      "[96]\tvalidation_0-auc:0.76244\tvalidation_1-auc:0.68571\n",
      "[97]\tvalidation_0-auc:0.76243\tvalidation_1-auc:0.68593\n",
      "[98]\tvalidation_0-auc:0.76273\tvalidation_1-auc:0.68555\n",
      "[99]\tvalidation_0-auc:0.76290\tvalidation_1-auc:0.68549\n",
      "[100]\tvalidation_0-auc:0.76296\tvalidation_1-auc:0.68542\n",
      "[101]\tvalidation_0-auc:0.76319\tvalidation_1-auc:0.68551\n",
      "[102]\tvalidation_0-auc:0.76349\tvalidation_1-auc:0.68555\n",
      "[103]\tvalidation_0-auc:0.76397\tvalidation_1-auc:0.68551\n",
      "[104]\tvalidation_0-auc:0.76419\tvalidation_1-auc:0.68579\n",
      "[105]\tvalidation_0-auc:0.76457\tvalidation_1-auc:0.68582\n",
      "[106]\tvalidation_0-auc:0.76477\tvalidation_1-auc:0.68607\n",
      "[107]\tvalidation_0-auc:0.76497\tvalidation_1-auc:0.68590\n",
      "[108]\tvalidation_0-auc:0.76507\tvalidation_1-auc:0.68576\n",
      "[109]\tvalidation_0-auc:0.76532\tvalidation_1-auc:0.68573\n",
      "[110]\tvalidation_0-auc:0.76558\tvalidation_1-auc:0.68597\n",
      "[111]\tvalidation_0-auc:0.76573\tvalidation_1-auc:0.68544\n",
      "[112]\tvalidation_0-auc:0.76588\tvalidation_1-auc:0.68573\n",
      "[113]\tvalidation_0-auc:0.76601\tvalidation_1-auc:0.68617\n",
      "[114]\tvalidation_0-auc:0.76636\tvalidation_1-auc:0.68624\n",
      "[115]\tvalidation_0-auc:0.76643\tvalidation_1-auc:0.68625\n",
      "[116]\tvalidation_0-auc:0.76662\tvalidation_1-auc:0.68620\n",
      "[117]\tvalidation_0-auc:0.76705\tvalidation_1-auc:0.68620\n",
      "[118]\tvalidation_0-auc:0.76755\tvalidation_1-auc:0.68588\n",
      "[119]\tvalidation_0-auc:0.76781\tvalidation_1-auc:0.68588\n",
      "[120]\tvalidation_0-auc:0.76799\tvalidation_1-auc:0.68605\n",
      "[121]\tvalidation_0-auc:0.76857\tvalidation_1-auc:0.68607\n",
      "[122]\tvalidation_0-auc:0.76872\tvalidation_1-auc:0.68593\n",
      "[123]\tvalidation_0-auc:0.76882\tvalidation_1-auc:0.68618\n",
      "[124]\tvalidation_0-auc:0.76900\tvalidation_1-auc:0.68599\n",
      "[125]\tvalidation_0-auc:0.76910\tvalidation_1-auc:0.68558\n",
      "[126]\tvalidation_0-auc:0.76941\tvalidation_1-auc:0.68557\n",
      "[127]\tvalidation_0-auc:0.76968\tvalidation_1-auc:0.68522\n",
      "[128]\tvalidation_0-auc:0.76989\tvalidation_1-auc:0.68509\n",
      "[129]\tvalidation_0-auc:0.77019\tvalidation_1-auc:0.68508\n",
      "[130]\tvalidation_0-auc:0.77030\tvalidation_1-auc:0.68501\n",
      "[131]\tvalidation_0-auc:0.77054\tvalidation_1-auc:0.68499\n",
      "[132]\tvalidation_0-auc:0.77080\tvalidation_1-auc:0.68502\n",
      "[133]\tvalidation_0-auc:0.77118\tvalidation_1-auc:0.68478\n",
      "[134]\tvalidation_0-auc:0.77167\tvalidation_1-auc:0.68491\n",
      "Stopping. Best iteration:\n",
      "[34]\tvalidation_0-auc:0.74813\tvalidation_1-auc:0.68955\n",
      "\n"
     ]
    },
    {
     "data": {
      "text/plain": [
       "XGBClassifier(base_score=0.5, booster=None, colsample=0.45, colsample_bylevel=1,\n",
       "              colsample_bynode=1, colsample_bytree=1, gamma=0, gpu_id=-1,\n",
       "              importance_type='gain', interaction_constraints=None,\n",
       "              learning_rate=0.01, max_delta_step=0, max_depth=6,\n",
       "              min_child_weight=1, missing=nan, monotone_constraints=None,\n",
       "              n_estimators=500, n_jobs=0, num_parallel_tree=1,\n",
       "              objective='binary:logistic', random_state=69, reg_alpha=0,\n",
       "              reg_lambda=1, scale_pos_weight=5.2, subsample=0.58,\n",
       "              tree_method=None, validate_parameters=False, verbosity=None)"
      ]
     },
     "execution_count": 171,
     "metadata": {},
     "output_type": "execute_result"
    }
   ],
   "source": [
    "xgbm.fit(X_train,y_train, eval_set=[(X_train,y_train),(X_test,y_test)],eval_metric= 'auc',\\\n",
    "         early_stopping_rounds = 100,)"
   ]
  },
  {
   "cell_type": "code",
   "execution_count": 192,
   "metadata": {},
   "outputs": [],
   "source": [
    "rf = RandomForestClassifier(n_estimators=500,max_depth = 5,n_jobs = -1,max_samples = 0.6,max_features = 15,\\\n",
    "                           )"
   ]
  },
  {
   "cell_type": "code",
   "execution_count": 193,
   "metadata": {},
   "outputs": [
    {
     "name": "stdout",
     "output_type": "stream",
     "text": [
      "Wall time: 1.57 s\n"
     ]
    },
    {
     "data": {
      "text/plain": [
       "RandomForestClassifier(bootstrap=True, ccp_alpha=0.0, class_weight=None,\n",
       "                       criterion='gini', max_depth=5, max_features=15,\n",
       "                       max_leaf_nodes=None, max_samples=0.6,\n",
       "                       min_impurity_decrease=0.0, min_impurity_split=None,\n",
       "                       min_samples_leaf=1, min_samples_split=2,\n",
       "                       min_weight_fraction_leaf=0.0, n_estimators=500,\n",
       "                       n_jobs=-1, oob_score=False, random_state=None, verbose=0,\n",
       "                       warm_start=False)"
      ]
     },
     "execution_count": 193,
     "metadata": {},
     "output_type": "execute_result"
    }
   ],
   "source": [
    "%%time\n",
    "rf.fit(X_train,y_train)"
   ]
  },
  {
   "cell_type": "code",
   "execution_count": 194,
   "metadata": {},
   "outputs": [
    {
     "data": {
      "text/plain": [
       "'train_roca : 0.7093976832228162 ; test_roca : 0.6792497873125035'"
      ]
     },
     "execution_count": 194,
     "metadata": {},
     "output_type": "execute_result"
    },
    {
     "data": {
      "text/plain": [
       "'train_f1_s : 0.0010303967027305513 ; test_f1_s : 0.0'"
      ]
     },
     "execution_count": 194,
     "metadata": {},
     "output_type": "execute_result"
    },
    {
     "data": {
      "text/plain": [
       "'train_prec : 1.0 ; test_prec : 0.0'"
      ]
     },
     "execution_count": 194,
     "metadata": {},
     "output_type": "execute_result"
    },
    {
     "data": {
      "text/plain": [
       "'train_reca : 0.0005154639175257732 ; test_reca : 0.0'"
      ]
     },
     "execution_count": 194,
     "metadata": {},
     "output_type": "execute_result"
    },
    {
     "data": {
      "text/plain": [
       "'train_accu : 0.8679784843739361 ; test_accu : 0.8679193899782135'"
      ]
     },
     "execution_count": 194,
     "metadata": {},
     "output_type": "execute_result"
    },
    {
     "data": {
      "text/plain": [
       "'train_conf : [[12747     0]\\n [ 1939     1]] ; test_conf : [[3187    0]\\n [ 485    0]]'"
      ]
     },
     "execution_count": 194,
     "metadata": {},
     "output_type": "execute_result"
    }
   ],
   "source": [
    "estimator= rf\n",
    "pred_bin_tr = estimator.predict(X_train)\n",
    "pred_bin_te = estimator.predict(X_test)\n",
    "f'train_roca : {roc_auc_score(y_train,estimator.predict_proba(X_train)[:,1])} ; test_roca : {roc_auc_score(y_test,estimator.predict_proba(X_test)[:,1])}'\n",
    "f'train_f1_s : {f1_score(y_train,pred_bin_tr)} ; test_f1_s : {f1_score(y_test,pred_bin_te)}'\n",
    "f'train_prec : {precision_score(y_train,pred_bin_tr)} ; test_prec : {precision_score(y_test,pred_bin_te)}'\n",
    "f'train_reca : {recall_score(y_train,pred_bin_tr)} ; test_reca : {recall_score(y_test,pred_bin_te)}'\n",
    "f'train_accu : {accuracy_score(y_train,pred_bin_tr)} ; test_accu : {accuracy_score(y_test,pred_bin_te)}'\n",
    "f'train_conf : {confusion_matrix(y_train,pred_bin_tr)} ; test_conf : {confusion_matrix(y_test,pred_bin_te)}'"
   ]
  },
  {
   "cell_type": "code",
   "execution_count": 195,
   "metadata": {
    "scrolled": true
   },
   "outputs": [
    {
     "data": {
      "text/plain": [
       "<sklearn.metrics._plot.confusion_matrix.ConfusionMatrixDisplay at 0x210c9b64688>"
      ]
     },
     "execution_count": 195,
     "metadata": {},
     "output_type": "execute_result"
    },
    {
     "data": {
      "image/png": "[encoded data removed]",
      "text/plain": [
       "<Figure size 432x288 with 2 Axes>"
      ]
     },
     "metadata": {},
     "output_type": "display_data"
    }
   ],
   "source": [
    "estimator = xgbm\n",
    "plot_confusion_matrix(estimator=estimator, X=df_train[features],y_true = df_train.target)"
   ]
  },
  {
   "cell_type": "code",
   "execution_count": null,
   "metadata": {},
   "outputs": [],
   "source": []
  },
  {
   "cell_type": "code",
   "execution_count": 175,
   "metadata": {},
   "outputs": [],
   "source": [
    "# 1- getting feature importance of variables with name for XGB model\n",
    "def xgb_feature_imp(model):\n",
    "    \"\"\"\n",
    "    Gives the feature importance along with variable names for an XGB Model.\n",
    "    \"\"\"\n",
    "    return(pd.DataFrame({'features' : model.get_booster().feature_names, 'importance' : model.feature_importances_}).\\\n",
    "           sort_values('importance',ascending = False))\n"
   ]
  },
  {
   "cell_type": "code",
   "execution_count": 176,
   "metadata": {
    "scrolled": true
   },
   "outputs": [
    {
     "data": {
      "text/html": [
       "<div>\n",
       "<style scoped>\n",
       "    .dataframe tbody tr th:only-of-type {\n",
       "        vertical-align: middle;\n",
       "    }\n",
       "\n",
       "    .dataframe tbody tr th {\n",
       "        vertical-align: top;\n",
       "    }\n",
       "\n",
       "    .dataframe thead th {\n",
       "        text-align: right;\n",
       "    }\n",
       "</style>\n",
       "<table border=\"1\" class=\"dataframe\">\n",
       "  <thead>\n",
       "    <tr style=\"text-align: right;\">\n",
       "      <th></th>\n",
       "      <th>features</th>\n",
       "      <th>importance</th>\n",
       "    </tr>\n",
       "  </thead>\n",
       "  <tbody>\n",
       "    <tr>\n",
       "      <th>7</th>\n",
       "      <td>company_size_na_ind</td>\n",
       "      <td>0.098384</td>\n",
       "    </tr>\n",
       "    <tr>\n",
       "      <th>10</th>\n",
       "      <td>city_event_rate</td>\n",
       "      <td>0.063962</td>\n",
       "    </tr>\n",
       "    <tr>\n",
       "      <th>13</th>\n",
       "      <td>company_type_rate</td>\n",
       "      <td>0.053891</td>\n",
       "    </tr>\n",
       "    <tr>\n",
       "      <th>58</th>\n",
       "      <td>relevent_experience=Has relevent experience</td>\n",
       "      <td>0.029428</td>\n",
       "    </tr>\n",
       "    <tr>\n",
       "      <th>42</th>\n",
       "      <td>enrolled_university=no_enrollment</td>\n",
       "      <td>0.026427</td>\n",
       "    </tr>\n",
       "    <tr>\n",
       "      <th>47</th>\n",
       "      <td>last_new_job=1</td>\n",
       "      <td>0.025362</td>\n",
       "    </tr>\n",
       "    <tr>\n",
       "      <th>5</th>\n",
       "      <td>major_discipline_na_ind</td>\n",
       "      <td>0.024027</td>\n",
       "    </tr>\n",
       "    <tr>\n",
       "      <th>14</th>\n",
       "      <td>last_new_job_rate</td>\n",
       "      <td>0.024001</td>\n",
       "    </tr>\n",
       "    <tr>\n",
       "      <th>33</th>\n",
       "      <td>education_level=Graduate</td>\n",
       "      <td>0.023998</td>\n",
       "    </tr>\n",
       "    <tr>\n",
       "      <th>12</th>\n",
       "      <td>company_size_rate</td>\n",
       "      <td>0.023821</td>\n",
       "    </tr>\n",
       "    <tr>\n",
       "      <th>50</th>\n",
       "      <td>last_new_job=4</td>\n",
       "      <td>0.022141</td>\n",
       "    </tr>\n",
       "    <tr>\n",
       "      <th>16</th>\n",
       "      <td>education_le</td>\n",
       "      <td>0.021954</td>\n",
       "    </tr>\n",
       "    <tr>\n",
       "      <th>34</th>\n",
       "      <td>education_level=High School</td>\n",
       "      <td>0.021697</td>\n",
       "    </tr>\n",
       "    <tr>\n",
       "      <th>8</th>\n",
       "      <td>company_type_na_ind</td>\n",
       "      <td>0.021543</td>\n",
       "    </tr>\n",
       "    <tr>\n",
       "      <th>19</th>\n",
       "      <td>last_new_job_le</td>\n",
       "      <td>0.021482</td>\n",
       "    </tr>\n",
       "    <tr>\n",
       "      <th>15</th>\n",
       "      <td>experience_le</td>\n",
       "      <td>0.021258</td>\n",
       "    </tr>\n",
       "    <tr>\n",
       "      <th>29</th>\n",
       "      <td>company_type=Public Sector</td>\n",
       "      <td>0.020519</td>\n",
       "    </tr>\n",
       "    <tr>\n",
       "      <th>11</th>\n",
       "      <td>experience_rate</td>\n",
       "      <td>0.020508</td>\n",
       "    </tr>\n",
       "    <tr>\n",
       "      <th>39</th>\n",
       "      <td>enrolled_university=Full time course</td>\n",
       "      <td>0.020304</td>\n",
       "    </tr>\n",
       "    <tr>\n",
       "      <th>18</th>\n",
       "      <td>stable</td>\n",
       "      <td>0.020300</td>\n",
       "    </tr>\n",
       "    <tr>\n",
       "      <th>4</th>\n",
       "      <td>education_level_na_ind</td>\n",
       "      <td>0.020200</td>\n",
       "    </tr>\n",
       "    <tr>\n",
       "      <th>17</th>\n",
       "      <td>company_size_le</td>\n",
       "      <td>0.019377</td>\n",
       "    </tr>\n",
       "    <tr>\n",
       "      <th>56</th>\n",
       "      <td>major_discipline=low_pop</td>\n",
       "      <td>0.019045</td>\n",
       "    </tr>\n",
       "    <tr>\n",
       "      <th>48</th>\n",
       "      <td>last_new_job=2</td>\n",
       "      <td>0.018356</td>\n",
       "    </tr>\n",
       "    <tr>\n",
       "      <th>44</th>\n",
       "      <td>gender=Male</td>\n",
       "      <td>0.017763</td>\n",
       "    </tr>\n",
       "    <tr>\n",
       "      <th>0</th>\n",
       "      <td>city_development_index</td>\n",
       "      <td>0.017702</td>\n",
       "    </tr>\n",
       "    <tr>\n",
       "      <th>45</th>\n",
       "      <td>gender=Other</td>\n",
       "      <td>0.017521</td>\n",
       "    </tr>\n",
       "    <tr>\n",
       "      <th>30</th>\n",
       "      <td>company_type=Pvt Ltd</td>\n",
       "      <td>0.017442</td>\n",
       "    </tr>\n",
       "    <tr>\n",
       "      <th>22</th>\n",
       "      <td>company_size=1000-4999</td>\n",
       "      <td>0.017110</td>\n",
       "    </tr>\n",
       "    <tr>\n",
       "      <th>55</th>\n",
       "      <td>major_discipline=STEM</td>\n",
       "      <td>0.017034</td>\n",
       "    </tr>\n",
       "    <tr>\n",
       "      <th>1</th>\n",
       "      <td>training_hours</td>\n",
       "      <td>0.016764</td>\n",
       "    </tr>\n",
       "    <tr>\n",
       "      <th>20</th>\n",
       "      <td>company_size=10/49</td>\n",
       "      <td>0.016334</td>\n",
       "    </tr>\n",
       "    <tr>\n",
       "      <th>35</th>\n",
       "      <td>education_level=Masters</td>\n",
       "      <td>0.016255</td>\n",
       "    </tr>\n",
       "    <tr>\n",
       "      <th>3</th>\n",
       "      <td>enrolled_university_na_ind</td>\n",
       "      <td>0.015744</td>\n",
       "    </tr>\n",
       "    <tr>\n",
       "      <th>49</th>\n",
       "      <td>last_new_job=3</td>\n",
       "      <td>0.015741</td>\n",
       "    </tr>\n",
       "    <tr>\n",
       "      <th>26</th>\n",
       "      <td>company_size=low_pop</td>\n",
       "      <td>0.015703</td>\n",
       "    </tr>\n",
       "    <tr>\n",
       "      <th>54</th>\n",
       "      <td>major_discipline=Humanities</td>\n",
       "      <td>0.015633</td>\n",
       "    </tr>\n",
       "    <tr>\n",
       "      <th>21</th>\n",
       "      <td>company_size=100-500</td>\n",
       "      <td>0.015524</td>\n",
       "    </tr>\n",
       "    <tr>\n",
       "      <th>43</th>\n",
       "      <td>gender=Female</td>\n",
       "      <td>0.015419</td>\n",
       "    </tr>\n",
       "    <tr>\n",
       "      <th>9</th>\n",
       "      <td>last_new_job_na_ind</td>\n",
       "      <td>0.015046</td>\n",
       "    </tr>\n",
       "    <tr>\n",
       "      <th>31</th>\n",
       "      <td>company_type=low_pop</td>\n",
       "      <td>0.014833</td>\n",
       "    </tr>\n",
       "    <tr>\n",
       "      <th>40</th>\n",
       "      <td>enrolled_university=Part time course</td>\n",
       "      <td>0.014415</td>\n",
       "    </tr>\n",
       "    <tr>\n",
       "      <th>2</th>\n",
       "      <td>gender_na_ind</td>\n",
       "      <td>0.014412</td>\n",
       "    </tr>\n",
       "    <tr>\n",
       "      <th>6</th>\n",
       "      <td>experience_na_ind</td>\n",
       "      <td>0.011618</td>\n",
       "    </tr>\n",
       "    <tr>\n",
       "      <th>57</th>\n",
       "      <td>major_discipline=missing</td>\n",
       "      <td>0.000000</td>\n",
       "    </tr>\n",
       "    <tr>\n",
       "      <th>53</th>\n",
       "      <td>last_new_job=never</td>\n",
       "      <td>0.000000</td>\n",
       "    </tr>\n",
       "    <tr>\n",
       "      <th>52</th>\n",
       "      <td>last_new_job=low_pop</td>\n",
       "      <td>0.000000</td>\n",
       "    </tr>\n",
       "    <tr>\n",
       "      <th>51</th>\n",
       "      <td>last_new_job=grtr4</td>\n",
       "      <td>0.000000</td>\n",
       "    </tr>\n",
       "    <tr>\n",
       "      <th>28</th>\n",
       "      <td>company_type=Funded Startup</td>\n",
       "      <td>0.000000</td>\n",
       "    </tr>\n",
       "    <tr>\n",
       "      <th>46</th>\n",
       "      <td>gender=missing</td>\n",
       "      <td>0.000000</td>\n",
       "    </tr>\n",
       "    <tr>\n",
       "      <th>27</th>\n",
       "      <td>company_size=missing</td>\n",
       "      <td>0.000000</td>\n",
       "    </tr>\n",
       "    <tr>\n",
       "      <th>23</th>\n",
       "      <td>company_size=10000+</td>\n",
       "      <td>0.000000</td>\n",
       "    </tr>\n",
       "    <tr>\n",
       "      <th>41</th>\n",
       "      <td>enrolled_university=missing</td>\n",
       "      <td>0.000000</td>\n",
       "    </tr>\n",
       "    <tr>\n",
       "      <th>24</th>\n",
       "      <td>company_size=50-99</td>\n",
       "      <td>0.000000</td>\n",
       "    </tr>\n",
       "    <tr>\n",
       "      <th>38</th>\n",
       "      <td>education_level=missing</td>\n",
       "      <td>0.000000</td>\n",
       "    </tr>\n",
       "    <tr>\n",
       "      <th>37</th>\n",
       "      <td>education_level=Primary School</td>\n",
       "      <td>0.000000</td>\n",
       "    </tr>\n",
       "    <tr>\n",
       "      <th>36</th>\n",
       "      <td>education_level=Phd</td>\n",
       "      <td>0.000000</td>\n",
       "    </tr>\n",
       "    <tr>\n",
       "      <th>25</th>\n",
       "      <td>company_size=smlr10</td>\n",
       "      <td>0.000000</td>\n",
       "    </tr>\n",
       "    <tr>\n",
       "      <th>32</th>\n",
       "      <td>company_type=missing</td>\n",
       "      <td>0.000000</td>\n",
       "    </tr>\n",
       "    <tr>\n",
       "      <th>59</th>\n",
       "      <td>relevent_experience=No relevent experience</td>\n",
       "      <td>0.000000</td>\n",
       "    </tr>\n",
       "  </tbody>\n",
       "</table>\n",
       "</div>"
      ],
      "text/plain": [
       "                                       features  importance\n",
       "7                           company_size_na_ind    0.098384\n",
       "10                              city_event_rate    0.063962\n",
       "13                            company_type_rate    0.053891\n",
       "58  relevent_experience=Has relevent experience    0.029428\n",
       "42            enrolled_university=no_enrollment    0.026427\n",
       "47                               last_new_job=1    0.025362\n",
       "5                       major_discipline_na_ind    0.024027\n",
       "14                            last_new_job_rate    0.024001\n",
       "33                     education_level=Graduate    0.023998\n",
       "12                            company_size_rate    0.023821\n",
       "50                               last_new_job=4    0.022141\n",
       "16                                 education_le    0.021954\n",
       "34                  education_level=High School    0.021697\n",
       "8                           company_type_na_ind    0.021543\n",
       "19                              last_new_job_le    0.021482\n",
       "15                                experience_le    0.021258\n",
       "29                   company_type=Public Sector    0.020519\n",
       "11                              experience_rate    0.020508\n",
       "39         enrolled_university=Full time course    0.020304\n",
       "18                                       stable    0.020300\n",
       "4                        education_level_na_ind    0.020200\n",
       "17                              company_size_le    0.019377\n",
       "56                     major_discipline=low_pop    0.019045\n",
       "48                               last_new_job=2    0.018356\n",
       "44                                  gender=Male    0.017763\n",
       "0                        city_development_index    0.017702\n",
       "45                                 gender=Other    0.017521\n",
       "30                         company_type=Pvt Ltd    0.017442\n",
       "22                       company_size=1000-4999    0.017110\n",
       "55                        major_discipline=STEM    0.017034\n",
       "1                                training_hours    0.016764\n",
       "20                           company_size=10/49    0.016334\n",
       "35                      education_level=Masters    0.016255\n",
       "3                    enrolled_university_na_ind    0.015744\n",
       "49                               last_new_job=3    0.015741\n",
       "26                         company_size=low_pop    0.015703\n",
       "54                  major_discipline=Humanities    0.015633\n",
       "21                         company_size=100-500    0.015524\n",
       "43                                gender=Female    0.015419\n",
       "9                           last_new_job_na_ind    0.015046\n",
       "31                         company_type=low_pop    0.014833\n",
       "40         enrolled_university=Part time course    0.014415\n",
       "2                                 gender_na_ind    0.014412\n",
       "6                             experience_na_ind    0.011618\n",
       "57                     major_discipline=missing    0.000000\n",
       "53                           last_new_job=never    0.000000\n",
       "52                         last_new_job=low_pop    0.000000\n",
       "51                           last_new_job=grtr4    0.000000\n",
       "28                  company_type=Funded Startup    0.000000\n",
       "46                               gender=missing    0.000000\n",
       "27                         company_size=missing    0.000000\n",
       "23                          company_size=10000+    0.000000\n",
       "41                  enrolled_university=missing    0.000000\n",
       "24                           company_size=50-99    0.000000\n",
       "38                      education_level=missing    0.000000\n",
       "37               education_level=Primary School    0.000000\n",
       "36                          education_level=Phd    0.000000\n",
       "25                          company_size=smlr10    0.000000\n",
       "32                         company_type=missing    0.000000\n",
       "59   relevent_experience=No relevent experience    0.000000"
      ]
     },
     "execution_count": 176,
     "metadata": {},
     "output_type": "execute_result"
    }
   ],
   "source": [
    "feat_imp = xgb_feature_imp(model = xgbm)\n",
    "feat_imp\n"
   ]
  },
  {
   "cell_type": "code",
   "execution_count": null,
   "metadata": {},
   "outputs": [],
   "source": []
  },
  {
   "cell_type": "code",
   "execution_count": 177,
   "metadata": {},
   "outputs": [
    {
     "data": {
      "text/html": [
       "<div>\n",
       "<style scoped>\n",
       "    .dataframe tbody tr th:only-of-type {\n",
       "        vertical-align: middle;\n",
       "    }\n",
       "\n",
       "    .dataframe tbody tr th {\n",
       "        vertical-align: top;\n",
       "    }\n",
       "\n",
       "    .dataframe thead th {\n",
       "        text-align: right;\n",
       "    }\n",
       "</style>\n",
       "<table border=\"1\" class=\"dataframe\">\n",
       "  <thead>\n",
       "    <tr style=\"text-align: right;\">\n",
       "      <th></th>\n",
       "      <th>enrollee_id</th>\n",
       "      <th>target</th>\n",
       "    </tr>\n",
       "  </thead>\n",
       "  <tbody>\n",
       "    <tr>\n",
       "      <th>0</th>\n",
       "      <td>16548</td>\n",
       "      <td>1</td>\n",
       "    </tr>\n",
       "    <tr>\n",
       "      <th>1</th>\n",
       "      <td>12036</td>\n",
       "      <td>0</td>\n",
       "    </tr>\n",
       "    <tr>\n",
       "      <th>2</th>\n",
       "      <td>11061</td>\n",
       "      <td>1</td>\n",
       "    </tr>\n",
       "    <tr>\n",
       "      <th>3</th>\n",
       "      <td>5032</td>\n",
       "      <td>0</td>\n",
       "    </tr>\n",
       "    <tr>\n",
       "      <th>4</th>\n",
       "      <td>17599</td>\n",
       "      <td>0</td>\n",
       "    </tr>\n",
       "  </tbody>\n",
       "</table>\n",
       "</div>"
      ],
      "text/plain": [
       "  enrollee_id  target\n",
       "0       16548       1\n",
       "1       12036       0\n",
       "2       11061       1\n",
       "3        5032       0\n",
       "4       17599       0"
      ]
     },
     "execution_count": 177,
     "metadata": {},
     "output_type": "execute_result"
    }
   ],
   "source": [
    "estimator= xgbm\n",
    "df_sub = df_test[['enrollee_id']]\n",
    "df_sub['target'] = estimator.predict_proba(df_test[features])[:,1]\n",
    "df_sub['target'] = estimator.predict(df_test[features])\n",
    "\n",
    "df_sub.head()\n",
    "\n",
    "df_sub.to_csv(f'{path}/my_submission_v5.csv',index = False)"
   ]
  },
  {
   "cell_type": "code",
   "execution_count": 117,
   "metadata": {},
   "outputs": [
    {
     "name": "stderr",
     "output_type": "stream",
     "text": [
      "[Parallel(n_jobs=-1)]: Using backend LokyBackend with 8 concurrent workers.\n",
      "[Parallel(n_jobs=-1)]: Done   2 out of   5 | elapsed:  1.1min remaining:  1.6min\n"
     ]
    },
    {
     "name": "stdout",
     "output_type": "stream",
     "text": [
      "Wall time: 1min 5s\n"
     ]
    },
    {
     "name": "stderr",
     "output_type": "stream",
     "text": [
      "[Parallel(n_jobs=-1)]: Done   5 out of   5 | elapsed:  1.1min finished\n"
     ]
    }
   ],
   "source": [
    "%%time\n",
    "all_accuracies_data = cross_val_score(estimator=xgbm, X=df_train[features], y=df_train.target, cv=skf,\\\n",
    "                                      scoring = 'roc_auc',verbose = 4,n_jobs = -1)"
   ]
  },
  {
   "cell_type": "code",
   "execution_count": 118,
   "metadata": {},
   "outputs": [
    {
     "data": {
      "text/plain": [
       "array([0.61209909, 0.6268947 , 0.6447336 , 0.63577129, 0.61098297])"
      ]
     },
     "execution_count": 118,
     "metadata": {},
     "output_type": "execute_result"
    },
    {
     "name": "stdout",
     "output_type": "stream",
     "text": [
      "Full Accuracy: 0.63(+/- 0.03)\n"
     ]
    }
   ],
   "source": [
    "all_accuracies_data\n",
    "print(\"Full Accuracy: %0.2f(+/- %0.2f)\" % (all_accuracies_data.mean(), all_accuracies_data.std()*2))\n"
   ]
  },
  {
   "cell_type": "code",
   "execution_count": null,
   "metadata": {},
   "outputs": [],
   "source": []
  },
  {
   "cell_type": "code",
   "execution_count": 5,
   "metadata": {},
   "outputs": [
    {
     "ename": "NameError",
     "evalue": "name 'train' is not defined",
     "output_type": "error",
     "traceback": [
      "\u001b[1;31m---------------------------------------------------------------------------\u001b[0m",
      "\u001b[1;31mNameError\u001b[0m                                 Traceback (most recent call last)",
      "\u001b[1;32m<ipython-input-5-0f57a38c92f8>\u001b[0m in \u001b[0;36m<module>\u001b[1;34m\u001b[0m\n\u001b[1;32m----> 1\u001b[1;33m \u001b[0mtrain\u001b[0m\u001b[1;33m.\u001b[0m\u001b[0mcompany_type\u001b[0m\u001b[1;33m.\u001b[0m\u001b[0munique\u001b[0m\u001b[1;33m(\u001b[0m\u001b[1;33m)\u001b[0m\u001b[1;33m\u001b[0m\u001b[1;33m\u001b[0m\u001b[0m\n\u001b[0m\u001b[0;32m      2\u001b[0m \u001b[0mpd\u001b[0m\u001b[1;33m.\u001b[0m\u001b[0mcrosstab\u001b[0m\u001b[1;33m(\u001b[0m\u001b[0mtrain\u001b[0m\u001b[1;33m.\u001b[0m\u001b[0mcompany_size\u001b[0m\u001b[1;33m,\u001b[0m \u001b[0mtrain\u001b[0m\u001b[1;33m.\u001b[0m\u001b[0mcompany_type\u001b[0m\u001b[1;33m,\u001b[0m\u001b[0mdropna\u001b[0m\u001b[1;33m=\u001b[0m\u001b[1;32mFalse\u001b[0m\u001b[1;33m)\u001b[0m\u001b[1;33m\u001b[0m\u001b[1;33m\u001b[0m\u001b[0m\n",
      "\u001b[1;31mNameError\u001b[0m: name 'train' is not defined"
     ]
    }
   ],
   "source": [
    "train.company_type.unique()\n",
    "pd.crosstab(train.company_size, train.company_type,dropna=False)"
   ]
  },
  {
   "cell_type": "code",
   "execution_count": null,
   "metadata": {
    "scrolled": false
   },
   "outputs": [],
   "source": [
    "#enrolled_university  --  Type of University course enrolled if any\n",
    "var = 'company_size'\n",
    "train[var].value_counts(dropna=False)"
   ]
  },
  {
   "cell_type": "code",
   "execution_count": null,
   "metadata": {},
   "outputs": [],
   "source": []
  },
  {
   "cell_type": "code",
   "execution_count": null,
   "metadata": {},
   "outputs": [],
   "source": [
    "train[var].value_counts()"
   ]
  },
  {
   "cell_type": "code",
   "execution_count": null,
   "metadata": {},
   "outputs": [],
   "source": [
    "cdi_bands,bins = pd.qcut(train.city_development_index, q = 6,retbins= True,duplicates = 'drop')\n",
    "train['cdi_bands'] = cdi_bands\n",
    "#train.groupby(cdi_bands).city.count()\n",
    "train.groupby(cdi_bands).target.sum()/train.groupby(cdi_bands).target.count()\n",
    "train.drop('cdi_bands', axis = 1,inplace=True)"
   ]
  },
  {
   "cell_type": "code",
   "execution_count": null,
   "metadata": {},
   "outputs": [],
   "source": [
    "train.head()"
   ]
  },
  {
   "cell_type": "code",
   "execution_count": null,
   "metadata": {},
   "outputs": [],
   "source": [
    "train.groupby('company_size').target.sum()/train.groupby('company_size').target.count()"
   ]
  },
  {
   "cell_type": "code",
   "execution_count": null,
   "metadata": {},
   "outputs": [],
   "source": [
    "train.company_size"
   ]
  },
  {
   "cell_type": "code",
   "execution_count": null,
   "metadata": {},
   "outputs": [],
   "source": [
    "sns.countplot(x = 'gender', hue = 'target', data = train,palette=\"Set1\");"
   ]
  },
  {
   "cell_type": "code",
   "execution_count": null,
   "metadata": {},
   "outputs": [],
   "source": [
    "def crosstab_2var(df,var1,var2):\n",
    "    return(pd.crosstab([df[var1], df[\"target\"]], df[var2], margins = True).style.background_gradient(cmap = \"Accent\"))"
   ]
  },
  {
   "cell_type": "code",
   "execution_count": null,
   "metadata": {
    "scrolled": true
   },
   "outputs": [],
   "source": [
    "crosstab_2var(train,'gender','company_size')"
   ]
  },
  {
   "cell_type": "code",
   "execution_count": null,
   "metadata": {},
   "outputs": [],
   "source": [
    "train.columns"
   ]
  },
  {
   "cell_type": "code",
   "execution_count": null,
   "metadata": {},
   "outputs": [],
   "source": [
    "sns.scatterplot(x = train.city_development_index, y = train.training_hours)"
   ]
  },
  {
   "cell_type": "code",
   "execution_count": null,
   "metadata": {},
   "outputs": [],
   "source": [
    "sns.pairplot(train.select_dtypes('number'), hue = 'target',)\n"
   ]
  },
  {
   "cell_type": "code",
   "execution_count": null,
   "metadata": {},
   "outputs": [],
   "source": []
  },
  {
   "cell_type": "code",
   "execution_count": null,
   "metadata": {},
   "outputs": [],
   "source": []
  },
  {
   "cell_type": "code",
   "execution_count": null,
   "metadata": {},
   "outputs": [],
   "source": []
  }
 ],
 "metadata": {
  "kernelspec": {
   "display_name": "Python 3",
   "language": "python",
   "name": "python3"
  },
  "language_info": {
   "codemirror_mode": {
    "name": "ipython",
    "version": 3
   },
   "file_extension": ".py",
   "mimetype": "text/x-python",
   "name": "python",
   "nbconvert_exporter": "python",
   "pygments_lexer": "ipython3",
   "version": "3.7.6"
  }
 },
 "nbformat": 4,
 "nbformat_minor": 4
}
