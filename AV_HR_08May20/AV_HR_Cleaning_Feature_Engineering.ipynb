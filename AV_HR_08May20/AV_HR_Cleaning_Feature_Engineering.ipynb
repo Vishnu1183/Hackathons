{
 "cells": [
  {
   "cell_type": "code",
   "execution_count": null,
   "metadata": {},
   "outputs": [],
   "source": [
    "error aa ja"
   ]
  },
  {
   "cell_type": "code",
   "execution_count": 42,
   "metadata": {},
   "outputs": [],
   "source": [
    "from IPython.core.interactiveshell import InteractiveShell\n",
    "InteractiveShell.ast_node_interactivity = 'all'\n",
    "import warnings\n",
    "warnings.filterwarnings('ignore')\n",
    "#pd.set_option(\"display.max_columns\",50)"
   ]
  },
  {
   "cell_type": "code",
   "execution_count": 43,
   "metadata": {},
   "outputs": [],
   "source": [
    "import pandas as pd\n",
    "import numpy as np\n",
    "import matplotlib.pyplot as plt\n",
    "import re\n",
    "from sklearn.model_selection import train_test_split\n",
    "from sklearn.linear_model import LogisticRegression\n",
    "from sklearn.ensemble import RandomForestClassifier, StackingClassifier\n",
    "from sklearn.preprocessing import StandardScaler,MinMaxScaler,MaxAbsScaler\n",
    "from sklearn.model_selection import cross_val_score,GridSearchCV,StratifiedKFold,RepeatedStratifiedKFold,RandomizedSearchCV\n",
    "from sklearn.metrics import accuracy_score,auc,recall_score,precision_score,precision_recall_curve,confusion_matrix,\\\n",
    "plot_confusion_matrix,plot_precision_recall_curve,plot_roc_curve,classification_report\n",
    "from xgboost import XGBClassifier\n",
    "from sklearn.pipeline import make_pipeline\n",
    "from sklearn.svm import LinearSVC\n",
    "from sklearn.neighbors import KNeighborsClassifier\n",
    "from sklearn.impute import SimpleImputer,KNNImputer\n",
    "from sklearn.compose import ColumnTransformer"
   ]
  },
  {
   "cell_type": "code",
   "execution_count": 44,
   "metadata": {},
   "outputs": [],
   "source": [
    "import re\n",
    "import seaborn as sns\n",
    "from matplotlib import pyplot as plt\n",
    "sns.set(style=\"darkgrid\") #white, dark, whitegrid, darkgrid, ticks\n"
   ]
  },
  {
   "cell_type": "code",
   "execution_count": 45,
   "metadata": {},
   "outputs": [],
   "source": [
    "path = r\"C:/Users/Krishna/Documents/kaggle/AV_HR_Hackathon\""
   ]
  },
  {
   "cell_type": "code",
   "execution_count": 46,
   "metadata": {},
   "outputs": [
    {
     "data": {
      "text/plain": [
       "'train dimensions are : (18359, 14)'"
      ]
     },
     "execution_count": 46,
     "metadata": {},
     "output_type": "execute_result"
    },
    {
     "data": {
      "text/plain": [
       "'test dimensions are : (15021, 13)'"
      ]
     },
     "execution_count": 46,
     "metadata": {},
     "output_type": "execute_result"
    },
    {
     "data": {
      "text/html": [
       "<div>\n",
       "<style scoped>\n",
       "    .dataframe tbody tr th:only-of-type {\n",
       "        vertical-align: middle;\n",
       "    }\n",
       "\n",
       "    .dataframe tbody tr th {\n",
       "        vertical-align: top;\n",
       "    }\n",
       "\n",
       "    .dataframe thead th {\n",
       "        text-align: right;\n",
       "    }\n",
       "</style>\n",
       "<table border=\"1\" class=\"dataframe\">\n",
       "  <thead>\n",
       "    <tr style=\"text-align: right;\">\n",
       "      <th></th>\n",
       "      <th>enrollee_id</th>\n",
       "      <th>city</th>\n",
       "      <th>city_development_index</th>\n",
       "      <th>gender</th>\n",
       "      <th>relevent_experience</th>\n",
       "      <th>enrolled_university</th>\n",
       "      <th>education_level</th>\n",
       "      <th>major_discipline</th>\n",
       "      <th>experience</th>\n",
       "      <th>company_size</th>\n",
       "      <th>company_type</th>\n",
       "      <th>last_new_job</th>\n",
       "      <th>training_hours</th>\n",
       "      <th>target</th>\n",
       "    </tr>\n",
       "  </thead>\n",
       "  <tbody>\n",
       "    <tr>\n",
       "      <th>0</th>\n",
       "      <td>23798</td>\n",
       "      <td>city_149</td>\n",
       "      <td>0.689</td>\n",
       "      <td>Male</td>\n",
       "      <td>Has relevent experience</td>\n",
       "      <td>no_enrollment</td>\n",
       "      <td>Graduate</td>\n",
       "      <td>STEM</td>\n",
       "      <td>3</td>\n",
       "      <td>100-500</td>\n",
       "      <td>Pvt Ltd</td>\n",
       "      <td>1</td>\n",
       "      <td>106</td>\n",
       "      <td>0</td>\n",
       "    </tr>\n",
       "    <tr>\n",
       "      <th>1</th>\n",
       "      <td>29166</td>\n",
       "      <td>city_83</td>\n",
       "      <td>0.923</td>\n",
       "      <td>Male</td>\n",
       "      <td>Has relevent experience</td>\n",
       "      <td>no_enrollment</td>\n",
       "      <td>Graduate</td>\n",
       "      <td>STEM</td>\n",
       "      <td>14</td>\n",
       "      <td>&lt;10</td>\n",
       "      <td>Funded Startup</td>\n",
       "      <td>1</td>\n",
       "      <td>69</td>\n",
       "      <td>0</td>\n",
       "    </tr>\n",
       "  </tbody>\n",
       "</table>\n",
       "</div>"
      ],
      "text/plain": [
       "  enrollee_id      city  city_development_index gender  \\\n",
       "0       23798  city_149                   0.689   Male   \n",
       "1       29166   city_83                   0.923   Male   \n",
       "\n",
       "       relevent_experience enrolled_university education_level  \\\n",
       "0  Has relevent experience       no_enrollment        Graduate   \n",
       "1  Has relevent experience       no_enrollment        Graduate   \n",
       "\n",
       "  major_discipline experience company_size    company_type last_new_job  \\\n",
       "0             STEM          3      100-500         Pvt Ltd            1   \n",
       "1             STEM         14          <10  Funded Startup            1   \n",
       "\n",
       "   training_hours  target  \n",
       "0             106       0  \n",
       "1              69       0  "
      ]
     },
     "execution_count": 46,
     "metadata": {},
     "output_type": "execute_result"
    },
    {
     "data": {
      "text/html": [
       "<div>\n",
       "<style scoped>\n",
       "    .dataframe tbody tr th:only-of-type {\n",
       "        vertical-align: middle;\n",
       "    }\n",
       "\n",
       "    .dataframe tbody tr th {\n",
       "        vertical-align: top;\n",
       "    }\n",
       "\n",
       "    .dataframe thead th {\n",
       "        text-align: right;\n",
       "    }\n",
       "</style>\n",
       "<table border=\"1\" class=\"dataframe\">\n",
       "  <thead>\n",
       "    <tr style=\"text-align: right;\">\n",
       "      <th></th>\n",
       "      <th>enrollee_id</th>\n",
       "      <th>city</th>\n",
       "      <th>city_development_index</th>\n",
       "      <th>gender</th>\n",
       "      <th>relevent_experience</th>\n",
       "      <th>enrolled_university</th>\n",
       "      <th>education_level</th>\n",
       "      <th>major_discipline</th>\n",
       "      <th>experience</th>\n",
       "      <th>company_size</th>\n",
       "      <th>company_type</th>\n",
       "      <th>last_new_job</th>\n",
       "      <th>training_hours</th>\n",
       "    </tr>\n",
       "  </thead>\n",
       "  <tbody>\n",
       "    <tr>\n",
       "      <th>0</th>\n",
       "      <td>16548</td>\n",
       "      <td>city_33</td>\n",
       "      <td>0.448</td>\n",
       "      <td>NaN</td>\n",
       "      <td>No relevent experience</td>\n",
       "      <td>Full time course</td>\n",
       "      <td>Graduate</td>\n",
       "      <td>STEM</td>\n",
       "      <td>&lt;1</td>\n",
       "      <td>1000-4999</td>\n",
       "      <td>Public Sector</td>\n",
       "      <td>NaN</td>\n",
       "      <td>15</td>\n",
       "    </tr>\n",
       "    <tr>\n",
       "      <th>1</th>\n",
       "      <td>12036</td>\n",
       "      <td>city_28</td>\n",
       "      <td>0.939</td>\n",
       "      <td>Male</td>\n",
       "      <td>No relevent experience</td>\n",
       "      <td>no_enrollment</td>\n",
       "      <td>Graduate</td>\n",
       "      <td>STEM</td>\n",
       "      <td>&gt;20</td>\n",
       "      <td>50-99</td>\n",
       "      <td>Pvt Ltd</td>\n",
       "      <td>1</td>\n",
       "      <td>94</td>\n",
       "    </tr>\n",
       "  </tbody>\n",
       "</table>\n",
       "</div>"
      ],
      "text/plain": [
       "  enrollee_id     city  city_development_index gender     relevent_experience  \\\n",
       "0       16548  city_33                   0.448    NaN  No relevent experience   \n",
       "1       12036  city_28                   0.939   Male  No relevent experience   \n",
       "\n",
       "  enrolled_university education_level major_discipline experience  \\\n",
       "0    Full time course        Graduate             STEM         <1   \n",
       "1       no_enrollment        Graduate             STEM        >20   \n",
       "\n",
       "  company_size   company_type last_new_job  training_hours  \n",
       "0    1000-4999  Public Sector          NaN              15  \n",
       "1        50-99        Pvt Ltd            1              94  "
      ]
     },
     "execution_count": 46,
     "metadata": {},
     "output_type": "execute_result"
    }
   ],
   "source": [
    "train = pd.read_csv(f'{path}/input/train_jqd04QH.csv',dtype = {'enrollee_id':str})\n",
    "test = pd.read_csv(f'{path}/input/test_KaymcHn.csv',dtype = {'enrollee_id':str})\n",
    "\n",
    "f'train dimensions are : {train.shape}'\n",
    "f'test dimensions are : {test.shape}'\n",
    "\n",
    "train.head(2)\n",
    "test.head(2)\n"
   ]
  },
  {
   "cell_type": "code",
   "execution_count": 47,
   "metadata": {},
   "outputs": [],
   "source": [
    "def data_info(df = train):\n",
    "    df_info = pd.DataFrame(df.isna().sum(),columns = ['Null_count'])\n",
    "    df_info['Non_Null_count'] = df_info.index.map(df.notna().sum())\n",
    "    df_info['N_unique'] = df_info.index.map(df.nunique())\n",
    "    df_info['D_types'] = df_info.index.map(df.dtypes)\n",
    "    df_info['Blank_count'] = df_info.index.map((df=='').sum())\n",
    "    return df_info"
   ]
  },
  {
   "cell_type": "code",
   "execution_count": 48,
   "metadata": {},
   "outputs": [
    {
     "data": {
      "text/html": [
       "<div>\n",
       "<style scoped>\n",
       "    .dataframe tbody tr th:only-of-type {\n",
       "        vertical-align: middle;\n",
       "    }\n",
       "\n",
       "    .dataframe tbody tr th {\n",
       "        vertical-align: top;\n",
       "    }\n",
       "\n",
       "    .dataframe thead th {\n",
       "        text-align: right;\n",
       "    }\n",
       "</style>\n",
       "<table border=\"1\" class=\"dataframe\">\n",
       "  <thead>\n",
       "    <tr style=\"text-align: right;\">\n",
       "      <th></th>\n",
       "      <th>Null_count</th>\n",
       "      <th>Non_Null_count</th>\n",
       "      <th>N_unique</th>\n",
       "      <th>D_types</th>\n",
       "      <th>Blank_count</th>\n",
       "    </tr>\n",
       "  </thead>\n",
       "  <tbody>\n",
       "    <tr>\n",
       "      <th>enrollee_id</th>\n",
       "      <td>0</td>\n",
       "      <td>18359</td>\n",
       "      <td>18359</td>\n",
       "      <td>object</td>\n",
       "      <td>0</td>\n",
       "    </tr>\n",
       "    <tr>\n",
       "      <th>city</th>\n",
       "      <td>0</td>\n",
       "      <td>18359</td>\n",
       "      <td>123</td>\n",
       "      <td>object</td>\n",
       "      <td>0</td>\n",
       "    </tr>\n",
       "    <tr>\n",
       "      <th>city_development_index</th>\n",
       "      <td>0</td>\n",
       "      <td>18359</td>\n",
       "      <td>93</td>\n",
       "      <td>float64</td>\n",
       "      <td>0</td>\n",
       "    </tr>\n",
       "    <tr>\n",
       "      <th>gender</th>\n",
       "      <td>4098</td>\n",
       "      <td>14261</td>\n",
       "      <td>3</td>\n",
       "      <td>object</td>\n",
       "      <td>0</td>\n",
       "    </tr>\n",
       "    <tr>\n",
       "      <th>relevent_experience</th>\n",
       "      <td>0</td>\n",
       "      <td>18359</td>\n",
       "      <td>2</td>\n",
       "      <td>object</td>\n",
       "      <td>0</td>\n",
       "    </tr>\n",
       "    <tr>\n",
       "      <th>enrolled_university</th>\n",
       "      <td>342</td>\n",
       "      <td>18017</td>\n",
       "      <td>3</td>\n",
       "      <td>object</td>\n",
       "      <td>0</td>\n",
       "    </tr>\n",
       "    <tr>\n",
       "      <th>education_level</th>\n",
       "      <td>457</td>\n",
       "      <td>17902</td>\n",
       "      <td>5</td>\n",
       "      <td>object</td>\n",
       "      <td>0</td>\n",
       "    </tr>\n",
       "    <tr>\n",
       "      <th>major_discipline</th>\n",
       "      <td>2838</td>\n",
       "      <td>15521</td>\n",
       "      <td>6</td>\n",
       "      <td>object</td>\n",
       "      <td>0</td>\n",
       "    </tr>\n",
       "    <tr>\n",
       "      <th>experience</th>\n",
       "      <td>59</td>\n",
       "      <td>18300</td>\n",
       "      <td>22</td>\n",
       "      <td>object</td>\n",
       "      <td>0</td>\n",
       "    </tr>\n",
       "    <tr>\n",
       "      <th>company_size</th>\n",
       "      <td>4779</td>\n",
       "      <td>13580</td>\n",
       "      <td>8</td>\n",
       "      <td>object</td>\n",
       "      <td>0</td>\n",
       "    </tr>\n",
       "    <tr>\n",
       "      <th>company_type</th>\n",
       "      <td>5039</td>\n",
       "      <td>13320</td>\n",
       "      <td>6</td>\n",
       "      <td>object</td>\n",
       "      <td>0</td>\n",
       "    </tr>\n",
       "    <tr>\n",
       "      <th>last_new_job</th>\n",
       "      <td>367</td>\n",
       "      <td>17992</td>\n",
       "      <td>6</td>\n",
       "      <td>object</td>\n",
       "      <td>0</td>\n",
       "    </tr>\n",
       "    <tr>\n",
       "      <th>training_hours</th>\n",
       "      <td>0</td>\n",
       "      <td>18359</td>\n",
       "      <td>241</td>\n",
       "      <td>int64</td>\n",
       "      <td>0</td>\n",
       "    </tr>\n",
       "    <tr>\n",
       "      <th>target</th>\n",
       "      <td>0</td>\n",
       "      <td>18359</td>\n",
       "      <td>2</td>\n",
       "      <td>int64</td>\n",
       "      <td>0</td>\n",
       "    </tr>\n",
       "  </tbody>\n",
       "</table>\n",
       "</div>"
      ],
      "text/plain": [
       "                        Null_count  Non_Null_count  N_unique  D_types  \\\n",
       "enrollee_id                      0           18359     18359   object   \n",
       "city                             0           18359       123   object   \n",
       "city_development_index           0           18359        93  float64   \n",
       "gender                        4098           14261         3   object   \n",
       "relevent_experience              0           18359         2   object   \n",
       "enrolled_university            342           18017         3   object   \n",
       "education_level                457           17902         5   object   \n",
       "major_discipline              2838           15521         6   object   \n",
       "experience                      59           18300        22   object   \n",
       "company_size                  4779           13580         8   object   \n",
       "company_type                  5039           13320         6   object   \n",
       "last_new_job                   367           17992         6   object   \n",
       "training_hours                   0           18359       241    int64   \n",
       "target                           0           18359         2    int64   \n",
       "\n",
       "                        Blank_count  \n",
       "enrollee_id                       0  \n",
       "city                              0  \n",
       "city_development_index            0  \n",
       "gender                            0  \n",
       "relevent_experience               0  \n",
       "enrolled_university               0  \n",
       "education_level                   0  \n",
       "major_discipline                  0  \n",
       "experience                        0  \n",
       "company_size                      0  \n",
       "company_type                      0  \n",
       "last_new_job                      0  \n",
       "training_hours                    0  \n",
       "target                            0  "
      ]
     },
     "execution_count": 48,
     "metadata": {},
     "output_type": "execute_result"
    }
   ],
   "source": [
    "data_info(train)"
   ]
  },
  {
   "cell_type": "raw",
   "metadata": {},
   "source": [
    "train.describe(include = 'all')"
   ]
  },
  {
   "cell_type": "markdown",
   "metadata": {},
   "source": [
    "### checking event rate "
   ]
  },
  {
   "cell_type": "code",
   "execution_count": 49,
   "metadata": {},
   "outputs": [
    {
     "data": {
      "text/plain": [
       "Counter({0: 15934, 1: 2425})"
      ]
     },
     "execution_count": 49,
     "metadata": {},
     "output_type": "execute_result"
    },
    {
     "data": {
      "text/plain": [
       "0    0.867912\n",
       "1    0.132088\n",
       "Name: target, dtype: float64"
      ]
     },
     "execution_count": 49,
     "metadata": {},
     "output_type": "execute_result"
    }
   ],
   "source": [
    "from collections import Counter\n",
    "Counter(train.target)\n",
    "train.target.value_counts(normalize=True) # works for numeric columns too with arguement `bins`\n",
    "#train.city_development_index.value_counts(bins =6)"
   ]
  },
  {
   "cell_type": "markdown",
   "metadata": {},
   "source": [
    "### treating null values"
   ]
  },
  {
   "cell_type": "code",
   "execution_count": 50,
   "metadata": {
    "scrolled": true
   },
   "outputs": [
    {
     "data": {
      "text/plain": [
       "Male      12884\n",
       "NaN        4098\n",
       "Female     1188\n",
       "Other       189\n",
       "Name: gender, dtype: int64"
      ]
     },
     "execution_count": 50,
     "metadata": {},
     "output_type": "execute_result"
    }
   ],
   "source": [
    "var = 'gender'\n",
    "#f'count of NULLs in {var} : {train[[var]].isna().sum()[0]}'\n",
    "train[var].value_counts(dropna = False)"
   ]
  },
  {
   "cell_type": "code",
   "execution_count": 51,
   "metadata": {},
   "outputs": [
    {
     "data": {
      "text/plain": [
       "Text(0.5, 1.0, 'Count Plot of gender')"
      ]
     },
     "execution_count": 51,
     "metadata": {},
     "output_type": "execute_result"
    },
    {
     "data": {
      "text/html": [
       "<div>\n",
       "<style scoped>\n",
       "    .dataframe tbody tr th:only-of-type {\n",
       "        vertical-align: middle;\n",
       "    }\n",
       "\n",
       "    .dataframe tbody tr th {\n",
       "        vertical-align: top;\n",
       "    }\n",
       "\n",
       "    .dataframe thead th {\n",
       "        text-align: right;\n",
       "    }\n",
       "</style>\n",
       "<table border=\"1\" class=\"dataframe\">\n",
       "  <thead>\n",
       "    <tr style=\"text-align: right;\">\n",
       "      <th>target</th>\n",
       "      <th>0</th>\n",
       "      <th>1</th>\n",
       "    </tr>\n",
       "    <tr>\n",
       "      <th>gender</th>\n",
       "      <th></th>\n",
       "      <th></th>\n",
       "    </tr>\n",
       "  </thead>\n",
       "  <tbody>\n",
       "    <tr>\n",
       "      <th>Female</th>\n",
       "      <td>0.849327</td>\n",
       "      <td>0.150673</td>\n",
       "    </tr>\n",
       "    <tr>\n",
       "      <th>Male</th>\n",
       "      <td>0.877523</td>\n",
       "      <td>0.122477</td>\n",
       "    </tr>\n",
       "    <tr>\n",
       "      <th>Other</th>\n",
       "      <td>0.846561</td>\n",
       "      <td>0.153439</td>\n",
       "    </tr>\n",
       "    <tr>\n",
       "      <th>All</th>\n",
       "      <td>0.874763</td>\n",
       "      <td>0.125237</td>\n",
       "    </tr>\n",
       "  </tbody>\n",
       "</table>\n",
       "</div>"
      ],
      "text/plain": [
       "target         0         1\n",
       "gender                    \n",
       "Female  0.849327  0.150673\n",
       "Male    0.877523  0.122477\n",
       "Other   0.846561  0.153439\n",
       "All     0.874763  0.125237"
      ]
     },
     "execution_count": 51,
     "metadata": {},
     "output_type": "execute_result"
    },
    {
     "data": {
      "image/png": "[encoded data removed]",
      "text/plain": [
       "<Figure size 432x288 with 1 Axes>"
      ]
     },
     "metadata": {},
     "output_type": "display_data"
    }
   ],
   "source": [
    "sns.countplot(x= var,hue='target', data = train).set_title(f'Count Plot of {var}');\n",
    "pd.crosstab(index = train[var], columns = train.target,margins = True,normalize='index',)"
   ]
  },
  {
   "cell_type": "code",
   "execution_count": 52,
   "metadata": {},
   "outputs": [],
   "source": [
    "#creating a label 'missing' as the null count is very high \n",
    "train[var].fillna('unknown',inplace=True)"
   ]
  },
  {
   "cell_type": "code",
   "execution_count": 53,
   "metadata": {},
   "outputs": [],
   "source": [
    "#http://sphweb.bumc.bu.edu/otlt/MPH-Modules/BS/DataPresentation/DataPresentation7.html"
   ]
  },
  {
   "cell_type": "code",
   "execution_count": null,
   "metadata": {},
   "outputs": [],
   "source": []
  },
  {
   "cell_type": "code",
   "execution_count": 54,
   "metadata": {
    "scrolled": false
   },
   "outputs": [
    {
     "data": {
      "text/plain": [
       "no_enrollment       13659\n",
       "Full time course     3187\n",
       "Part time course     1171\n",
       "NaN                   342\n",
       "Name: enrolled_university, dtype: int64"
      ]
     },
     "execution_count": 54,
     "metadata": {},
     "output_type": "execute_result"
    }
   ],
   "source": [
    "#enrolled_university  --  Type of University course enrolled if any\n",
    "var = 'enrolled_university'\n",
    "#f'count of NULLs in {var} : {train[[var]].isna().sum()[0]}'\n",
    "train[var].value_counts(dropna = False)"
   ]
  },
  {
   "cell_type": "code",
   "execution_count": 55,
   "metadata": {},
   "outputs": [
    {
     "data": {
      "text/plain": [
       "Text(0.5, 1.0, 'Count Plot of enrolled_university')"
      ]
     },
     "execution_count": 55,
     "metadata": {},
     "output_type": "execute_result"
    },
    {
     "data": {
      "text/html": [
       "<div>\n",
       "<style scoped>\n",
       "    .dataframe tbody tr th:only-of-type {\n",
       "        vertical-align: middle;\n",
       "    }\n",
       "\n",
       "    .dataframe tbody tr th {\n",
       "        vertical-align: top;\n",
       "    }\n",
       "\n",
       "    .dataframe thead th {\n",
       "        text-align: right;\n",
       "    }\n",
       "</style>\n",
       "<table border=\"1\" class=\"dataframe\">\n",
       "  <thead>\n",
       "    <tr style=\"text-align: right;\">\n",
       "      <th>target</th>\n",
       "      <th>0</th>\n",
       "      <th>1</th>\n",
       "    </tr>\n",
       "    <tr>\n",
       "      <th>enrolled_university</th>\n",
       "      <th></th>\n",
       "      <th></th>\n",
       "    </tr>\n",
       "  </thead>\n",
       "  <tbody>\n",
       "    <tr>\n",
       "      <th>Full time course</th>\n",
       "      <td>0.809539</td>\n",
       "      <td>0.190461</td>\n",
       "    </tr>\n",
       "    <tr>\n",
       "      <th>Part time course</th>\n",
       "      <td>0.851409</td>\n",
       "      <td>0.148591</td>\n",
       "    </tr>\n",
       "    <tr>\n",
       "      <th>no_enrollment</th>\n",
       "      <td>0.883740</td>\n",
       "      <td>0.116260</td>\n",
       "    </tr>\n",
       "    <tr>\n",
       "      <th>All</th>\n",
       "      <td>0.868513</td>\n",
       "      <td>0.131487</td>\n",
       "    </tr>\n",
       "  </tbody>\n",
       "</table>\n",
       "</div>"
      ],
      "text/plain": [
       "target                      0         1\n",
       "enrolled_university                    \n",
       "Full time course     0.809539  0.190461\n",
       "Part time course     0.851409  0.148591\n",
       "no_enrollment        0.883740  0.116260\n",
       "All                  0.868513  0.131487"
      ]
     },
     "execution_count": 55,
     "metadata": {},
     "output_type": "execute_result"
    },
    {
     "data": {
      "image/png": "[encoded data removed]",
      "text/plain": [
       "<Figure size 432x288 with 1 Axes>"
      ]
     },
     "metadata": {},
     "output_type": "display_data"
    }
   ],
   "source": [
    "sns.countplot(x=var,hue='target', data = train).set_title(f'Count Plot of {var}');\n",
    "pd.crosstab(index = train[var], columns = train.target,margins = True,normalize='index',)"
   ]
  },
  {
   "cell_type": "code",
   "execution_count": 56,
   "metadata": {},
   "outputs": [],
   "source": [
    "#replacing NULLs with modes\n",
    "train[var].fillna(train[var].mode()[0],inplace=True)"
   ]
  },
  {
   "cell_type": "code",
   "execution_count": null,
   "metadata": {},
   "outputs": [],
   "source": []
  },
  {
   "cell_type": "code",
   "execution_count": 57,
   "metadata": {
    "scrolled": false
   },
   "outputs": [
    {
     "data": {
      "text/plain": [
       "Graduate          0.586579\n",
       "Masters           0.235252\n",
       "High School       0.110681\n",
       "Phd               0.025001\n",
       "NaN               0.024892\n",
       "Primary School    0.017594\n",
       "Name: education_level, dtype: float64"
      ]
     },
     "execution_count": 57,
     "metadata": {},
     "output_type": "execute_result"
    }
   ],
   "source": [
    "#enrolled_university  --  Type of University course enrolled if any\n",
    "var = 'education_level'\n",
    "train[var].value_counts(dropna=False,normalize=True)"
   ]
  },
  {
   "cell_type": "code",
   "execution_count": 58,
   "metadata": {},
   "outputs": [
    {
     "data": {
      "text/plain": [
       "Text(0.5, 1.0, 'Count Plot of education_level')"
      ]
     },
     "execution_count": 58,
     "metadata": {},
     "output_type": "execute_result"
    },
    {
     "data": {
      "text/html": [
       "<div>\n",
       "<style scoped>\n",
       "    .dataframe tbody tr th:only-of-type {\n",
       "        vertical-align: middle;\n",
       "    }\n",
       "\n",
       "    .dataframe tbody tr th {\n",
       "        vertical-align: top;\n",
       "    }\n",
       "\n",
       "    .dataframe thead th {\n",
       "        text-align: right;\n",
       "    }\n",
       "</style>\n",
       "<table border=\"1\" class=\"dataframe\">\n",
       "  <thead>\n",
       "    <tr style=\"text-align: right;\">\n",
       "      <th>target</th>\n",
       "      <th>0</th>\n",
       "      <th>1</th>\n",
       "      <th>All</th>\n",
       "    </tr>\n",
       "    <tr>\n",
       "      <th>education_level</th>\n",
       "      <th></th>\n",
       "      <th></th>\n",
       "      <th></th>\n",
       "    </tr>\n",
       "  </thead>\n",
       "  <tbody>\n",
       "    <tr>\n",
       "      <th>Graduate</th>\n",
       "      <td>9237</td>\n",
       "      <td>1532</td>\n",
       "      <td>10769</td>\n",
       "    </tr>\n",
       "    <tr>\n",
       "      <th>High School</th>\n",
       "      <td>1791</td>\n",
       "      <td>241</td>\n",
       "      <td>2032</td>\n",
       "    </tr>\n",
       "    <tr>\n",
       "      <th>Masters</th>\n",
       "      <td>3806</td>\n",
       "      <td>513</td>\n",
       "      <td>4319</td>\n",
       "    </tr>\n",
       "    <tr>\n",
       "      <th>Phd</th>\n",
       "      <td>406</td>\n",
       "      <td>53</td>\n",
       "      <td>459</td>\n",
       "    </tr>\n",
       "    <tr>\n",
       "      <th>Primary School</th>\n",
       "      <td>298</td>\n",
       "      <td>25</td>\n",
       "      <td>323</td>\n",
       "    </tr>\n",
       "    <tr>\n",
       "      <th>All</th>\n",
       "      <td>15538</td>\n",
       "      <td>2364</td>\n",
       "      <td>17902</td>\n",
       "    </tr>\n",
       "  </tbody>\n",
       "</table>\n",
       "</div>"
      ],
      "text/plain": [
       "target               0     1    All\n",
       "education_level                    \n",
       "Graduate          9237  1532  10769\n",
       "High School       1791   241   2032\n",
       "Masters           3806   513   4319\n",
       "Phd                406    53    459\n",
       "Primary School     298    25    323\n",
       "All              15538  2364  17902"
      ]
     },
     "execution_count": 58,
     "metadata": {},
     "output_type": "execute_result"
    },
    {
     "data": {
      "image/png": "[encoded data removed]",
      "text/plain": [
       "<Figure size 432x288 with 1 Axes>"
      ]
     },
     "metadata": {},
     "output_type": "display_data"
    }
   ],
   "source": [
    "sns.countplot(x=var,hue='target', data = train).set_title(f'Count Plot of {var}');\n",
    "pd.crosstab(index = train[var], columns = train.target,margins = True)#,normalize='index',)"
   ]
  },
  {
   "cell_type": "code",
   "execution_count": 59,
   "metadata": {},
   "outputs": [],
   "source": [
    "#replacing NULLs with modes\n",
    "train[var].fillna('missing',inplace=True)"
   ]
  },
  {
   "cell_type": "code",
   "execution_count": null,
   "metadata": {},
   "outputs": [],
   "source": []
  },
  {
   "cell_type": "code",
   "execution_count": 60,
   "metadata": {
    "scrolled": false
   },
   "outputs": [
    {
     "data": {
      "text/plain": [
       "STEM               0.748298\n",
       "NaN                0.154584\n",
       "Humanities         0.037475\n",
       "Other              0.018683\n",
       "Business Degree    0.016722\n",
       "Arts               0.013018\n",
       "No Major           0.011221\n",
       "Name: major_discipline, dtype: float64"
      ]
     },
     "execution_count": 60,
     "metadata": {},
     "output_type": "execute_result"
    }
   ],
   "source": [
    "#enrolled_university  --  Type of University course enrolled if any\n",
    "var = 'major_discipline'\n",
    "train[var].value_counts(dropna=False,normalize=True)"
   ]
  },
  {
   "cell_type": "code",
   "execution_count": 61,
   "metadata": {},
   "outputs": [
    {
     "data": {
      "text/plain": [
       "Text(0.5, 1.0, 'Count Plot of major_discipline')"
      ]
     },
     "execution_count": 61,
     "metadata": {},
     "output_type": "execute_result"
    },
    {
     "data": {
      "text/html": [
       "<div>\n",
       "<style scoped>\n",
       "    .dataframe tbody tr th:only-of-type {\n",
       "        vertical-align: middle;\n",
       "    }\n",
       "\n",
       "    .dataframe tbody tr th {\n",
       "        vertical-align: top;\n",
       "    }\n",
       "\n",
       "    .dataframe thead th {\n",
       "        text-align: right;\n",
       "    }\n",
       "</style>\n",
       "<table border=\"1\" class=\"dataframe\">\n",
       "  <thead>\n",
       "    <tr style=\"text-align: right;\">\n",
       "      <th>target</th>\n",
       "      <th>0</th>\n",
       "      <th>1</th>\n",
       "      <th>All</th>\n",
       "    </tr>\n",
       "    <tr>\n",
       "      <th>major_discipline</th>\n",
       "      <th></th>\n",
       "      <th></th>\n",
       "      <th></th>\n",
       "    </tr>\n",
       "  </thead>\n",
       "  <tbody>\n",
       "    <tr>\n",
       "      <th>Arts</th>\n",
       "      <td>214</td>\n",
       "      <td>25</td>\n",
       "      <td>239</td>\n",
       "    </tr>\n",
       "    <tr>\n",
       "      <th>Business Degree</th>\n",
       "      <td>268</td>\n",
       "      <td>39</td>\n",
       "      <td>307</td>\n",
       "    </tr>\n",
       "    <tr>\n",
       "      <th>Humanities</th>\n",
       "      <td>595</td>\n",
       "      <td>93</td>\n",
       "      <td>688</td>\n",
       "    </tr>\n",
       "    <tr>\n",
       "      <th>No Major</th>\n",
       "      <td>186</td>\n",
       "      <td>20</td>\n",
       "      <td>206</td>\n",
       "    </tr>\n",
       "    <tr>\n",
       "      <th>Other</th>\n",
       "      <td>306</td>\n",
       "      <td>37</td>\n",
       "      <td>343</td>\n",
       "    </tr>\n",
       "    <tr>\n",
       "      <th>STEM</th>\n",
       "      <td>11861</td>\n",
       "      <td>1877</td>\n",
       "      <td>13738</td>\n",
       "    </tr>\n",
       "    <tr>\n",
       "      <th>All</th>\n",
       "      <td>15934</td>\n",
       "      <td>2425</td>\n",
       "      <td>18359</td>\n",
       "    </tr>\n",
       "  </tbody>\n",
       "</table>\n",
       "</div>"
      ],
      "text/plain": [
       "target                0     1    All\n",
       "major_discipline                    \n",
       "Arts                214    25    239\n",
       "Business Degree     268    39    307\n",
       "Humanities          595    93    688\n",
       "No Major            186    20    206\n",
       "Other               306    37    343\n",
       "STEM              11861  1877  13738\n",
       "All               15934  2425  18359"
      ]
     },
     "execution_count": 61,
     "metadata": {},
     "output_type": "execute_result"
    },
    {
     "data": {
      "image/png": "[encoded data removed]",
      "text/plain": [
       "<Figure size 432x288 with 1 Axes>"
      ]
     },
     "metadata": {},
     "output_type": "display_data"
    }
   ],
   "source": [
    "sns.countplot(x=var,hue='target', data = train).set_title(f'Count Plot of {var}');\n",
    "pd.crosstab(index = train[var], columns = train.target,margins = True,dropna = False)#,normalize='index',)"
   ]
  },
  {
   "cell_type": "code",
   "execution_count": 62,
   "metadata": {},
   "outputs": [],
   "source": [
    "#replacing NULLs with modes\n",
    "train[var].fillna('missing',inplace=True)"
   ]
  },
  {
   "cell_type": "code",
   "execution_count": null,
   "metadata": {},
   "outputs": [],
   "source": []
  },
  {
   "cell_type": "code",
   "execution_count": 63,
   "metadata": {},
   "outputs": [
    {
     "data": {
      "text/plain": [
       ">20    0.187211\n",
       "5      0.071300\n",
       "4      0.068086\n",
       "3      0.063130\n",
       "6      0.061278\n",
       "2      0.054033\n",
       "9      0.053325\n",
       "10     0.052672\n",
       "7      0.051746\n",
       "8      0.041124\n",
       "15     0.037856\n",
       "11     0.036331\n",
       "14     0.032790\n",
       "16     0.029904\n",
       "12     0.027071\n",
       "1      0.024620\n",
       "<1     0.022659\n",
       "13     0.022441\n",
       "17     0.018901\n",
       "19     0.016777\n",
       "18     0.015578\n",
       "20     0.007953\n",
       "NaN    0.003214\n",
       "Name: experience, dtype: float64"
      ]
     },
     "execution_count": 63,
     "metadata": {},
     "output_type": "execute_result"
    }
   ],
   "source": [
    "#enrolled_university  --  Type of University course enrolled if any\n",
    "var = 'experience'\n",
    "train[var].value_counts(dropna=False,normalize=True)"
   ]
  },
  {
   "cell_type": "code",
   "execution_count": 64,
   "metadata": {},
   "outputs": [
    {
     "data": {
      "text/plain": [
       "Text(0.5, 1.0, 'Count Plot of experience')"
      ]
     },
     "execution_count": 64,
     "metadata": {},
     "output_type": "execute_result"
    },
    {
     "data": {
      "text/html": [
       "<div>\n",
       "<style scoped>\n",
       "    .dataframe tbody tr th:only-of-type {\n",
       "        vertical-align: middle;\n",
       "    }\n",
       "\n",
       "    .dataframe tbody tr th {\n",
       "        vertical-align: top;\n",
       "    }\n",
       "\n",
       "    .dataframe thead th {\n",
       "        text-align: right;\n",
       "    }\n",
       "</style>\n",
       "<table border=\"1\" class=\"dataframe\">\n",
       "  <thead>\n",
       "    <tr style=\"text-align: right;\">\n",
       "      <th>target</th>\n",
       "      <th>0</th>\n",
       "      <th>1</th>\n",
       "    </tr>\n",
       "    <tr>\n",
       "      <th>experience</th>\n",
       "      <th></th>\n",
       "      <th></th>\n",
       "    </tr>\n",
       "  </thead>\n",
       "  <tbody>\n",
       "    <tr>\n",
       "      <th>1</th>\n",
       "      <td>0.761062</td>\n",
       "      <td>0.238938</td>\n",
       "    </tr>\n",
       "    <tr>\n",
       "      <th>10</th>\n",
       "      <td>0.875905</td>\n",
       "      <td>0.124095</td>\n",
       "    </tr>\n",
       "    <tr>\n",
       "      <th>11</th>\n",
       "      <td>0.875562</td>\n",
       "      <td>0.124438</td>\n",
       "    </tr>\n",
       "    <tr>\n",
       "      <th>12</th>\n",
       "      <td>0.895372</td>\n",
       "      <td>0.104628</td>\n",
       "    </tr>\n",
       "    <tr>\n",
       "      <th>13</th>\n",
       "      <td>0.883495</td>\n",
       "      <td>0.116505</td>\n",
       "    </tr>\n",
       "    <tr>\n",
       "      <th>14</th>\n",
       "      <td>0.875415</td>\n",
       "      <td>0.124585</td>\n",
       "    </tr>\n",
       "    <tr>\n",
       "      <th>15</th>\n",
       "      <td>0.889209</td>\n",
       "      <td>0.110791</td>\n",
       "    </tr>\n",
       "    <tr>\n",
       "      <th>16</th>\n",
       "      <td>0.896175</td>\n",
       "      <td>0.103825</td>\n",
       "    </tr>\n",
       "    <tr>\n",
       "      <th>17</th>\n",
       "      <td>0.902017</td>\n",
       "      <td>0.097983</td>\n",
       "    </tr>\n",
       "    <tr>\n",
       "      <th>18</th>\n",
       "      <td>0.909091</td>\n",
       "      <td>0.090909</td>\n",
       "    </tr>\n",
       "    <tr>\n",
       "      <th>19</th>\n",
       "      <td>0.892857</td>\n",
       "      <td>0.107143</td>\n",
       "    </tr>\n",
       "    <tr>\n",
       "      <th>2</th>\n",
       "      <td>0.827621</td>\n",
       "      <td>0.172379</td>\n",
       "    </tr>\n",
       "    <tr>\n",
       "      <th>20</th>\n",
       "      <td>0.890411</td>\n",
       "      <td>0.109589</td>\n",
       "    </tr>\n",
       "    <tr>\n",
       "      <th>3</th>\n",
       "      <td>0.835203</td>\n",
       "      <td>0.164797</td>\n",
       "    </tr>\n",
       "    <tr>\n",
       "      <th>4</th>\n",
       "      <td>0.831200</td>\n",
       "      <td>0.168800</td>\n",
       "    </tr>\n",
       "    <tr>\n",
       "      <th>5</th>\n",
       "      <td>0.859435</td>\n",
       "      <td>0.140565</td>\n",
       "    </tr>\n",
       "    <tr>\n",
       "      <th>6</th>\n",
       "      <td>0.864000</td>\n",
       "      <td>0.136000</td>\n",
       "    </tr>\n",
       "    <tr>\n",
       "      <th>7</th>\n",
       "      <td>0.853684</td>\n",
       "      <td>0.146316</td>\n",
       "    </tr>\n",
       "    <tr>\n",
       "      <th>8</th>\n",
       "      <td>0.886093</td>\n",
       "      <td>0.113907</td>\n",
       "    </tr>\n",
       "    <tr>\n",
       "      <th>9</th>\n",
       "      <td>0.879469</td>\n",
       "      <td>0.120531</td>\n",
       "    </tr>\n",
       "    <tr>\n",
       "      <th>&lt;1</th>\n",
       "      <td>0.757212</td>\n",
       "      <td>0.242788</td>\n",
       "    </tr>\n",
       "    <tr>\n",
       "      <th>&gt;20</th>\n",
       "      <td>0.903986</td>\n",
       "      <td>0.096014</td>\n",
       "    </tr>\n",
       "    <tr>\n",
       "      <th>All</th>\n",
       "      <td>0.867912</td>\n",
       "      <td>0.132088</td>\n",
       "    </tr>\n",
       "  </tbody>\n",
       "</table>\n",
       "</div>"
      ],
      "text/plain": [
       "target             0         1\n",
       "experience                    \n",
       "1           0.761062  0.238938\n",
       "10          0.875905  0.124095\n",
       "11          0.875562  0.124438\n",
       "12          0.895372  0.104628\n",
       "13          0.883495  0.116505\n",
       "14          0.875415  0.124585\n",
       "15          0.889209  0.110791\n",
       "16          0.896175  0.103825\n",
       "17          0.902017  0.097983\n",
       "18          0.909091  0.090909\n",
       "19          0.892857  0.107143\n",
       "2           0.827621  0.172379\n",
       "20          0.890411  0.109589\n",
       "3           0.835203  0.164797\n",
       "4           0.831200  0.168800\n",
       "5           0.859435  0.140565\n",
       "6           0.864000  0.136000\n",
       "7           0.853684  0.146316\n",
       "8           0.886093  0.113907\n",
       "9           0.879469  0.120531\n",
       "<1          0.757212  0.242788\n",
       ">20         0.903986  0.096014\n",
       "All         0.867912  0.132088"
      ]
     },
     "execution_count": 64,
     "metadata": {},
     "output_type": "execute_result"
    },
    {
     "data": {
      "image/png": "[encoded data removed]",
      "text/plain": [
       "<Figure size 432x288 with 1 Axes>"
      ]
     },
     "metadata": {},
     "output_type": "display_data"
    }
   ],
   "source": [
    "sns.countplot(x=var,hue='target', data = train).set_title(f'Count Plot of {var}');\n",
    "pd.crosstab(index = train[var], columns = train.target,margins = True,dropna = False,normalize='index',)"
   ]
  },
  {
   "cell_type": "code",
   "execution_count": 65,
   "metadata": {},
   "outputs": [],
   "source": [
    "#replacing NULLs with modes\n",
    "train[var].fillna(train[var].mode()[0],inplace=True)"
   ]
  },
  {
   "cell_type": "markdown",
   "metadata": {},
   "source": [
    "### on similar note imputing NAs for below variables"
   ]
  },
  {
   "cell_type": "code",
   "execution_count": 67,
   "metadata": {},
   "outputs": [],
   "source": [
    "train.fillna({'company_size' : 'missing', 'company_type' : 'missing', 'last_new_job' : train.last_new_job.mode()[0]},inplace = True)"
   ]
  },
  {
   "cell_type": "code",
   "execution_count": 68,
   "metadata": {
    "scrolled": false
   },
   "outputs": [
    {
     "data": {
      "text/html": [
       "<div>\n",
       "<style scoped>\n",
       "    .dataframe tbody tr th:only-of-type {\n",
       "        vertical-align: middle;\n",
       "    }\n",
       "\n",
       "    .dataframe tbody tr th {\n",
       "        vertical-align: top;\n",
       "    }\n",
       "\n",
       "    .dataframe thead th {\n",
       "        text-align: right;\n",
       "    }\n",
       "</style>\n",
       "<table border=\"1\" class=\"dataframe\">\n",
       "  <thead>\n",
       "    <tr style=\"text-align: right;\">\n",
       "      <th></th>\n",
       "      <th>Null_count</th>\n",
       "      <th>Non_Null_count</th>\n",
       "      <th>N_unique</th>\n",
       "      <th>D_types</th>\n",
       "      <th>Blank_count</th>\n",
       "    </tr>\n",
       "  </thead>\n",
       "  <tbody>\n",
       "    <tr>\n",
       "      <th>enrollee_id</th>\n",
       "      <td>0</td>\n",
       "      <td>18359</td>\n",
       "      <td>18359</td>\n",
       "      <td>object</td>\n",
       "      <td>0</td>\n",
       "    </tr>\n",
       "    <tr>\n",
       "      <th>city</th>\n",
       "      <td>0</td>\n",
       "      <td>18359</td>\n",
       "      <td>123</td>\n",
       "      <td>object</td>\n",
       "      <td>0</td>\n",
       "    </tr>\n",
       "    <tr>\n",
       "      <th>city_development_index</th>\n",
       "      <td>0</td>\n",
       "      <td>18359</td>\n",
       "      <td>93</td>\n",
       "      <td>float64</td>\n",
       "      <td>0</td>\n",
       "    </tr>\n",
       "    <tr>\n",
       "      <th>gender</th>\n",
       "      <td>0</td>\n",
       "      <td>18359</td>\n",
       "      <td>4</td>\n",
       "      <td>object</td>\n",
       "      <td>0</td>\n",
       "    </tr>\n",
       "    <tr>\n",
       "      <th>relevent_experience</th>\n",
       "      <td>0</td>\n",
       "      <td>18359</td>\n",
       "      <td>2</td>\n",
       "      <td>object</td>\n",
       "      <td>0</td>\n",
       "    </tr>\n",
       "    <tr>\n",
       "      <th>enrolled_university</th>\n",
       "      <td>0</td>\n",
       "      <td>18359</td>\n",
       "      <td>3</td>\n",
       "      <td>object</td>\n",
       "      <td>0</td>\n",
       "    </tr>\n",
       "    <tr>\n",
       "      <th>education_level</th>\n",
       "      <td>0</td>\n",
       "      <td>18359</td>\n",
       "      <td>6</td>\n",
       "      <td>object</td>\n",
       "      <td>0</td>\n",
       "    </tr>\n",
       "    <tr>\n",
       "      <th>major_discipline</th>\n",
       "      <td>0</td>\n",
       "      <td>18359</td>\n",
       "      <td>7</td>\n",
       "      <td>object</td>\n",
       "      <td>0</td>\n",
       "    </tr>\n",
       "    <tr>\n",
       "      <th>experience</th>\n",
       "      <td>0</td>\n",
       "      <td>18359</td>\n",
       "      <td>22</td>\n",
       "      <td>object</td>\n",
       "      <td>0</td>\n",
       "    </tr>\n",
       "    <tr>\n",
       "      <th>company_size</th>\n",
       "      <td>0</td>\n",
       "      <td>18359</td>\n",
       "      <td>9</td>\n",
       "      <td>object</td>\n",
       "      <td>0</td>\n",
       "    </tr>\n",
       "    <tr>\n",
       "      <th>company_type</th>\n",
       "      <td>0</td>\n",
       "      <td>18359</td>\n",
       "      <td>7</td>\n",
       "      <td>object</td>\n",
       "      <td>0</td>\n",
       "    </tr>\n",
       "    <tr>\n",
       "      <th>last_new_job</th>\n",
       "      <td>0</td>\n",
       "      <td>18359</td>\n",
       "      <td>6</td>\n",
       "      <td>object</td>\n",
       "      <td>0</td>\n",
       "    </tr>\n",
       "    <tr>\n",
       "      <th>training_hours</th>\n",
       "      <td>0</td>\n",
       "      <td>18359</td>\n",
       "      <td>241</td>\n",
       "      <td>int64</td>\n",
       "      <td>0</td>\n",
       "    </tr>\n",
       "    <tr>\n",
       "      <th>target</th>\n",
       "      <td>0</td>\n",
       "      <td>18359</td>\n",
       "      <td>2</td>\n",
       "      <td>int64</td>\n",
       "      <td>0</td>\n",
       "    </tr>\n",
       "  </tbody>\n",
       "</table>\n",
       "</div>"
      ],
      "text/plain": [
       "                        Null_count  Non_Null_count  N_unique  D_types  \\\n",
       "enrollee_id                      0           18359     18359   object   \n",
       "city                             0           18359       123   object   \n",
       "city_development_index           0           18359        93  float64   \n",
       "gender                           0           18359         4   object   \n",
       "relevent_experience              0           18359         2   object   \n",
       "enrolled_university              0           18359         3   object   \n",
       "education_level                  0           18359         6   object   \n",
       "major_discipline                 0           18359         7   object   \n",
       "experience                       0           18359        22   object   \n",
       "company_size                     0           18359         9   object   \n",
       "company_type                     0           18359         7   object   \n",
       "last_new_job                     0           18359         6   object   \n",
       "training_hours                   0           18359       241    int64   \n",
       "target                           0           18359         2    int64   \n",
       "\n",
       "                        Blank_count  \n",
       "enrollee_id                       0  \n",
       "city                              0  \n",
       "city_development_index            0  \n",
       "gender                            0  \n",
       "relevent_experience               0  \n",
       "enrolled_university               0  \n",
       "education_level                   0  \n",
       "major_discipline                  0  \n",
       "experience                        0  \n",
       "company_size                      0  \n",
       "company_type                      0  \n",
       "last_new_job                      0  \n",
       "training_hours                    0  \n",
       "target                            0  "
      ]
     },
     "execution_count": 68,
     "metadata": {},
     "output_type": "execute_result"
    }
   ],
   "source": [
    "data_info(train)"
   ]
  },
  {
   "cell_type": "code",
   "execution_count": 71,
   "metadata": {},
   "outputs": [],
   "source": [
    "train.to_csv(f'{path}/train_null_rem.csv',index= False)"
   ]
  },
  {
   "cell_type": "markdown",
   "metadata": {},
   "source": [
    "<center><b> ***THE END** </center></b>"
   ]
  },
  {
   "cell_type": "code",
   "execution_count": 81,
   "metadata": {},
   "outputs": [
    {
     "data": {
      "text/plain": [
       "array(['city_149', 'city_83', 'city_16', 'city_64', 'city_100', 'city_21',\n",
       "       'city_114', 'city_103', 'city_97', 'city_160', 'city_65',\n",
       "       'city_90', 'city_75', 'city_136', 'city_159', 'city_67', 'city_28',\n",
       "       'city_10', 'city_73', 'city_76', 'city_104', 'city_27', 'city_30',\n",
       "       'city_61', 'city_99', 'city_41', 'city_142', 'city_9', 'city_116',\n",
       "       'city_128', 'city_74', 'city_69', 'city_1', 'city_176', 'city_40',\n",
       "       'city_123', 'city_152', 'city_165', 'city_89', 'city_36',\n",
       "       'city_44', 'city_46', 'city_45', 'city_134', 'city_93', 'city_180',\n",
       "       'city_162', 'city_84', 'city_138', 'city_173', 'city_19',\n",
       "       'city_71', 'city_158', 'city_23', 'city_102', 'city_105',\n",
       "       'city_91', 'city_11', 'city_13', 'city_57', 'city_20', 'city_14',\n",
       "       'city_37', 'city_115', 'city_50', 'city_167', 'city_12',\n",
       "       'city_143', 'city_126', 'city_77', 'city_101', 'city_150',\n",
       "       'city_179', 'city_107', 'city_175', 'city_146', 'city_98',\n",
       "       'city_166', 'city_118', 'city_129', 'city_127', 'city_24',\n",
       "       'city_81', 'city_26', 'city_139', 'city_94', 'city_70', 'city_145',\n",
       "       'city_157', 'city_111', 'city_78', 'city_80', 'city_33', 'city_7',\n",
       "       'city_72', 'city_43', 'city_144', 'city_39', 'city_59', 'city_48',\n",
       "       'city_131', 'city_121', 'city_141', 'city_42', 'city_117',\n",
       "       'city_55', 'city_54', 'city_8', 'city_62', 'city_53', 'city_106',\n",
       "       'city_155', 'city_133', 'city_171', 'city_2', 'city_120',\n",
       "       'city_18', 'city_79', 'city_31', 'city_109', 'city_25', 'city_82',\n",
       "       'city_140'], dtype=object)"
      ]
     },
     "execution_count": 81,
     "metadata": {},
     "output_type": "execute_result"
    },
    {
     "data": {
      "text/plain": [
       "array([0.689, 0.923, 0.91 , 0.666, 0.887, 0.624, 0.926, 0.92 , 0.925,\n",
       "       0.802, 0.698, 0.939, 0.897, 0.843, 0.855, 0.895, 0.754, 0.924,\n",
       "       0.848, 0.913, 0.915, 0.827, 0.727, 0.743, 0.527, 0.579, 0.856,\n",
       "       0.847, 0.764, 0.776, 0.738, 0.903, 0.893, 0.725, 0.762, 0.89 ,\n",
       "       0.865, 0.767, 0.836, 0.878, 0.682, 0.884, 0.766, 0.899, 0.804,\n",
       "       0.794, 0.691, 0.55 , 0.866, 0.796, 0.789, 0.896, 0.921, 0.64 ,\n",
       "       0.74 , 0.479, 0.83 , 0.558, 0.512, 0.518, 0.735, 0.949, 0.649,\n",
       "       0.722, 0.625, 0.745, 0.73 , 0.487, 0.555, 0.769, 0.448, 0.647,\n",
       "       0.795, 0.516, 0.84 , 0.898, 0.775, 0.493, 0.68 , 0.781, 0.763,\n",
       "       0.563, 0.739, 0.645, 0.556, 0.742, 0.664, 0.788, 0.78 , 0.824,\n",
       "       0.807, 0.701, 0.693])"
      ]
     },
     "execution_count": 81,
     "metadata": {},
     "output_type": "execute_result"
    },
    {
     "data": {
      "text/plain": [
       "array(['Male', 'unknown', 'Female', 'Other'], dtype=object)"
      ]
     },
     "execution_count": 81,
     "metadata": {},
     "output_type": "execute_result"
    },
    {
     "data": {
      "text/plain": [
       "array(['Has relevent experience', 'No relevent experience'], dtype=object)"
      ]
     },
     "execution_count": 81,
     "metadata": {},
     "output_type": "execute_result"
    },
    {
     "data": {
      "text/plain": [
       "array(['no_enrollment', 'Full time course', 'Part time course'],\n",
       "      dtype=object)"
      ]
     },
     "execution_count": 81,
     "metadata": {},
     "output_type": "execute_result"
    },
    {
     "data": {
      "text/plain": [
       "array(['Graduate', 'Masters', 'High School', 'Phd', 'missing',\n",
       "       'Primary School'], dtype=object)"
      ]
     },
     "execution_count": 81,
     "metadata": {},
     "output_type": "execute_result"
    },
    {
     "data": {
      "text/plain": [
       "array(['STEM', 'Other', 'No Major', 'missing', 'Business Degree', 'Arts',\n",
       "       'Humanities'], dtype=object)"
      ]
     },
     "execution_count": 81,
     "metadata": {},
     "output_type": "execute_result"
    },
    {
     "data": {
      "text/plain": [
       "array(['3', '14', '6', '8', '>20', '4', '9', '15', '10', '1', '5', '16',\n",
       "       '11', '12', '7', '2', '13', '<1', '19', '18', '17', '20'],\n",
       "      dtype=object)"
      ]
     },
     "execution_count": 81,
     "metadata": {},
     "output_type": "execute_result"
    },
    {
     "data": {
      "text/plain": [
       "array(['100-500', '<10', '50-99', 'missing', '5000-9999', '10000+',\n",
       "       '1000-4999', '500-999', '10/49'], dtype=object)"
      ]
     },
     "execution_count": 81,
     "metadata": {},
     "output_type": "execute_result"
    },
    {
     "data": {
      "text/plain": [
       "array(['Pvt Ltd', 'Funded Startup', 'Public Sector', 'missing',\n",
       "       'Early Stage Startup', 'NGO', 'Other'], dtype=object)"
      ]
     },
     "execution_count": 81,
     "metadata": {},
     "output_type": "execute_result"
    },
    {
     "data": {
      "text/plain": [
       "array(['1', '2', '3', '>4', 'never', '4'], dtype=object)"
      ]
     },
     "execution_count": 81,
     "metadata": {},
     "output_type": "execute_result"
    },
    {
     "data": {
      "text/plain": [
       "array([106,  69,   4,  26,  88,  34,  23,   8,  10,  85,  55,  13,  51,\n",
       "        28,  35,  42,  45,  11,  12,  54,  89,  41, 298, 101, 114, 104,\n",
       "        53,  39,  20, 109,   3,  68, 262,  16,  22,  67,  43,   7,  30,\n",
       "         9, 112,  21, 166, 110,  18,  79,  98,  65,  61,  44, 170, 132,\n",
       "       145,  48,  46,  37,  86,  96,  33, 152, 168, 128, 102,   6,  50,\n",
       "        36,  90, 164,  56,  32,  17, 126,  72,  15,  80,  25,  31, 160,\n",
       "        66,  24, 200,  47,  83,  58,  29, 206,  14, 105,  91, 218,  75,\n",
       "        57,  19, 144,  92,  94, 184,  62, 140,  52, 258, 178, 270, 108,\n",
       "       157, 156, 123,  59,  82,  60,   2, 196,  95,  84,   5, 146, 202,\n",
       "       100, 111, 254,  27, 336,  64, 107,  76,  38, 134, 330, 204, 320,\n",
       "        74,  73,  40,  87, 316, 118, 122, 282, 248, 153, 147,  70, 131,\n",
       "       113, 216, 292,  81, 176,  78, 222, 163,  63, 280, 210, 294, 264,\n",
       "       155,  77,  97, 224, 180, 236, 125, 162, 116, 158, 256,  49,  71,\n",
       "       326,   1, 238, 124, 268, 214, 192, 232, 276, 165, 138, 310, 167,\n",
       "       288, 117,  99, 198, 240, 119, 136, 139, 150, 266, 220, 172, 133,\n",
       "       284, 272, 312, 306, 130, 154, 188, 174, 182, 332, 290, 120, 121,\n",
       "       328, 190, 308, 278, 322, 244, 324, 143, 194, 129, 103, 246, 127,\n",
       "       142, 151, 212, 300, 314, 135, 250, 234, 149, 141, 161, 148, 242,\n",
       "       226, 304, 228, 260, 286, 302, 334], dtype=int64)"
      ]
     },
     "execution_count": 81,
     "metadata": {},
     "output_type": "execute_result"
    },
    {
     "data": {
      "text/plain": [
       "array([0, 1], dtype=int64)"
      ]
     },
     "execution_count": 81,
     "metadata": {},
     "output_type": "execute_result"
    }
   ],
   "source": [
    "for i in train.drop('enrollee_id',axis = 1).columns:\n",
    "    train[i].unique()"
   ]
  },
  {
   "cell_type": "code",
   "execution_count": 80,
   "metadata": {
    "scrolled": true
   },
   "outputs": [
    {
     "ename": "ValueError",
     "evalue": "arrays must all be same length",
     "output_type": "error",
     "traceback": [
      "\u001b[1;31m---------------------------------------------------------------------------\u001b[0m",
      "\u001b[1;31mValueError\u001b[0m                                Traceback (most recent call last)",
      "\u001b[1;32m<ipython-input-80-73ebaab215a6>\u001b[0m in \u001b[0;36m<module>\u001b[1;34m\u001b[0m\n\u001b[1;32m----> 1\u001b[1;33m \u001b[0mtrain\u001b[0m\u001b[1;33m.\u001b[0m\u001b[0mdrop\u001b[0m\u001b[1;33m(\u001b[0m\u001b[1;34m'enrollee_id'\u001b[0m\u001b[1;33m,\u001b[0m\u001b[0maxis\u001b[0m \u001b[1;33m=\u001b[0m \u001b[1;36m1\u001b[0m\u001b[1;33m)\u001b[0m\u001b[1;33m.\u001b[0m\u001b[0mapply\u001b[0m\u001b[1;33m(\u001b[0m\u001b[0mpd\u001b[0m\u001b[1;33m.\u001b[0m\u001b[0mSeries\u001b[0m\u001b[1;33m.\u001b[0m\u001b[0munique\u001b[0m\u001b[1;33m)\u001b[0m\u001b[1;33m\u001b[0m\u001b[1;33m\u001b[0m\u001b[0m\n\u001b[0m",
      "\u001b[1;32mC:\\ProgramData\\Anaconda3\\lib\\site-packages\\pandas\\core\\frame.py\u001b[0m in \u001b[0;36mapply\u001b[1;34m(self, func, axis, broadcast, raw, reduce, result_type, args, **kwds)\u001b[0m\n\u001b[0;32m   6926\u001b[0m             \u001b[0mkwds\u001b[0m\u001b[1;33m=\u001b[0m\u001b[0mkwds\u001b[0m\u001b[1;33m,\u001b[0m\u001b[1;33m\u001b[0m\u001b[1;33m\u001b[0m\u001b[0m\n\u001b[0;32m   6927\u001b[0m         )\n\u001b[1;32m-> 6928\u001b[1;33m         \u001b[1;32mreturn\u001b[0m \u001b[0mop\u001b[0m\u001b[1;33m.\u001b[0m\u001b[0mget_result\u001b[0m\u001b[1;33m(\u001b[0m\u001b[1;33m)\u001b[0m\u001b[1;33m\u001b[0m\u001b[1;33m\u001b[0m\u001b[0m\n\u001b[0m\u001b[0;32m   6929\u001b[0m \u001b[1;33m\u001b[0m\u001b[0m\n\u001b[0;32m   6930\u001b[0m     \u001b[1;32mdef\u001b[0m \u001b[0mapplymap\u001b[0m\u001b[1;33m(\u001b[0m\u001b[0mself\u001b[0m\u001b[1;33m,\u001b[0m \u001b[0mfunc\u001b[0m\u001b[1;33m)\u001b[0m\u001b[1;33m:\u001b[0m\u001b[1;33m\u001b[0m\u001b[1;33m\u001b[0m\u001b[0m\n",
      "\u001b[1;32mC:\\ProgramData\\Anaconda3\\lib\\site-packages\\pandas\\core\\apply.py\u001b[0m in \u001b[0;36mget_result\u001b[1;34m(self)\u001b[0m\n\u001b[0;32m    184\u001b[0m             \u001b[1;32mreturn\u001b[0m \u001b[0mself\u001b[0m\u001b[1;33m.\u001b[0m\u001b[0mapply_raw\u001b[0m\u001b[1;33m(\u001b[0m\u001b[1;33m)\u001b[0m\u001b[1;33m\u001b[0m\u001b[1;33m\u001b[0m\u001b[0m\n\u001b[0;32m    185\u001b[0m \u001b[1;33m\u001b[0m\u001b[0m\n\u001b[1;32m--> 186\u001b[1;33m         \u001b[1;32mreturn\u001b[0m \u001b[0mself\u001b[0m\u001b[1;33m.\u001b[0m\u001b[0mapply_standard\u001b[0m\u001b[1;33m(\u001b[0m\u001b[1;33m)\u001b[0m\u001b[1;33m\u001b[0m\u001b[1;33m\u001b[0m\u001b[0m\n\u001b[0m\u001b[0;32m    187\u001b[0m \u001b[1;33m\u001b[0m\u001b[0m\n\u001b[0;32m    188\u001b[0m     \u001b[1;32mdef\u001b[0m \u001b[0mapply_empty_result\u001b[0m\u001b[1;33m(\u001b[0m\u001b[0mself\u001b[0m\u001b[1;33m)\u001b[0m\u001b[1;33m:\u001b[0m\u001b[1;33m\u001b[0m\u001b[1;33m\u001b[0m\u001b[0m\n",
      "\u001b[1;32mC:\\ProgramData\\Anaconda3\\lib\\site-packages\\pandas\\core\\apply.py\u001b[0m in \u001b[0;36mapply_standard\u001b[1;34m(self)\u001b[0m\n\u001b[0;32m    293\u001b[0m \u001b[1;33m\u001b[0m\u001b[0m\n\u001b[0;32m    294\u001b[0m         \u001b[1;31m# wrap results\u001b[0m\u001b[1;33m\u001b[0m\u001b[1;33m\u001b[0m\u001b[1;33m\u001b[0m\u001b[0m\n\u001b[1;32m--> 295\u001b[1;33m         \u001b[1;32mreturn\u001b[0m \u001b[0mself\u001b[0m\u001b[1;33m.\u001b[0m\u001b[0mwrap_results\u001b[0m\u001b[1;33m(\u001b[0m\u001b[1;33m)\u001b[0m\u001b[1;33m\u001b[0m\u001b[1;33m\u001b[0m\u001b[0m\n\u001b[0m\u001b[0;32m    296\u001b[0m \u001b[1;33m\u001b[0m\u001b[0m\n\u001b[0;32m    297\u001b[0m     \u001b[1;32mdef\u001b[0m \u001b[0mapply_series_generator\u001b[0m\u001b[1;33m(\u001b[0m\u001b[0mself\u001b[0m\u001b[1;33m)\u001b[0m\u001b[1;33m:\u001b[0m\u001b[1;33m\u001b[0m\u001b[1;33m\u001b[0m\u001b[0m\n",
      "\u001b[1;32mC:\\ProgramData\\Anaconda3\\lib\\site-packages\\pandas\\core\\apply.py\u001b[0m in \u001b[0;36mwrap_results\u001b[1;34m(self)\u001b[0m\n\u001b[0;32m    340\u001b[0m         \u001b[1;32mif\u001b[0m \u001b[0mlen\u001b[0m\u001b[1;33m(\u001b[0m\u001b[0mresults\u001b[0m\u001b[1;33m)\u001b[0m \u001b[1;33m>\u001b[0m \u001b[1;36m0\u001b[0m \u001b[1;32mand\u001b[0m \u001b[0mis_sequence\u001b[0m\u001b[1;33m(\u001b[0m\u001b[0mresults\u001b[0m\u001b[1;33m[\u001b[0m\u001b[1;36m0\u001b[0m\u001b[1;33m]\u001b[0m\u001b[1;33m)\u001b[0m\u001b[1;33m:\u001b[0m\u001b[1;33m\u001b[0m\u001b[1;33m\u001b[0m\u001b[0m\n\u001b[0;32m    341\u001b[0m \u001b[1;33m\u001b[0m\u001b[0m\n\u001b[1;32m--> 342\u001b[1;33m             \u001b[1;32mreturn\u001b[0m \u001b[0mself\u001b[0m\u001b[1;33m.\u001b[0m\u001b[0mwrap_results_for_axis\u001b[0m\u001b[1;33m(\u001b[0m\u001b[1;33m)\u001b[0m\u001b[1;33m\u001b[0m\u001b[1;33m\u001b[0m\u001b[0m\n\u001b[0m\u001b[0;32m    343\u001b[0m \u001b[1;33m\u001b[0m\u001b[0m\n\u001b[0;32m    344\u001b[0m         \u001b[1;31m# dict of scalars\u001b[0m\u001b[1;33m\u001b[0m\u001b[1;33m\u001b[0m\u001b[1;33m\u001b[0m\u001b[0m\n",
      "\u001b[1;32mC:\\ProgramData\\Anaconda3\\lib\\site-packages\\pandas\\core\\apply.py\u001b[0m in \u001b[0;36mwrap_results_for_axis\u001b[1;34m(self)\u001b[0m\n\u001b[0;32m    371\u001b[0m \u001b[1;33m\u001b[0m\u001b[0m\n\u001b[0;32m    372\u001b[0m         \u001b[0mresults\u001b[0m \u001b[1;33m=\u001b[0m \u001b[0mself\u001b[0m\u001b[1;33m.\u001b[0m\u001b[0mresults\u001b[0m\u001b[1;33m\u001b[0m\u001b[1;33m\u001b[0m\u001b[0m\n\u001b[1;32m--> 373\u001b[1;33m         \u001b[0mresult\u001b[0m \u001b[1;33m=\u001b[0m \u001b[0mself\u001b[0m\u001b[1;33m.\u001b[0m\u001b[0mobj\u001b[0m\u001b[1;33m.\u001b[0m\u001b[0m_constructor\u001b[0m\u001b[1;33m(\u001b[0m\u001b[0mdata\u001b[0m\u001b[1;33m=\u001b[0m\u001b[0mresults\u001b[0m\u001b[1;33m)\u001b[0m\u001b[1;33m\u001b[0m\u001b[1;33m\u001b[0m\u001b[0m\n\u001b[0m\u001b[0;32m    374\u001b[0m \u001b[1;33m\u001b[0m\u001b[0m\n\u001b[0;32m    375\u001b[0m         \u001b[1;32mif\u001b[0m \u001b[1;32mnot\u001b[0m \u001b[0misinstance\u001b[0m\u001b[1;33m(\u001b[0m\u001b[0mresults\u001b[0m\u001b[1;33m[\u001b[0m\u001b[1;36m0\u001b[0m\u001b[1;33m]\u001b[0m\u001b[1;33m,\u001b[0m \u001b[0mABCSeries\u001b[0m\u001b[1;33m)\u001b[0m\u001b[1;33m:\u001b[0m\u001b[1;33m\u001b[0m\u001b[1;33m\u001b[0m\u001b[0m\n",
      "\u001b[1;32mC:\\ProgramData\\Anaconda3\\lib\\site-packages\\pandas\\core\\frame.py\u001b[0m in \u001b[0;36m__init__\u001b[1;34m(self, data, index, columns, dtype, copy)\u001b[0m\n\u001b[0;32m    409\u001b[0m             )\n\u001b[0;32m    410\u001b[0m         \u001b[1;32melif\u001b[0m \u001b[0misinstance\u001b[0m\u001b[1;33m(\u001b[0m\u001b[0mdata\u001b[0m\u001b[1;33m,\u001b[0m \u001b[0mdict\u001b[0m\u001b[1;33m)\u001b[0m\u001b[1;33m:\u001b[0m\u001b[1;33m\u001b[0m\u001b[1;33m\u001b[0m\u001b[0m\n\u001b[1;32m--> 411\u001b[1;33m             \u001b[0mmgr\u001b[0m \u001b[1;33m=\u001b[0m \u001b[0minit_dict\u001b[0m\u001b[1;33m(\u001b[0m\u001b[0mdata\u001b[0m\u001b[1;33m,\u001b[0m \u001b[0mindex\u001b[0m\u001b[1;33m,\u001b[0m \u001b[0mcolumns\u001b[0m\u001b[1;33m,\u001b[0m \u001b[0mdtype\u001b[0m\u001b[1;33m=\u001b[0m\u001b[0mdtype\u001b[0m\u001b[1;33m)\u001b[0m\u001b[1;33m\u001b[0m\u001b[1;33m\u001b[0m\u001b[0m\n\u001b[0m\u001b[0;32m    412\u001b[0m         \u001b[1;32melif\u001b[0m \u001b[0misinstance\u001b[0m\u001b[1;33m(\u001b[0m\u001b[0mdata\u001b[0m\u001b[1;33m,\u001b[0m \u001b[0mma\u001b[0m\u001b[1;33m.\u001b[0m\u001b[0mMaskedArray\u001b[0m\u001b[1;33m)\u001b[0m\u001b[1;33m:\u001b[0m\u001b[1;33m\u001b[0m\u001b[1;33m\u001b[0m\u001b[0m\n\u001b[0;32m    413\u001b[0m             \u001b[1;32mimport\u001b[0m \u001b[0mnumpy\u001b[0m\u001b[1;33m.\u001b[0m\u001b[0mma\u001b[0m\u001b[1;33m.\u001b[0m\u001b[0mmrecords\u001b[0m \u001b[1;32mas\u001b[0m \u001b[0mmrecords\u001b[0m\u001b[1;33m\u001b[0m\u001b[1;33m\u001b[0m\u001b[0m\n",
      "\u001b[1;32mC:\\ProgramData\\Anaconda3\\lib\\site-packages\\pandas\\core\\internals\\construction.py\u001b[0m in \u001b[0;36minit_dict\u001b[1;34m(data, index, columns, dtype)\u001b[0m\n\u001b[0;32m    255\u001b[0m             \u001b[0marr\u001b[0m \u001b[1;32mif\u001b[0m \u001b[1;32mnot\u001b[0m \u001b[0mis_datetime64tz_dtype\u001b[0m\u001b[1;33m(\u001b[0m\u001b[0marr\u001b[0m\u001b[1;33m)\u001b[0m \u001b[1;32melse\u001b[0m \u001b[0marr\u001b[0m\u001b[1;33m.\u001b[0m\u001b[0mcopy\u001b[0m\u001b[1;33m(\u001b[0m\u001b[1;33m)\u001b[0m \u001b[1;32mfor\u001b[0m \u001b[0marr\u001b[0m \u001b[1;32min\u001b[0m \u001b[0marrays\u001b[0m\u001b[1;33m\u001b[0m\u001b[1;33m\u001b[0m\u001b[0m\n\u001b[0;32m    256\u001b[0m         ]\n\u001b[1;32m--> 257\u001b[1;33m     \u001b[1;32mreturn\u001b[0m \u001b[0marrays_to_mgr\u001b[0m\u001b[1;33m(\u001b[0m\u001b[0marrays\u001b[0m\u001b[1;33m,\u001b[0m \u001b[0mdata_names\u001b[0m\u001b[1;33m,\u001b[0m \u001b[0mindex\u001b[0m\u001b[1;33m,\u001b[0m \u001b[0mcolumns\u001b[0m\u001b[1;33m,\u001b[0m \u001b[0mdtype\u001b[0m\u001b[1;33m=\u001b[0m\u001b[0mdtype\u001b[0m\u001b[1;33m)\u001b[0m\u001b[1;33m\u001b[0m\u001b[1;33m\u001b[0m\u001b[0m\n\u001b[0m\u001b[0;32m    258\u001b[0m \u001b[1;33m\u001b[0m\u001b[0m\n\u001b[0;32m    259\u001b[0m \u001b[1;33m\u001b[0m\u001b[0m\n",
      "\u001b[1;32mC:\\ProgramData\\Anaconda3\\lib\\site-packages\\pandas\\core\\internals\\construction.py\u001b[0m in \u001b[0;36marrays_to_mgr\u001b[1;34m(arrays, arr_names, index, columns, dtype)\u001b[0m\n\u001b[0;32m     75\u001b[0m     \u001b[1;31m# figure out the index, if necessary\u001b[0m\u001b[1;33m\u001b[0m\u001b[1;33m\u001b[0m\u001b[1;33m\u001b[0m\u001b[0m\n\u001b[0;32m     76\u001b[0m     \u001b[1;32mif\u001b[0m \u001b[0mindex\u001b[0m \u001b[1;32mis\u001b[0m \u001b[1;32mNone\u001b[0m\u001b[1;33m:\u001b[0m\u001b[1;33m\u001b[0m\u001b[1;33m\u001b[0m\u001b[0m\n\u001b[1;32m---> 77\u001b[1;33m         \u001b[0mindex\u001b[0m \u001b[1;33m=\u001b[0m \u001b[0mextract_index\u001b[0m\u001b[1;33m(\u001b[0m\u001b[0marrays\u001b[0m\u001b[1;33m)\u001b[0m\u001b[1;33m\u001b[0m\u001b[1;33m\u001b[0m\u001b[0m\n\u001b[0m\u001b[0;32m     78\u001b[0m     \u001b[1;32melse\u001b[0m\u001b[1;33m:\u001b[0m\u001b[1;33m\u001b[0m\u001b[1;33m\u001b[0m\u001b[0m\n\u001b[0;32m     79\u001b[0m         \u001b[0mindex\u001b[0m \u001b[1;33m=\u001b[0m \u001b[0mensure_index\u001b[0m\u001b[1;33m(\u001b[0m\u001b[0mindex\u001b[0m\u001b[1;33m)\u001b[0m\u001b[1;33m\u001b[0m\u001b[1;33m\u001b[0m\u001b[0m\n",
      "\u001b[1;32mC:\\ProgramData\\Anaconda3\\lib\\site-packages\\pandas\\core\\internals\\construction.py\u001b[0m in \u001b[0;36mextract_index\u001b[1;34m(data)\u001b[0m\n\u001b[0;32m    366\u001b[0m             \u001b[0mlengths\u001b[0m \u001b[1;33m=\u001b[0m \u001b[0mlist\u001b[0m\u001b[1;33m(\u001b[0m\u001b[0mset\u001b[0m\u001b[1;33m(\u001b[0m\u001b[0mraw_lengths\u001b[0m\u001b[1;33m)\u001b[0m\u001b[1;33m)\u001b[0m\u001b[1;33m\u001b[0m\u001b[1;33m\u001b[0m\u001b[0m\n\u001b[0;32m    367\u001b[0m             \u001b[1;32mif\u001b[0m \u001b[0mlen\u001b[0m\u001b[1;33m(\u001b[0m\u001b[0mlengths\u001b[0m\u001b[1;33m)\u001b[0m \u001b[1;33m>\u001b[0m \u001b[1;36m1\u001b[0m\u001b[1;33m:\u001b[0m\u001b[1;33m\u001b[0m\u001b[1;33m\u001b[0m\u001b[0m\n\u001b[1;32m--> 368\u001b[1;33m                 \u001b[1;32mraise\u001b[0m \u001b[0mValueError\u001b[0m\u001b[1;33m(\u001b[0m\u001b[1;34m\"arrays must all be same length\"\u001b[0m\u001b[1;33m)\u001b[0m\u001b[1;33m\u001b[0m\u001b[1;33m\u001b[0m\u001b[0m\n\u001b[0m\u001b[0;32m    369\u001b[0m \u001b[1;33m\u001b[0m\u001b[0m\n\u001b[0;32m    370\u001b[0m             \u001b[1;32mif\u001b[0m \u001b[0mhave_dicts\u001b[0m\u001b[1;33m:\u001b[0m\u001b[1;33m\u001b[0m\u001b[1;33m\u001b[0m\u001b[0m\n",
      "\u001b[1;31mValueError\u001b[0m: arrays must all be same length"
     ]
    }
   ],
   "source": [
    "train.drop('enrollee_id',axis = 1).apply(pd.Series.unique)"
   ]
  },
  {
   "cell_type": "code",
   "execution_count": null,
   "metadata": {},
   "outputs": [],
   "source": []
  },
  {
   "cell_type": "code",
   "execution_count": null,
   "metadata": {},
   "outputs": [],
   "source": []
  },
  {
   "cell_type": "code",
   "execution_count": null,
   "metadata": {},
   "outputs": [],
   "source": []
  },
  {
   "cell_type": "code",
   "execution_count": null,
   "metadata": {},
   "outputs": [],
   "source": []
  },
  {
   "cell_type": "code",
   "execution_count": null,
   "metadata": {},
   "outputs": [],
   "source": []
  },
  {
   "cell_type": "code",
   "execution_count": null,
   "metadata": {},
   "outputs": [],
   "source": []
  },
  {
   "cell_type": "code",
   "execution_count": null,
   "metadata": {},
   "outputs": [],
   "source": []
  },
  {
   "cell_type": "code",
   "execution_count": null,
   "metadata": {},
   "outputs": [],
   "source": []
  },
  {
   "cell_type": "code",
   "execution_count": null,
   "metadata": {},
   "outputs": [],
   "source": []
  },
  {
   "cell_type": "code",
   "execution_count": null,
   "metadata": {},
   "outputs": [],
   "source": []
  },
  {
   "cell_type": "code",
   "execution_count": 69,
   "metadata": {},
   "outputs": [
    {
     "data": {
      "text/plain": [
       "array(['Pvt Ltd', 'Funded Startup', 'Public Sector', 'missing',\n",
       "       'Early Stage Startup', 'NGO', 'Other'], dtype=object)"
      ]
     },
     "execution_count": 69,
     "metadata": {},
     "output_type": "execute_result"
    },
    {
     "data": {
      "text/html": [
       "<div>\n",
       "<style scoped>\n",
       "    .dataframe tbody tr th:only-of-type {\n",
       "        vertical-align: middle;\n",
       "    }\n",
       "\n",
       "    .dataframe tbody tr th {\n",
       "        vertical-align: top;\n",
       "    }\n",
       "\n",
       "    .dataframe thead th {\n",
       "        text-align: right;\n",
       "    }\n",
       "</style>\n",
       "<table border=\"1\" class=\"dataframe\">\n",
       "  <thead>\n",
       "    <tr style=\"text-align: right;\">\n",
       "      <th>company_type</th>\n",
       "      <th>Early Stage Startup</th>\n",
       "      <th>Funded Startup</th>\n",
       "      <th>NGO</th>\n",
       "      <th>Other</th>\n",
       "      <th>Public Sector</th>\n",
       "      <th>Pvt Ltd</th>\n",
       "      <th>missing</th>\n",
       "    </tr>\n",
       "    <tr>\n",
       "      <th>company_size</th>\n",
       "      <th></th>\n",
       "      <th></th>\n",
       "      <th></th>\n",
       "      <th></th>\n",
       "      <th></th>\n",
       "      <th></th>\n",
       "      <th></th>\n",
       "    </tr>\n",
       "  </thead>\n",
       "  <tbody>\n",
       "    <tr>\n",
       "      <th>10/49</th>\n",
       "      <td>168</td>\n",
       "      <td>208</td>\n",
       "      <td>33</td>\n",
       "      <td>10</td>\n",
       "      <td>40</td>\n",
       "      <td>905</td>\n",
       "      <td>102</td>\n",
       "    </tr>\n",
       "    <tr>\n",
       "      <th>100-500</th>\n",
       "      <td>22</td>\n",
       "      <td>226</td>\n",
       "      <td>183</td>\n",
       "      <td>21</td>\n",
       "      <td>170</td>\n",
       "      <td>1916</td>\n",
       "      <td>160</td>\n",
       "    </tr>\n",
       "    <tr>\n",
       "      <th>1000-4999</th>\n",
       "      <td>0</td>\n",
       "      <td>0</td>\n",
       "      <td>77</td>\n",
       "      <td>15</td>\n",
       "      <td>180</td>\n",
       "      <td>1064</td>\n",
       "      <td>63</td>\n",
       "    </tr>\n",
       "    <tr>\n",
       "      <th>10000+</th>\n",
       "      <td>0</td>\n",
       "      <td>0</td>\n",
       "      <td>41</td>\n",
       "      <td>17</td>\n",
       "      <td>158</td>\n",
       "      <td>1752</td>\n",
       "      <td>76</td>\n",
       "    </tr>\n",
       "    <tr>\n",
       "      <th>50-99</th>\n",
       "      <td>99</td>\n",
       "      <td>399</td>\n",
       "      <td>80</td>\n",
       "      <td>18</td>\n",
       "      <td>124</td>\n",
       "      <td>2177</td>\n",
       "      <td>223</td>\n",
       "    </tr>\n",
       "    <tr>\n",
       "      <th>500-999</th>\n",
       "      <td>2</td>\n",
       "      <td>51</td>\n",
       "      <td>35</td>\n",
       "      <td>11</td>\n",
       "      <td>93</td>\n",
       "      <td>644</td>\n",
       "      <td>66</td>\n",
       "    </tr>\n",
       "    <tr>\n",
       "      <th>5000-9999</th>\n",
       "      <td>0</td>\n",
       "      <td>0</td>\n",
       "      <td>31</td>\n",
       "      <td>9</td>\n",
       "      <td>89</td>\n",
       "      <td>428</td>\n",
       "      <td>34</td>\n",
       "    </tr>\n",
       "    <tr>\n",
       "      <th>&lt;10</th>\n",
       "      <td>288</td>\n",
       "      <td>149</td>\n",
       "      <td>32</td>\n",
       "      <td>11</td>\n",
       "      <td>40</td>\n",
       "      <td>775</td>\n",
       "      <td>65</td>\n",
       "    </tr>\n",
       "    <tr>\n",
       "      <th>missing</th>\n",
       "      <td>3</td>\n",
       "      <td>5</td>\n",
       "      <td>22</td>\n",
       "      <td>7</td>\n",
       "      <td>102</td>\n",
       "      <td>390</td>\n",
       "      <td>4250</td>\n",
       "    </tr>\n",
       "  </tbody>\n",
       "</table>\n",
       "</div>"
      ],
      "text/plain": [
       "company_type  Early Stage Startup  Funded Startup  NGO  Other  Public Sector  \\\n",
       "company_size                                                                   \n",
       "10/49                         168             208   33     10             40   \n",
       "100-500                        22             226  183     21            170   \n",
       "1000-4999                       0               0   77     15            180   \n",
       "10000+                          0               0   41     17            158   \n",
       "50-99                          99             399   80     18            124   \n",
       "500-999                         2              51   35     11             93   \n",
       "5000-9999                       0               0   31      9             89   \n",
       "<10                           288             149   32     11             40   \n",
       "missing                         3               5   22      7            102   \n",
       "\n",
       "company_type  Pvt Ltd  missing  \n",
       "company_size                    \n",
       "10/49             905      102  \n",
       "100-500          1916      160  \n",
       "1000-4999        1064       63  \n",
       "10000+           1752       76  \n",
       "50-99            2177      223  \n",
       "500-999           644       66  \n",
       "5000-9999         428       34  \n",
       "<10               775       65  \n",
       "missing           390     4250  "
      ]
     },
     "execution_count": 69,
     "metadata": {},
     "output_type": "execute_result"
    }
   ],
   "source": [
    "train.company_type.unique()\n",
    "pd.crosstab(train.company_size, train.company_type,dropna=False)"
   ]
  },
  {
   "cell_type": "code",
   "execution_count": 30,
   "metadata": {
    "scrolled": false
   },
   "outputs": [
    {
     "data": {
      "text/plain": [
       "missing      4779\n",
       "50-99        3120\n",
       "100-500      2698\n",
       "10000+       2044\n",
       "10/49        1466\n",
       "1000-4999    1399\n",
       "<10          1360\n",
       "500-999       902\n",
       "5000-9999     591\n",
       "Name: company_size, dtype: int64"
      ]
     },
     "execution_count": 30,
     "metadata": {},
     "output_type": "execute_result"
    }
   ],
   "source": [
    "#enrolled_university  --  Type of University course enrolled if any\n",
    "var = 'company_size'\n",
    "train[var].value_counts(dropna=False)"
   ]
  },
  {
   "cell_type": "code",
   "execution_count": null,
   "metadata": {},
   "outputs": [],
   "source": []
  },
  {
   "cell_type": "code",
   "execution_count": 31,
   "metadata": {},
   "outputs": [
    {
     "data": {
      "text/plain": [
       "missing      4779\n",
       "50-99        3120\n",
       "100-500      2698\n",
       "10000+       2044\n",
       "10/49        1466\n",
       "1000-4999    1399\n",
       "<10          1360\n",
       "500-999       902\n",
       "5000-9999     591\n",
       "Name: company_size, dtype: int64"
      ]
     },
     "execution_count": 31,
     "metadata": {},
     "output_type": "execute_result"
    }
   ],
   "source": [
    "train[var].value_counts()"
   ]
  },
  {
   "cell_type": "code",
   "execution_count": 32,
   "metadata": {},
   "outputs": [],
   "source": [
    "cdi_bands,bins = pd.qcut(train.city_development_index, q = 6,retbins= True,duplicates = 'drop')\n",
    "train['cdi_bands'] = cdi_bands\n",
    "#train.groupby(cdi_bands).city.count()\n",
    "train.groupby(cdi_bands).target.sum()/train.groupby(cdi_bands).target.count()\n",
    "train.drop('cdi_bands', axis = 1,inplace=True)"
   ]
  },
  {
   "cell_type": "code",
   "execution_count": 33,
   "metadata": {},
   "outputs": [
    {
     "data": {
      "text/html": [
       "<div>\n",
       "<style scoped>\n",
       "    .dataframe tbody tr th:only-of-type {\n",
       "        vertical-align: middle;\n",
       "    }\n",
       "\n",
       "    .dataframe tbody tr th {\n",
       "        vertical-align: top;\n",
       "    }\n",
       "\n",
       "    .dataframe thead th {\n",
       "        text-align: right;\n",
       "    }\n",
       "</style>\n",
       "<table border=\"1\" class=\"dataframe\">\n",
       "  <thead>\n",
       "    <tr style=\"text-align: right;\">\n",
       "      <th></th>\n",
       "      <th>enrollee_id</th>\n",
       "      <th>city</th>\n",
       "      <th>city_development_index</th>\n",
       "      <th>gender</th>\n",
       "      <th>relevent_experience</th>\n",
       "      <th>enrolled_university</th>\n",
       "      <th>education_level</th>\n",
       "      <th>major_discipline</th>\n",
       "      <th>experience</th>\n",
       "      <th>company_size</th>\n",
       "      <th>company_type</th>\n",
       "      <th>last_new_job</th>\n",
       "      <th>training_hours</th>\n",
       "      <th>target</th>\n",
       "    </tr>\n",
       "  </thead>\n",
       "  <tbody>\n",
       "    <tr>\n",
       "      <th>0</th>\n",
       "      <td>23798</td>\n",
       "      <td>city_149</td>\n",
       "      <td>0.689</td>\n",
       "      <td>Male</td>\n",
       "      <td>Has relevent experience</td>\n",
       "      <td>no_enrollment</td>\n",
       "      <td>Graduate</td>\n",
       "      <td>STEM</td>\n",
       "      <td>3</td>\n",
       "      <td>100-500</td>\n",
       "      <td>Pvt Ltd</td>\n",
       "      <td>1</td>\n",
       "      <td>106</td>\n",
       "      <td>0</td>\n",
       "    </tr>\n",
       "    <tr>\n",
       "      <th>1</th>\n",
       "      <td>29166</td>\n",
       "      <td>city_83</td>\n",
       "      <td>0.923</td>\n",
       "      <td>Male</td>\n",
       "      <td>Has relevent experience</td>\n",
       "      <td>no_enrollment</td>\n",
       "      <td>Graduate</td>\n",
       "      <td>STEM</td>\n",
       "      <td>14</td>\n",
       "      <td>&lt;10</td>\n",
       "      <td>Funded Startup</td>\n",
       "      <td>1</td>\n",
       "      <td>69</td>\n",
       "      <td>0</td>\n",
       "    </tr>\n",
       "    <tr>\n",
       "      <th>2</th>\n",
       "      <td>46</td>\n",
       "      <td>city_16</td>\n",
       "      <td>0.910</td>\n",
       "      <td>unknown</td>\n",
       "      <td>Has relevent experience</td>\n",
       "      <td>no_enrollment</td>\n",
       "      <td>Graduate</td>\n",
       "      <td>STEM</td>\n",
       "      <td>6</td>\n",
       "      <td>50-99</td>\n",
       "      <td>Public Sector</td>\n",
       "      <td>2</td>\n",
       "      <td>4</td>\n",
       "      <td>0</td>\n",
       "    </tr>\n",
       "    <tr>\n",
       "      <th>3</th>\n",
       "      <td>18527</td>\n",
       "      <td>city_64</td>\n",
       "      <td>0.666</td>\n",
       "      <td>Male</td>\n",
       "      <td>Has relevent experience</td>\n",
       "      <td>no_enrollment</td>\n",
       "      <td>Graduate</td>\n",
       "      <td>STEM</td>\n",
       "      <td>14</td>\n",
       "      <td>50-99</td>\n",
       "      <td>Pvt Ltd</td>\n",
       "      <td>1</td>\n",
       "      <td>26</td>\n",
       "      <td>0</td>\n",
       "    </tr>\n",
       "    <tr>\n",
       "      <th>4</th>\n",
       "      <td>21751</td>\n",
       "      <td>city_100</td>\n",
       "      <td>0.887</td>\n",
       "      <td>unknown</td>\n",
       "      <td>No relevent experience</td>\n",
       "      <td>no_enrollment</td>\n",
       "      <td>Masters</td>\n",
       "      <td>STEM</td>\n",
       "      <td>8</td>\n",
       "      <td>missing</td>\n",
       "      <td>missing</td>\n",
       "      <td>2</td>\n",
       "      <td>88</td>\n",
       "      <td>1</td>\n",
       "    </tr>\n",
       "  </tbody>\n",
       "</table>\n",
       "</div>"
      ],
      "text/plain": [
       "  enrollee_id      city  city_development_index   gender  \\\n",
       "0       23798  city_149                   0.689     Male   \n",
       "1       29166   city_83                   0.923     Male   \n",
       "2          46   city_16                   0.910  unknown   \n",
       "3       18527   city_64                   0.666     Male   \n",
       "4       21751  city_100                   0.887  unknown   \n",
       "\n",
       "       relevent_experience enrolled_university education_level  \\\n",
       "0  Has relevent experience       no_enrollment        Graduate   \n",
       "1  Has relevent experience       no_enrollment        Graduate   \n",
       "2  Has relevent experience       no_enrollment        Graduate   \n",
       "3  Has relevent experience       no_enrollment        Graduate   \n",
       "4   No relevent experience       no_enrollment         Masters   \n",
       "\n",
       "  major_discipline experience company_size    company_type last_new_job  \\\n",
       "0             STEM          3      100-500         Pvt Ltd            1   \n",
       "1             STEM         14          <10  Funded Startup            1   \n",
       "2             STEM          6        50-99   Public Sector            2   \n",
       "3             STEM         14        50-99         Pvt Ltd            1   \n",
       "4             STEM          8      missing         missing            2   \n",
       "\n",
       "   training_hours  target  \n",
       "0             106       0  \n",
       "1              69       0  \n",
       "2               4       0  \n",
       "3              26       0  \n",
       "4              88       1  "
      ]
     },
     "execution_count": 33,
     "metadata": {},
     "output_type": "execute_result"
    }
   ],
   "source": [
    "train.head()"
   ]
  },
  {
   "cell_type": "code",
   "execution_count": 34,
   "metadata": {},
   "outputs": [
    {
     "data": {
      "text/plain": [
       "company_size\n",
       "10/49        0.134379\n",
       "100-500      0.103781\n",
       "1000-4999    0.109364\n",
       "10000+       0.120841\n",
       "50-99        0.100321\n",
       "500-999      0.116408\n",
       "5000-9999    0.125212\n",
       "<10          0.107353\n",
       "missing      0.190416\n",
       "Name: target, dtype: float64"
      ]
     },
     "execution_count": 34,
     "metadata": {},
     "output_type": "execute_result"
    }
   ],
   "source": [
    "train.groupby('company_size').target.sum()/train.groupby('company_size').target.count()"
   ]
  },
  {
   "cell_type": "code",
   "execution_count": 35,
   "metadata": {},
   "outputs": [
    {
     "data": {
      "text/plain": [
       "0        100-500\n",
       "1            <10\n",
       "2          50-99\n",
       "3          50-99\n",
       "4        missing\n",
       "          ...   \n",
       "18354        <10\n",
       "18355      50-99\n",
       "18356      50-99\n",
       "18357      10/49\n",
       "18358    100-500\n",
       "Name: company_size, Length: 18359, dtype: object"
      ]
     },
     "execution_count": 35,
     "metadata": {},
     "output_type": "execute_result"
    }
   ],
   "source": [
    "train.company_size"
   ]
  },
  {
   "cell_type": "code",
   "execution_count": 36,
   "metadata": {},
   "outputs": [
    {
     "data": {
      "image/png": "[encoded data removed]",
      "text/plain": [
       "<Figure size 432x288 with 1 Axes>"
      ]
     },
     "metadata": {},
     "output_type": "display_data"
    }
   ],
   "source": [
    "sns.countplot(x = 'gender', hue = 'target', data = train,palette=\"Set1\");"
   ]
  },
  {
   "cell_type": "code",
   "execution_count": 37,
   "metadata": {},
   "outputs": [],
   "source": [
    "def crosstab_2var(df,var1,var2):\n",
    "    return(pd.crosstab([df[var1], df[\"target\"]], df[var2], margins = True).style.background_gradient(cmap = \"Accent\"))"
   ]
  },
  {
   "cell_type": "code",
   "execution_count": 38,
   "metadata": {
    "scrolled": true
   },
   "outputs": [
    {
     "data": {
      "text/html": [
       "<style  type=\"text/css\" >\n",
       "    #T_8b2a8998_91dc_11ea_911e_d36c4361acc1row0_col0 {\n",
       "            background-color:  #7fc97f;\n",
       "            color:  #000000;\n",
       "        }    #T_8b2a8998_91dc_11ea_911e_d36c4361acc1row0_col1 {\n",
       "            background-color:  #7fc97f;\n",
       "            color:  #000000;\n",
       "        }    #T_8b2a8998_91dc_11ea_911e_d36c4361acc1row0_col2 {\n",
       "            background-color:  #7fc97f;\n",
       "            color:  #000000;\n",
       "        }    #T_8b2a8998_91dc_11ea_911e_d36c4361acc1row0_col3 {\n",
       "            background-color:  #7fc97f;\n",
       "            color:  #000000;\n",
       "        }    #T_8b2a8998_91dc_11ea_911e_d36c4361acc1row0_col4 {\n",
       "            background-color:  #7fc97f;\n",
       "            color:  #000000;\n",
       "        }    #T_8b2a8998_91dc_11ea_911e_d36c4361acc1row0_col5 {\n",
       "            background-color:  #7fc97f;\n",
       "            color:  #000000;\n",
       "        }    #T_8b2a8998_91dc_11ea_911e_d36c4361acc1row0_col6 {\n",
       "            background-color:  #7fc97f;\n",
       "            color:  #000000;\n",
       "        }    #T_8b2a8998_91dc_11ea_911e_d36c4361acc1row0_col7 {\n",
       "            background-color:  #7fc97f;\n",
       "            color:  #000000;\n",
       "        }    #T_8b2a8998_91dc_11ea_911e_d36c4361acc1row0_col8 {\n",
       "            background-color:  #7fc97f;\n",
       "            color:  #000000;\n",
       "        }    #T_8b2a8998_91dc_11ea_911e_d36c4361acc1row0_col9 {\n",
       "            background-color:  #7fc97f;\n",
       "            color:  #000000;\n",
       "        }    #T_8b2a8998_91dc_11ea_911e_d36c4361acc1row1_col0 {\n",
       "            background-color:  #7fc97f;\n",
       "            color:  #000000;\n",
       "        }    #T_8b2a8998_91dc_11ea_911e_d36c4361acc1row1_col1 {\n",
       "            background-color:  #7fc97f;\n",
       "            color:  #000000;\n",
       "        }    #T_8b2a8998_91dc_11ea_911e_d36c4361acc1row1_col2 {\n",
       "            background-color:  #7fc97f;\n",
       "            color:  #000000;\n",
       "        }    #T_8b2a8998_91dc_11ea_911e_d36c4361acc1row1_col3 {\n",
       "            background-color:  #7fc97f;\n",
       "            color:  #000000;\n",
       "        }    #T_8b2a8998_91dc_11ea_911e_d36c4361acc1row1_col4 {\n",
       "            background-color:  #7fc97f;\n",
       "            color:  #000000;\n",
       "        }    #T_8b2a8998_91dc_11ea_911e_d36c4361acc1row1_col5 {\n",
       "            background-color:  #7fc97f;\n",
       "            color:  #000000;\n",
       "        }    #T_8b2a8998_91dc_11ea_911e_d36c4361acc1row1_col6 {\n",
       "            background-color:  #7fc97f;\n",
       "            color:  #000000;\n",
       "        }    #T_8b2a8998_91dc_11ea_911e_d36c4361acc1row1_col7 {\n",
       "            background-color:  #7fc97f;\n",
       "            color:  #000000;\n",
       "        }    #T_8b2a8998_91dc_11ea_911e_d36c4361acc1row1_col8 {\n",
       "            background-color:  #7fc97f;\n",
       "            color:  #000000;\n",
       "        }    #T_8b2a8998_91dc_11ea_911e_d36c4361acc1row1_col9 {\n",
       "            background-color:  #7fc97f;\n",
       "            color:  #000000;\n",
       "        }    #T_8b2a8998_91dc_11ea_911e_d36c4361acc1row2_col0 {\n",
       "            background-color:  #f0027f;\n",
       "            color:  #f1f1f1;\n",
       "        }    #T_8b2a8998_91dc_11ea_911e_d36c4361acc1row2_col1 {\n",
       "            background-color:  #f0027f;\n",
       "            color:  #f1f1f1;\n",
       "        }    #T_8b2a8998_91dc_11ea_911e_d36c4361acc1row2_col2 {\n",
       "            background-color:  #f0027f;\n",
       "            color:  #f1f1f1;\n",
       "        }    #T_8b2a8998_91dc_11ea_911e_d36c4361acc1row2_col3 {\n",
       "            background-color:  #f0027f;\n",
       "            color:  #f1f1f1;\n",
       "        }    #T_8b2a8998_91dc_11ea_911e_d36c4361acc1row2_col4 {\n",
       "            background-color:  #f0027f;\n",
       "            color:  #f1f1f1;\n",
       "        }    #T_8b2a8998_91dc_11ea_911e_d36c4361acc1row2_col5 {\n",
       "            background-color:  #f0027f;\n",
       "            color:  #f1f1f1;\n",
       "        }    #T_8b2a8998_91dc_11ea_911e_d36c4361acc1row2_col6 {\n",
       "            background-color:  #f0027f;\n",
       "            color:  #f1f1f1;\n",
       "        }    #T_8b2a8998_91dc_11ea_911e_d36c4361acc1row2_col7 {\n",
       "            background-color:  #f0027f;\n",
       "            color:  #f1f1f1;\n",
       "        }    #T_8b2a8998_91dc_11ea_911e_d36c4361acc1row2_col8 {\n",
       "            background-color:  #386cb0;\n",
       "            color:  #f1f1f1;\n",
       "        }    #T_8b2a8998_91dc_11ea_911e_d36c4361acc1row2_col9 {\n",
       "            background-color:  #386cb0;\n",
       "            color:  #f1f1f1;\n",
       "        }    #T_8b2a8998_91dc_11ea_911e_d36c4361acc1row3_col0 {\n",
       "            background-color:  #7fc97f;\n",
       "            color:  #000000;\n",
       "        }    #T_8b2a8998_91dc_11ea_911e_d36c4361acc1row3_col1 {\n",
       "            background-color:  #7fc97f;\n",
       "            color:  #000000;\n",
       "        }    #T_8b2a8998_91dc_11ea_911e_d36c4361acc1row3_col2 {\n",
       "            background-color:  #7fc97f;\n",
       "            color:  #000000;\n",
       "        }    #T_8b2a8998_91dc_11ea_911e_d36c4361acc1row3_col3 {\n",
       "            background-color:  #7fc97f;\n",
       "            color:  #000000;\n",
       "        }    #T_8b2a8998_91dc_11ea_911e_d36c4361acc1row3_col4 {\n",
       "            background-color:  #7fc97f;\n",
       "            color:  #000000;\n",
       "        }    #T_8b2a8998_91dc_11ea_911e_d36c4361acc1row3_col5 {\n",
       "            background-color:  #7fc97f;\n",
       "            color:  #000000;\n",
       "        }    #T_8b2a8998_91dc_11ea_911e_d36c4361acc1row3_col6 {\n",
       "            background-color:  #7fc97f;\n",
       "            color:  #000000;\n",
       "        }    #T_8b2a8998_91dc_11ea_911e_d36c4361acc1row3_col7 {\n",
       "            background-color:  #7fc97f;\n",
       "            color:  #000000;\n",
       "        }    #T_8b2a8998_91dc_11ea_911e_d36c4361acc1row3_col8 {\n",
       "            background-color:  #7fc97f;\n",
       "            color:  #000000;\n",
       "        }    #T_8b2a8998_91dc_11ea_911e_d36c4361acc1row3_col9 {\n",
       "            background-color:  #7fc97f;\n",
       "            color:  #000000;\n",
       "        }    #T_8b2a8998_91dc_11ea_911e_d36c4361acc1row4_col0 {\n",
       "            background-color:  #7fc97f;\n",
       "            color:  #000000;\n",
       "        }    #T_8b2a8998_91dc_11ea_911e_d36c4361acc1row4_col1 {\n",
       "            background-color:  #7fc97f;\n",
       "            color:  #000000;\n",
       "        }    #T_8b2a8998_91dc_11ea_911e_d36c4361acc1row4_col2 {\n",
       "            background-color:  #7fc97f;\n",
       "            color:  #000000;\n",
       "        }    #T_8b2a8998_91dc_11ea_911e_d36c4361acc1row4_col3 {\n",
       "            background-color:  #7fc97f;\n",
       "            color:  #000000;\n",
       "        }    #T_8b2a8998_91dc_11ea_911e_d36c4361acc1row4_col4 {\n",
       "            background-color:  #7fc97f;\n",
       "            color:  #000000;\n",
       "        }    #T_8b2a8998_91dc_11ea_911e_d36c4361acc1row4_col5 {\n",
       "            background-color:  #7fc97f;\n",
       "            color:  #000000;\n",
       "        }    #T_8b2a8998_91dc_11ea_911e_d36c4361acc1row4_col6 {\n",
       "            background-color:  #7fc97f;\n",
       "            color:  #000000;\n",
       "        }    #T_8b2a8998_91dc_11ea_911e_d36c4361acc1row4_col7 {\n",
       "            background-color:  #7fc97f;\n",
       "            color:  #000000;\n",
       "        }    #T_8b2a8998_91dc_11ea_911e_d36c4361acc1row4_col8 {\n",
       "            background-color:  #7fc97f;\n",
       "            color:  #000000;\n",
       "        }    #T_8b2a8998_91dc_11ea_911e_d36c4361acc1row4_col9 {\n",
       "            background-color:  #7fc97f;\n",
       "            color:  #000000;\n",
       "        }    #T_8b2a8998_91dc_11ea_911e_d36c4361acc1row5_col0 {\n",
       "            background-color:  #7fc97f;\n",
       "            color:  #000000;\n",
       "        }    #T_8b2a8998_91dc_11ea_911e_d36c4361acc1row5_col1 {\n",
       "            background-color:  #7fc97f;\n",
       "            color:  #000000;\n",
       "        }    #T_8b2a8998_91dc_11ea_911e_d36c4361acc1row5_col2 {\n",
       "            background-color:  #7fc97f;\n",
       "            color:  #000000;\n",
       "        }    #T_8b2a8998_91dc_11ea_911e_d36c4361acc1row5_col3 {\n",
       "            background-color:  #7fc97f;\n",
       "            color:  #000000;\n",
       "        }    #T_8b2a8998_91dc_11ea_911e_d36c4361acc1row5_col4 {\n",
       "            background-color:  #7fc97f;\n",
       "            color:  #000000;\n",
       "        }    #T_8b2a8998_91dc_11ea_911e_d36c4361acc1row5_col5 {\n",
       "            background-color:  #7fc97f;\n",
       "            color:  #000000;\n",
       "        }    #T_8b2a8998_91dc_11ea_911e_d36c4361acc1row5_col6 {\n",
       "            background-color:  #7fc97f;\n",
       "            color:  #000000;\n",
       "        }    #T_8b2a8998_91dc_11ea_911e_d36c4361acc1row5_col7 {\n",
       "            background-color:  #7fc97f;\n",
       "            color:  #000000;\n",
       "        }    #T_8b2a8998_91dc_11ea_911e_d36c4361acc1row5_col8 {\n",
       "            background-color:  #7fc97f;\n",
       "            color:  #000000;\n",
       "        }    #T_8b2a8998_91dc_11ea_911e_d36c4361acc1row5_col9 {\n",
       "            background-color:  #7fc97f;\n",
       "            color:  #000000;\n",
       "        }    #T_8b2a8998_91dc_11ea_911e_d36c4361acc1row6_col0 {\n",
       "            background-color:  #beaed4;\n",
       "            color:  #000000;\n",
       "        }    #T_8b2a8998_91dc_11ea_911e_d36c4361acc1row6_col1 {\n",
       "            background-color:  #beaed4;\n",
       "            color:  #000000;\n",
       "        }    #T_8b2a8998_91dc_11ea_911e_d36c4361acc1row6_col2 {\n",
       "            background-color:  #beaed4;\n",
       "            color:  #000000;\n",
       "        }    #T_8b2a8998_91dc_11ea_911e_d36c4361acc1row6_col3 {\n",
       "            background-color:  #beaed4;\n",
       "            color:  #000000;\n",
       "        }    #T_8b2a8998_91dc_11ea_911e_d36c4361acc1row6_col4 {\n",
       "            background-color:  #beaed4;\n",
       "            color:  #000000;\n",
       "        }    #T_8b2a8998_91dc_11ea_911e_d36c4361acc1row6_col5 {\n",
       "            background-color:  #beaed4;\n",
       "            color:  #000000;\n",
       "        }    #T_8b2a8998_91dc_11ea_911e_d36c4361acc1row6_col6 {\n",
       "            background-color:  #beaed4;\n",
       "            color:  #000000;\n",
       "        }    #T_8b2a8998_91dc_11ea_911e_d36c4361acc1row6_col7 {\n",
       "            background-color:  #beaed4;\n",
       "            color:  #000000;\n",
       "        }    #T_8b2a8998_91dc_11ea_911e_d36c4361acc1row6_col8 {\n",
       "            background-color:  #beaed4;\n",
       "            color:  #000000;\n",
       "        }    #T_8b2a8998_91dc_11ea_911e_d36c4361acc1row6_col9 {\n",
       "            background-color:  #beaed4;\n",
       "            color:  #000000;\n",
       "        }    #T_8b2a8998_91dc_11ea_911e_d36c4361acc1row7_col0 {\n",
       "            background-color:  #7fc97f;\n",
       "            color:  #000000;\n",
       "        }    #T_8b2a8998_91dc_11ea_911e_d36c4361acc1row7_col1 {\n",
       "            background-color:  #7fc97f;\n",
       "            color:  #000000;\n",
       "        }    #T_8b2a8998_91dc_11ea_911e_d36c4361acc1row7_col2 {\n",
       "            background-color:  #7fc97f;\n",
       "            color:  #000000;\n",
       "        }    #T_8b2a8998_91dc_11ea_911e_d36c4361acc1row7_col3 {\n",
       "            background-color:  #7fc97f;\n",
       "            color:  #000000;\n",
       "        }    #T_8b2a8998_91dc_11ea_911e_d36c4361acc1row7_col4 {\n",
       "            background-color:  #7fc97f;\n",
       "            color:  #000000;\n",
       "        }    #T_8b2a8998_91dc_11ea_911e_d36c4361acc1row7_col5 {\n",
       "            background-color:  #7fc97f;\n",
       "            color:  #000000;\n",
       "        }    #T_8b2a8998_91dc_11ea_911e_d36c4361acc1row7_col6 {\n",
       "            background-color:  #7fc97f;\n",
       "            color:  #000000;\n",
       "        }    #T_8b2a8998_91dc_11ea_911e_d36c4361acc1row7_col7 {\n",
       "            background-color:  #7fc97f;\n",
       "            color:  #000000;\n",
       "        }    #T_8b2a8998_91dc_11ea_911e_d36c4361acc1row7_col8 {\n",
       "            background-color:  #7fc97f;\n",
       "            color:  #000000;\n",
       "        }    #T_8b2a8998_91dc_11ea_911e_d36c4361acc1row7_col9 {\n",
       "            background-color:  #7fc97f;\n",
       "            color:  #000000;\n",
       "        }    #T_8b2a8998_91dc_11ea_911e_d36c4361acc1row8_col0 {\n",
       "            background-color:  #666666;\n",
       "            color:  #f1f1f1;\n",
       "        }    #T_8b2a8998_91dc_11ea_911e_d36c4361acc1row8_col1 {\n",
       "            background-color:  #666666;\n",
       "            color:  #f1f1f1;\n",
       "        }    #T_8b2a8998_91dc_11ea_911e_d36c4361acc1row8_col2 {\n",
       "            background-color:  #666666;\n",
       "            color:  #f1f1f1;\n",
       "        }    #T_8b2a8998_91dc_11ea_911e_d36c4361acc1row8_col3 {\n",
       "            background-color:  #666666;\n",
       "            color:  #f1f1f1;\n",
       "        }    #T_8b2a8998_91dc_11ea_911e_d36c4361acc1row8_col4 {\n",
       "            background-color:  #666666;\n",
       "            color:  #f1f1f1;\n",
       "        }    #T_8b2a8998_91dc_11ea_911e_d36c4361acc1row8_col5 {\n",
       "            background-color:  #666666;\n",
       "            color:  #f1f1f1;\n",
       "        }    #T_8b2a8998_91dc_11ea_911e_d36c4361acc1row8_col6 {\n",
       "            background-color:  #666666;\n",
       "            color:  #f1f1f1;\n",
       "        }    #T_8b2a8998_91dc_11ea_911e_d36c4361acc1row8_col7 {\n",
       "            background-color:  #666666;\n",
       "            color:  #f1f1f1;\n",
       "        }    #T_8b2a8998_91dc_11ea_911e_d36c4361acc1row8_col8 {\n",
       "            background-color:  #666666;\n",
       "            color:  #f1f1f1;\n",
       "        }    #T_8b2a8998_91dc_11ea_911e_d36c4361acc1row8_col9 {\n",
       "            background-color:  #666666;\n",
       "            color:  #f1f1f1;\n",
       "        }</style><table id=\"T_8b2a8998_91dc_11ea_911e_d36c4361acc1\" ><thead>    <tr>        <th class=\"blank\" ></th>        <th class=\"index_name level0\" >company_size</th>        <th class=\"col_heading level0 col0\" >10/49</th>        <th class=\"col_heading level0 col1\" >100-500</th>        <th class=\"col_heading level0 col2\" >1000-4999</th>        <th class=\"col_heading level0 col3\" >10000+</th>        <th class=\"col_heading level0 col4\" >50-99</th>        <th class=\"col_heading level0 col5\" >500-999</th>        <th class=\"col_heading level0 col6\" >5000-9999</th>        <th class=\"col_heading level0 col7\" ><10</th>        <th class=\"col_heading level0 col8\" >missing</th>        <th class=\"col_heading level0 col9\" >All</th>    </tr>    <tr>        <th class=\"index_name level0\" >gender</th>        <th class=\"index_name level1\" >target</th>        <th class=\"blank\" ></th>        <th class=\"blank\" ></th>        <th class=\"blank\" ></th>        <th class=\"blank\" ></th>        <th class=\"blank\" ></th>        <th class=\"blank\" ></th>        <th class=\"blank\" ></th>        <th class=\"blank\" ></th>        <th class=\"blank\" ></th>        <th class=\"blank\" ></th>    </tr></thead><tbody>\n",
       "                <tr>\n",
       "                        <th id=\"T_8b2a8998_91dc_11ea_911e_d36c4361acc1level0_row0\" class=\"row_heading level0 row0\" rowspan=2>Female</th>\n",
       "                        <th id=\"T_8b2a8998_91dc_11ea_911e_d36c4361acc1level1_row0\" class=\"row_heading level1 row0\" >0</th>\n",
       "                        <td id=\"T_8b2a8998_91dc_11ea_911e_d36c4361acc1row0_col0\" class=\"data row0 col0\" >83</td>\n",
       "                        <td id=\"T_8b2a8998_91dc_11ea_911e_d36c4361acc1row0_col1\" class=\"data row0 col1\" >157</td>\n",
       "                        <td id=\"T_8b2a8998_91dc_11ea_911e_d36c4361acc1row0_col2\" class=\"data row0 col2\" >103</td>\n",
       "                        <td id=\"T_8b2a8998_91dc_11ea_911e_d36c4361acc1row0_col3\" class=\"data row0 col3\" >134</td>\n",
       "                        <td id=\"T_8b2a8998_91dc_11ea_911e_d36c4361acc1row0_col4\" class=\"data row0 col4\" >200</td>\n",
       "                        <td id=\"T_8b2a8998_91dc_11ea_911e_d36c4361acc1row0_col5\" class=\"data row0 col5\" >55</td>\n",
       "                        <td id=\"T_8b2a8998_91dc_11ea_911e_d36c4361acc1row0_col6\" class=\"data row0 col6\" >35</td>\n",
       "                        <td id=\"T_8b2a8998_91dc_11ea_911e_d36c4361acc1row0_col7\" class=\"data row0 col7\" >65</td>\n",
       "                        <td id=\"T_8b2a8998_91dc_11ea_911e_d36c4361acc1row0_col8\" class=\"data row0 col8\" >177</td>\n",
       "                        <td id=\"T_8b2a8998_91dc_11ea_911e_d36c4361acc1row0_col9\" class=\"data row0 col9\" >1009</td>\n",
       "            </tr>\n",
       "            <tr>\n",
       "                                <th id=\"T_8b2a8998_91dc_11ea_911e_d36c4361acc1level1_row1\" class=\"row_heading level1 row1\" >1</th>\n",
       "                        <td id=\"T_8b2a8998_91dc_11ea_911e_d36c4361acc1row1_col0\" class=\"data row1 col0\" >12</td>\n",
       "                        <td id=\"T_8b2a8998_91dc_11ea_911e_d36c4361acc1row1_col1\" class=\"data row1 col1\" >24</td>\n",
       "                        <td id=\"T_8b2a8998_91dc_11ea_911e_d36c4361acc1row1_col2\" class=\"data row1 col2\" >9</td>\n",
       "                        <td id=\"T_8b2a8998_91dc_11ea_911e_d36c4361acc1row1_col3\" class=\"data row1 col3\" >11</td>\n",
       "                        <td id=\"T_8b2a8998_91dc_11ea_911e_d36c4361acc1row1_col4\" class=\"data row1 col4\" >24</td>\n",
       "                        <td id=\"T_8b2a8998_91dc_11ea_911e_d36c4361acc1row1_col5\" class=\"data row1 col5\" >10</td>\n",
       "                        <td id=\"T_8b2a8998_91dc_11ea_911e_d36c4361acc1row1_col6\" class=\"data row1 col6\" >7</td>\n",
       "                        <td id=\"T_8b2a8998_91dc_11ea_911e_d36c4361acc1row1_col7\" class=\"data row1 col7\" >10</td>\n",
       "                        <td id=\"T_8b2a8998_91dc_11ea_911e_d36c4361acc1row1_col8\" class=\"data row1 col8\" >72</td>\n",
       "                        <td id=\"T_8b2a8998_91dc_11ea_911e_d36c4361acc1row1_col9\" class=\"data row1 col9\" >179</td>\n",
       "            </tr>\n",
       "            <tr>\n",
       "                        <th id=\"T_8b2a8998_91dc_11ea_911e_d36c4361acc1level0_row2\" class=\"row_heading level0 row2\" rowspan=2>Male</th>\n",
       "                        <th id=\"T_8b2a8998_91dc_11ea_911e_d36c4361acc1level1_row2\" class=\"row_heading level1 row2\" >0</th>\n",
       "                        <td id=\"T_8b2a8998_91dc_11ea_911e_d36c4361acc1row2_col0\" class=\"data row2 col0\" >926</td>\n",
       "                        <td id=\"T_8b2a8998_91dc_11ea_911e_d36c4361acc1row2_col1\" class=\"data row2 col1\" >1788</td>\n",
       "                        <td id=\"T_8b2a8998_91dc_11ea_911e_d36c4361acc1row2_col2\" class=\"data row2 col2\" >883</td>\n",
       "                        <td id=\"T_8b2a8998_91dc_11ea_911e_d36c4361acc1row2_col3\" class=\"data row2 col3\" >1295</td>\n",
       "                        <td id=\"T_8b2a8998_91dc_11ea_911e_d36c4361acc1row2_col4\" class=\"data row2 col4\" >1982</td>\n",
       "                        <td id=\"T_8b2a8998_91dc_11ea_911e_d36c4361acc1row2_col5\" class=\"data row2 col5\" >572</td>\n",
       "                        <td id=\"T_8b2a8998_91dc_11ea_911e_d36c4361acc1row2_col6\" class=\"data row2 col6\" >373</td>\n",
       "                        <td id=\"T_8b2a8998_91dc_11ea_911e_d36c4361acc1row2_col7\" class=\"data row2 col7\" >881</td>\n",
       "                        <td id=\"T_8b2a8998_91dc_11ea_911e_d36c4361acc1row2_col8\" class=\"data row2 col8\" >2606</td>\n",
       "                        <td id=\"T_8b2a8998_91dc_11ea_911e_d36c4361acc1row2_col9\" class=\"data row2 col9\" >11306</td>\n",
       "            </tr>\n",
       "            <tr>\n",
       "                                <th id=\"T_8b2a8998_91dc_11ea_911e_d36c4361acc1level1_row3\" class=\"row_heading level1 row3\" >1</th>\n",
       "                        <td id=\"T_8b2a8998_91dc_11ea_911e_d36c4361acc1row3_col0\" class=\"data row3 col0\" >130</td>\n",
       "                        <td id=\"T_8b2a8998_91dc_11ea_911e_d36c4361acc1row3_col1\" class=\"data row3 col1\" >202</td>\n",
       "                        <td id=\"T_8b2a8998_91dc_11ea_911e_d36c4361acc1row3_col2\" class=\"data row3 col2\" >104</td>\n",
       "                        <td id=\"T_8b2a8998_91dc_11ea_911e_d36c4361acc1row3_col3\" class=\"data row3 col3\" >170</td>\n",
       "                        <td id=\"T_8b2a8998_91dc_11ea_911e_d36c4361acc1row3_col4\" class=\"data row3 col4\" >201</td>\n",
       "                        <td id=\"T_8b2a8998_91dc_11ea_911e_d36c4361acc1row3_col5\" class=\"data row3 col5\" >65</td>\n",
       "                        <td id=\"T_8b2a8998_91dc_11ea_911e_d36c4361acc1row3_col6\" class=\"data row3 col6\" >51</td>\n",
       "                        <td id=\"T_8b2a8998_91dc_11ea_911e_d36c4361acc1row3_col7\" class=\"data row3 col7\" >93</td>\n",
       "                        <td id=\"T_8b2a8998_91dc_11ea_911e_d36c4361acc1row3_col8\" class=\"data row3 col8\" >562</td>\n",
       "                        <td id=\"T_8b2a8998_91dc_11ea_911e_d36c4361acc1row3_col9\" class=\"data row3 col9\" >1578</td>\n",
       "            </tr>\n",
       "            <tr>\n",
       "                        <th id=\"T_8b2a8998_91dc_11ea_911e_d36c4361acc1level0_row4\" class=\"row_heading level0 row4\" rowspan=2>Other</th>\n",
       "                        <th id=\"T_8b2a8998_91dc_11ea_911e_d36c4361acc1level1_row4\" class=\"row_heading level1 row4\" >0</th>\n",
       "                        <td id=\"T_8b2a8998_91dc_11ea_911e_d36c4361acc1row4_col0\" class=\"data row4 col0\" >10</td>\n",
       "                        <td id=\"T_8b2a8998_91dc_11ea_911e_d36c4361acc1row4_col1\" class=\"data row4 col1\" >16</td>\n",
       "                        <td id=\"T_8b2a8998_91dc_11ea_911e_d36c4361acc1row4_col2\" class=\"data row4 col2\" >12</td>\n",
       "                        <td id=\"T_8b2a8998_91dc_11ea_911e_d36c4361acc1row4_col3\" class=\"data row4 col3\" >20</td>\n",
       "                        <td id=\"T_8b2a8998_91dc_11ea_911e_d36c4361acc1row4_col4\" class=\"data row4 col4\" >29</td>\n",
       "                        <td id=\"T_8b2a8998_91dc_11ea_911e_d36c4361acc1row4_col5\" class=\"data row4 col5\" >7</td>\n",
       "                        <td id=\"T_8b2a8998_91dc_11ea_911e_d36c4361acc1row4_col6\" class=\"data row4 col6\" >4</td>\n",
       "                        <td id=\"T_8b2a8998_91dc_11ea_911e_d36c4361acc1row4_col7\" class=\"data row4 col7\" >11</td>\n",
       "                        <td id=\"T_8b2a8998_91dc_11ea_911e_d36c4361acc1row4_col8\" class=\"data row4 col8\" >51</td>\n",
       "                        <td id=\"T_8b2a8998_91dc_11ea_911e_d36c4361acc1row4_col9\" class=\"data row4 col9\" >160</td>\n",
       "            </tr>\n",
       "            <tr>\n",
       "                                <th id=\"T_8b2a8998_91dc_11ea_911e_d36c4361acc1level1_row5\" class=\"row_heading level1 row5\" >1</th>\n",
       "                        <td id=\"T_8b2a8998_91dc_11ea_911e_d36c4361acc1row5_col0\" class=\"data row5 col0\" >1</td>\n",
       "                        <td id=\"T_8b2a8998_91dc_11ea_911e_d36c4361acc1row5_col1\" class=\"data row5 col1\" >0</td>\n",
       "                        <td id=\"T_8b2a8998_91dc_11ea_911e_d36c4361acc1row5_col2\" class=\"data row5 col2\" >2</td>\n",
       "                        <td id=\"T_8b2a8998_91dc_11ea_911e_d36c4361acc1row5_col3\" class=\"data row5 col3\" >4</td>\n",
       "                        <td id=\"T_8b2a8998_91dc_11ea_911e_d36c4361acc1row5_col4\" class=\"data row5 col4\" >6</td>\n",
       "                        <td id=\"T_8b2a8998_91dc_11ea_911e_d36c4361acc1row5_col5\" class=\"data row5 col5\" >0</td>\n",
       "                        <td id=\"T_8b2a8998_91dc_11ea_911e_d36c4361acc1row5_col6\" class=\"data row5 col6\" >1</td>\n",
       "                        <td id=\"T_8b2a8998_91dc_11ea_911e_d36c4361acc1row5_col7\" class=\"data row5 col7\" >2</td>\n",
       "                        <td id=\"T_8b2a8998_91dc_11ea_911e_d36c4361acc1row5_col8\" class=\"data row5 col8\" >13</td>\n",
       "                        <td id=\"T_8b2a8998_91dc_11ea_911e_d36c4361acc1row5_col9\" class=\"data row5 col9\" >29</td>\n",
       "            </tr>\n",
       "            <tr>\n",
       "                        <th id=\"T_8b2a8998_91dc_11ea_911e_d36c4361acc1level0_row6\" class=\"row_heading level0 row6\" rowspan=2>unknown</th>\n",
       "                        <th id=\"T_8b2a8998_91dc_11ea_911e_d36c4361acc1level1_row6\" class=\"row_heading level1 row6\" >0</th>\n",
       "                        <td id=\"T_8b2a8998_91dc_11ea_911e_d36c4361acc1row6_col0\" class=\"data row6 col0\" >250</td>\n",
       "                        <td id=\"T_8b2a8998_91dc_11ea_911e_d36c4361acc1row6_col1\" class=\"data row6 col1\" >457</td>\n",
       "                        <td id=\"T_8b2a8998_91dc_11ea_911e_d36c4361acc1row6_col2\" class=\"data row6 col2\" >248</td>\n",
       "                        <td id=\"T_8b2a8998_91dc_11ea_911e_d36c4361acc1row6_col3\" class=\"data row6 col3\" >348</td>\n",
       "                        <td id=\"T_8b2a8998_91dc_11ea_911e_d36c4361acc1row6_col4\" class=\"data row6 col4\" >596</td>\n",
       "                        <td id=\"T_8b2a8998_91dc_11ea_911e_d36c4361acc1row6_col5\" class=\"data row6 col5\" >163</td>\n",
       "                        <td id=\"T_8b2a8998_91dc_11ea_911e_d36c4361acc1row6_col6\" class=\"data row6 col6\" >105</td>\n",
       "                        <td id=\"T_8b2a8998_91dc_11ea_911e_d36c4361acc1row6_col7\" class=\"data row6 col7\" >257</td>\n",
       "                        <td id=\"T_8b2a8998_91dc_11ea_911e_d36c4361acc1row6_col8\" class=\"data row6 col8\" >1035</td>\n",
       "                        <td id=\"T_8b2a8998_91dc_11ea_911e_d36c4361acc1row6_col9\" class=\"data row6 col9\" >3459</td>\n",
       "            </tr>\n",
       "            <tr>\n",
       "                                <th id=\"T_8b2a8998_91dc_11ea_911e_d36c4361acc1level1_row7\" class=\"row_heading level1 row7\" >1</th>\n",
       "                        <td id=\"T_8b2a8998_91dc_11ea_911e_d36c4361acc1row7_col0\" class=\"data row7 col0\" >54</td>\n",
       "                        <td id=\"T_8b2a8998_91dc_11ea_911e_d36c4361acc1row7_col1\" class=\"data row7 col1\" >54</td>\n",
       "                        <td id=\"T_8b2a8998_91dc_11ea_911e_d36c4361acc1row7_col2\" class=\"data row7 col2\" >38</td>\n",
       "                        <td id=\"T_8b2a8998_91dc_11ea_911e_d36c4361acc1row7_col3\" class=\"data row7 col3\" >62</td>\n",
       "                        <td id=\"T_8b2a8998_91dc_11ea_911e_d36c4361acc1row7_col4\" class=\"data row7 col4\" >82</td>\n",
       "                        <td id=\"T_8b2a8998_91dc_11ea_911e_d36c4361acc1row7_col5\" class=\"data row7 col5\" >30</td>\n",
       "                        <td id=\"T_8b2a8998_91dc_11ea_911e_d36c4361acc1row7_col6\" class=\"data row7 col6\" >15</td>\n",
       "                        <td id=\"T_8b2a8998_91dc_11ea_911e_d36c4361acc1row7_col7\" class=\"data row7 col7\" >41</td>\n",
       "                        <td id=\"T_8b2a8998_91dc_11ea_911e_d36c4361acc1row7_col8\" class=\"data row7 col8\" >263</td>\n",
       "                        <td id=\"T_8b2a8998_91dc_11ea_911e_d36c4361acc1row7_col9\" class=\"data row7 col9\" >639</td>\n",
       "            </tr>\n",
       "            <tr>\n",
       "                        <th id=\"T_8b2a8998_91dc_11ea_911e_d36c4361acc1level0_row8\" class=\"row_heading level0 row8\" >All</th>\n",
       "                        <th id=\"T_8b2a8998_91dc_11ea_911e_d36c4361acc1level1_row8\" class=\"row_heading level1 row8\" ></th>\n",
       "                        <td id=\"T_8b2a8998_91dc_11ea_911e_d36c4361acc1row8_col0\" class=\"data row8 col0\" >1466</td>\n",
       "                        <td id=\"T_8b2a8998_91dc_11ea_911e_d36c4361acc1row8_col1\" class=\"data row8 col1\" >2698</td>\n",
       "                        <td id=\"T_8b2a8998_91dc_11ea_911e_d36c4361acc1row8_col2\" class=\"data row8 col2\" >1399</td>\n",
       "                        <td id=\"T_8b2a8998_91dc_11ea_911e_d36c4361acc1row8_col3\" class=\"data row8 col3\" >2044</td>\n",
       "                        <td id=\"T_8b2a8998_91dc_11ea_911e_d36c4361acc1row8_col4\" class=\"data row8 col4\" >3120</td>\n",
       "                        <td id=\"T_8b2a8998_91dc_11ea_911e_d36c4361acc1row8_col5\" class=\"data row8 col5\" >902</td>\n",
       "                        <td id=\"T_8b2a8998_91dc_11ea_911e_d36c4361acc1row8_col6\" class=\"data row8 col6\" >591</td>\n",
       "                        <td id=\"T_8b2a8998_91dc_11ea_911e_d36c4361acc1row8_col7\" class=\"data row8 col7\" >1360</td>\n",
       "                        <td id=\"T_8b2a8998_91dc_11ea_911e_d36c4361acc1row8_col8\" class=\"data row8 col8\" >4779</td>\n",
       "                        <td id=\"T_8b2a8998_91dc_11ea_911e_d36c4361acc1row8_col9\" class=\"data row8 col9\" >18359</td>\n",
       "            </tr>\n",
       "    </tbody></table>"
      ],
      "text/plain": [
       "<pandas.io.formats.style.Styler at 0x28692df1e08>"
      ]
     },
     "execution_count": 38,
     "metadata": {},
     "output_type": "execute_result"
    }
   ],
   "source": [
    "crosstab_2var(train,'gender','company_size')"
   ]
  },
  {
   "cell_type": "code",
   "execution_count": 39,
   "metadata": {},
   "outputs": [
    {
     "data": {
      "text/plain": [
       "Index(['enrollee_id', 'city', 'city_development_index', 'gender',\n",
       "       'relevent_experience', 'enrolled_university', 'education_level',\n",
       "       'major_discipline', 'experience', 'company_size', 'company_type',\n",
       "       'last_new_job', 'training_hours', 'target'],\n",
       "      dtype='object')"
      ]
     },
     "execution_count": 39,
     "metadata": {},
     "output_type": "execute_result"
    }
   ],
   "source": [
    "train.columns"
   ]
  },
  {
   "cell_type": "code",
   "execution_count": 40,
   "metadata": {},
   "outputs": [
    {
     "data": {
      "text/plain": [
       "<matplotlib.axes._subplots.AxesSubplot at 0x2868f491e08>"
      ]
     },
     "execution_count": 40,
     "metadata": {},
     "output_type": "execute_result"
    },
    {
     "data": {
      "image/png": "[encoded data removed]",
      "text/plain": [
       "<Figure size 432x288 with 1 Axes>"
      ]
     },
     "metadata": {},
     "output_type": "display_data"
    }
   ],
   "source": [
    "sns.scatterplot(x = train.city_development_index, y = train.training_hours)"
   ]
  },
  {
   "cell_type": "code",
   "execution_count": 41,
   "metadata": {},
   "outputs": [
    {
     "data": {
      "text/plain": [
       "<seaborn.axisgrid.PairGrid at 0x2868f4bec48>"
      ]
     },
     "execution_count": 41,
     "metadata": {},
     "output_type": "execute_result"
    },
    {
     "data": {
      "image/png": "[encoded data removed]",
      "text/plain": [
       "<Figure size 405.725x360 with 6 Axes>"
      ]
     },
     "metadata": {},
     "output_type": "display_data"
    }
   ],
   "source": [
    "sns.pairplot(train.select_dtypes('number'), hue = 'target')"
   ]
  },
  {
   "cell_type": "code",
   "execution_count": null,
   "metadata": {},
   "outputs": [],
   "source": []
  },
  {
   "cell_type": "code",
   "execution_count": null,
   "metadata": {},
   "outputs": [],
   "source": []
  },
  {
   "cell_type": "code",
   "execution_count": null,
   "metadata": {},
   "outputs": [],
   "source": []
  }
 ],
 "metadata": {
  "kernelspec": {
   "display_name": "Python 3",
   "language": "python",
   "name": "python3"
  },
  "language_info": {
   "codemirror_mode": {
    "name": "ipython",
    "version": 3
   },
   "file_extension": ".py",
   "mimetype": "text/x-python",
   "name": "python",
   "nbconvert_exporter": "python",
   "pygments_lexer": "ipython3",
   "version": "3.7.6"
  }
 },
 "nbformat": 4,
 "nbformat_minor": 4
}
