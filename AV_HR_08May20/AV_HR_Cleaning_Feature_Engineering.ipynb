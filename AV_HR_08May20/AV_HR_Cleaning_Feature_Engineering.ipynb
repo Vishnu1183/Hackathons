{
 "cells": [
  {
   "cell_type": "raw",
   "metadata": {},
   "source": [
    "error aa ja"
   ]
  },
  {
   "cell_type": "code",
   "execution_count": 180,
   "metadata": {},
   "outputs": [],
   "source": [
    "from IPython.core.interactiveshell import InteractiveShell\n",
    "InteractiveShell.ast_node_interactivity = 'all'\n",
    "import warnings\n",
    "warnings.filterwarnings('ignore')\n",
    "#pd.set_option(\"display.max_columns\",50)"
   ]
  },
  {
   "cell_type": "code",
   "execution_count": 316,
   "metadata": {},
   "outputs": [],
   "source": [
    "import pandas as pd\n",
    "import numpy as np\n",
    "import matplotlib.pyplot as plt\n",
    "import re\n",
    "from sklearn.model_selection import train_test_split\n",
    "from sklearn.linear_model import LogisticRegression\n",
    "from sklearn.ensemble import RandomForestClassifier, StackingClassifier\n",
    "from sklearn.preprocessing import StandardScaler,MinMaxScaler,MaxAbsScaler\n",
    "from sklearn.model_selection import cross_val_score,GridSearchCV,StratifiedKFold,RepeatedStratifiedKFold,RandomizedSearchCV\n",
    "from sklearn.metrics import accuracy_score,auc,recall_score,precision_score,precision_recall_curve,confusion_matrix,\\\n",
    "plot_confusion_matrix,plot_precision_recall_curve,plot_roc_curve,classification_report,roc_auc_score,f1_score\n",
    "from xgboost import XGBClassifier\n",
    "from sklearn.pipeline import make_pipeline\n",
    "from sklearn.svm import LinearSVC\n",
    "from sklearn.neighbors import KNeighborsClassifier\n",
    "from sklearn.impute import SimpleImputer,KNNImputer\n",
    "from sklearn.compose import ColumnTransformer"
   ]
  },
  {
   "cell_type": "code",
   "execution_count": 182,
   "metadata": {},
   "outputs": [],
   "source": [
    "import re\n",
    "import seaborn as sns\n",
    "from matplotlib import pyplot as plt\n",
    "sns.set(style=\"darkgrid\") #white, dark, whitegrid, darkgrid, ticks\n"
   ]
  },
  {
   "cell_type": "code",
   "execution_count": 183,
   "metadata": {},
   "outputs": [],
   "source": [
    "path = r\"C:/Users/Krishna/Documents/kaggle/AV_HR_Hackathon\""
   ]
  },
  {
   "cell_type": "code",
   "execution_count": 184,
   "metadata": {},
   "outputs": [
    {
     "data": {
      "text/plain": [
       "'train dimensions are : (18359, 14)'"
      ]
     },
     "execution_count": 184,
     "metadata": {},
     "output_type": "execute_result"
    },
    {
     "data": {
      "text/plain": [
       "'test dimensions are : (15021, 13)'"
      ]
     },
     "execution_count": 184,
     "metadata": {},
     "output_type": "execute_result"
    },
    {
     "data": {
      "text/html": [
       "<div>\n",
       "<style scoped>\n",
       "    .dataframe tbody tr th:only-of-type {\n",
       "        vertical-align: middle;\n",
       "    }\n",
       "\n",
       "    .dataframe tbody tr th {\n",
       "        vertical-align: top;\n",
       "    }\n",
       "\n",
       "    .dataframe thead th {\n",
       "        text-align: right;\n",
       "    }\n",
       "</style>\n",
       "<table border=\"1\" class=\"dataframe\">\n",
       "  <thead>\n",
       "    <tr style=\"text-align: right;\">\n",
       "      <th></th>\n",
       "      <th>enrollee_id</th>\n",
       "      <th>city</th>\n",
       "      <th>city_development_index</th>\n",
       "      <th>gender</th>\n",
       "      <th>relevent_experience</th>\n",
       "      <th>enrolled_university</th>\n",
       "      <th>education_level</th>\n",
       "      <th>major_discipline</th>\n",
       "      <th>experience</th>\n",
       "      <th>company_size</th>\n",
       "      <th>company_type</th>\n",
       "      <th>last_new_job</th>\n",
       "      <th>training_hours</th>\n",
       "      <th>target</th>\n",
       "    </tr>\n",
       "  </thead>\n",
       "  <tbody>\n",
       "    <tr>\n",
       "      <th>0</th>\n",
       "      <td>23798</td>\n",
       "      <td>city_149</td>\n",
       "      <td>0.689</td>\n",
       "      <td>Male</td>\n",
       "      <td>Has relevent experience</td>\n",
       "      <td>no_enrollment</td>\n",
       "      <td>Graduate</td>\n",
       "      <td>STEM</td>\n",
       "      <td>3</td>\n",
       "      <td>100-500</td>\n",
       "      <td>Pvt Ltd</td>\n",
       "      <td>1</td>\n",
       "      <td>106</td>\n",
       "      <td>0</td>\n",
       "    </tr>\n",
       "    <tr>\n",
       "      <th>1</th>\n",
       "      <td>29166</td>\n",
       "      <td>city_83</td>\n",
       "      <td>0.923</td>\n",
       "      <td>Male</td>\n",
       "      <td>Has relevent experience</td>\n",
       "      <td>no_enrollment</td>\n",
       "      <td>Graduate</td>\n",
       "      <td>STEM</td>\n",
       "      <td>14</td>\n",
       "      <td>&lt;10</td>\n",
       "      <td>Funded Startup</td>\n",
       "      <td>1</td>\n",
       "      <td>69</td>\n",
       "      <td>0</td>\n",
       "    </tr>\n",
       "  </tbody>\n",
       "</table>\n",
       "</div>"
      ],
      "text/plain": [
       "  enrollee_id      city  city_development_index gender  \\\n",
       "0       23798  city_149                   0.689   Male   \n",
       "1       29166   city_83                   0.923   Male   \n",
       "\n",
       "       relevent_experience enrolled_university education_level  \\\n",
       "0  Has relevent experience       no_enrollment        Graduate   \n",
       "1  Has relevent experience       no_enrollment        Graduate   \n",
       "\n",
       "  major_discipline experience company_size    company_type last_new_job  \\\n",
       "0             STEM          3      100-500         Pvt Ltd            1   \n",
       "1             STEM         14          <10  Funded Startup            1   \n",
       "\n",
       "   training_hours  target  \n",
       "0             106       0  \n",
       "1              69       0  "
      ]
     },
     "execution_count": 184,
     "metadata": {},
     "output_type": "execute_result"
    },
    {
     "data": {
      "text/html": [
       "<div>\n",
       "<style scoped>\n",
       "    .dataframe tbody tr th:only-of-type {\n",
       "        vertical-align: middle;\n",
       "    }\n",
       "\n",
       "    .dataframe tbody tr th {\n",
       "        vertical-align: top;\n",
       "    }\n",
       "\n",
       "    .dataframe thead th {\n",
       "        text-align: right;\n",
       "    }\n",
       "</style>\n",
       "<table border=\"1\" class=\"dataframe\">\n",
       "  <thead>\n",
       "    <tr style=\"text-align: right;\">\n",
       "      <th></th>\n",
       "      <th>enrollee_id</th>\n",
       "      <th>city</th>\n",
       "      <th>city_development_index</th>\n",
       "      <th>gender</th>\n",
       "      <th>relevent_experience</th>\n",
       "      <th>enrolled_university</th>\n",
       "      <th>education_level</th>\n",
       "      <th>major_discipline</th>\n",
       "      <th>experience</th>\n",
       "      <th>company_size</th>\n",
       "      <th>company_type</th>\n",
       "      <th>last_new_job</th>\n",
       "      <th>training_hours</th>\n",
       "    </tr>\n",
       "  </thead>\n",
       "  <tbody>\n",
       "    <tr>\n",
       "      <th>0</th>\n",
       "      <td>16548</td>\n",
       "      <td>city_33</td>\n",
       "      <td>0.448</td>\n",
       "      <td>NaN</td>\n",
       "      <td>No relevent experience</td>\n",
       "      <td>Full time course</td>\n",
       "      <td>Graduate</td>\n",
       "      <td>STEM</td>\n",
       "      <td>&lt;1</td>\n",
       "      <td>1000-4999</td>\n",
       "      <td>Public Sector</td>\n",
       "      <td>NaN</td>\n",
       "      <td>15</td>\n",
       "    </tr>\n",
       "    <tr>\n",
       "      <th>1</th>\n",
       "      <td>12036</td>\n",
       "      <td>city_28</td>\n",
       "      <td>0.939</td>\n",
       "      <td>Male</td>\n",
       "      <td>No relevent experience</td>\n",
       "      <td>no_enrollment</td>\n",
       "      <td>Graduate</td>\n",
       "      <td>STEM</td>\n",
       "      <td>&gt;20</td>\n",
       "      <td>50-99</td>\n",
       "      <td>Pvt Ltd</td>\n",
       "      <td>1</td>\n",
       "      <td>94</td>\n",
       "    </tr>\n",
       "  </tbody>\n",
       "</table>\n",
       "</div>"
      ],
      "text/plain": [
       "  enrollee_id     city  city_development_index gender     relevent_experience  \\\n",
       "0       16548  city_33                   0.448    NaN  No relevent experience   \n",
       "1       12036  city_28                   0.939   Male  No relevent experience   \n",
       "\n",
       "  enrolled_university education_level major_discipline experience  \\\n",
       "0    Full time course        Graduate             STEM         <1   \n",
       "1       no_enrollment        Graduate             STEM        >20   \n",
       "\n",
       "  company_size   company_type last_new_job  training_hours  \n",
       "0    1000-4999  Public Sector          NaN              15  \n",
       "1        50-99        Pvt Ltd            1              94  "
      ]
     },
     "execution_count": 184,
     "metadata": {},
     "output_type": "execute_result"
    }
   ],
   "source": [
    "train = pd.read_csv(f'{path}/input/train_jqd04QH.csv',dtype = {'enrollee_id':str})\n",
    "test = pd.read_csv(f'{path}/input/test_KaymcHn.csv',dtype = {'enrollee_id':str})\n",
    "\n",
    "f'train dimensions are : {train.shape}'\n",
    "f'test dimensions are : {test.shape}'\n",
    "\n",
    "train.head(2)\n",
    "test.head(2)\n"
   ]
  },
  {
   "cell_type": "code",
   "execution_count": 185,
   "metadata": {},
   "outputs": [],
   "source": [
    "def data_info(df = train):\n",
    "    df_info = pd.DataFrame(df.isna().sum(),columns = ['Null_count'])\n",
    "    df_info['Non_Null_count'] = df_info.index.map(df.notna().sum())\n",
    "    df_info['N_unique'] = df_info.index.map(df.nunique())\n",
    "    df_info['D_types'] = df_info.index.map(df.dtypes)\n",
    "    df_info['Blank_count'] = df_info.index.map((df=='').sum())\n",
    "    return df_info"
   ]
  },
  {
   "cell_type": "code",
   "execution_count": 186,
   "metadata": {},
   "outputs": [
    {
     "data": {
      "text/html": [
       "<div>\n",
       "<style scoped>\n",
       "    .dataframe tbody tr th:only-of-type {\n",
       "        vertical-align: middle;\n",
       "    }\n",
       "\n",
       "    .dataframe tbody tr th {\n",
       "        vertical-align: top;\n",
       "    }\n",
       "\n",
       "    .dataframe thead th {\n",
       "        text-align: right;\n",
       "    }\n",
       "</style>\n",
       "<table border=\"1\" class=\"dataframe\">\n",
       "  <thead>\n",
       "    <tr style=\"text-align: right;\">\n",
       "      <th></th>\n",
       "      <th>Null_count</th>\n",
       "      <th>Non_Null_count</th>\n",
       "      <th>N_unique</th>\n",
       "      <th>D_types</th>\n",
       "      <th>Blank_count</th>\n",
       "    </tr>\n",
       "  </thead>\n",
       "  <tbody>\n",
       "    <tr>\n",
       "      <th>enrollee_id</th>\n",
       "      <td>0</td>\n",
       "      <td>18359</td>\n",
       "      <td>18359</td>\n",
       "      <td>object</td>\n",
       "      <td>0</td>\n",
       "    </tr>\n",
       "    <tr>\n",
       "      <th>city</th>\n",
       "      <td>0</td>\n",
       "      <td>18359</td>\n",
       "      <td>123</td>\n",
       "      <td>object</td>\n",
       "      <td>0</td>\n",
       "    </tr>\n",
       "    <tr>\n",
       "      <th>city_development_index</th>\n",
       "      <td>0</td>\n",
       "      <td>18359</td>\n",
       "      <td>93</td>\n",
       "      <td>float64</td>\n",
       "      <td>0</td>\n",
       "    </tr>\n",
       "    <tr>\n",
       "      <th>gender</th>\n",
       "      <td>4098</td>\n",
       "      <td>14261</td>\n",
       "      <td>3</td>\n",
       "      <td>object</td>\n",
       "      <td>0</td>\n",
       "    </tr>\n",
       "    <tr>\n",
       "      <th>relevent_experience</th>\n",
       "      <td>0</td>\n",
       "      <td>18359</td>\n",
       "      <td>2</td>\n",
       "      <td>object</td>\n",
       "      <td>0</td>\n",
       "    </tr>\n",
       "    <tr>\n",
       "      <th>enrolled_university</th>\n",
       "      <td>342</td>\n",
       "      <td>18017</td>\n",
       "      <td>3</td>\n",
       "      <td>object</td>\n",
       "      <td>0</td>\n",
       "    </tr>\n",
       "    <tr>\n",
       "      <th>education_level</th>\n",
       "      <td>457</td>\n",
       "      <td>17902</td>\n",
       "      <td>5</td>\n",
       "      <td>object</td>\n",
       "      <td>0</td>\n",
       "    </tr>\n",
       "    <tr>\n",
       "      <th>major_discipline</th>\n",
       "      <td>2838</td>\n",
       "      <td>15521</td>\n",
       "      <td>6</td>\n",
       "      <td>object</td>\n",
       "      <td>0</td>\n",
       "    </tr>\n",
       "    <tr>\n",
       "      <th>experience</th>\n",
       "      <td>59</td>\n",
       "      <td>18300</td>\n",
       "      <td>22</td>\n",
       "      <td>object</td>\n",
       "      <td>0</td>\n",
       "    </tr>\n",
       "    <tr>\n",
       "      <th>company_size</th>\n",
       "      <td>4779</td>\n",
       "      <td>13580</td>\n",
       "      <td>8</td>\n",
       "      <td>object</td>\n",
       "      <td>0</td>\n",
       "    </tr>\n",
       "    <tr>\n",
       "      <th>company_type</th>\n",
       "      <td>5039</td>\n",
       "      <td>13320</td>\n",
       "      <td>6</td>\n",
       "      <td>object</td>\n",
       "      <td>0</td>\n",
       "    </tr>\n",
       "    <tr>\n",
       "      <th>last_new_job</th>\n",
       "      <td>367</td>\n",
       "      <td>17992</td>\n",
       "      <td>6</td>\n",
       "      <td>object</td>\n",
       "      <td>0</td>\n",
       "    </tr>\n",
       "    <tr>\n",
       "      <th>training_hours</th>\n",
       "      <td>0</td>\n",
       "      <td>18359</td>\n",
       "      <td>241</td>\n",
       "      <td>int64</td>\n",
       "      <td>0</td>\n",
       "    </tr>\n",
       "    <tr>\n",
       "      <th>target</th>\n",
       "      <td>0</td>\n",
       "      <td>18359</td>\n",
       "      <td>2</td>\n",
       "      <td>int64</td>\n",
       "      <td>0</td>\n",
       "    </tr>\n",
       "  </tbody>\n",
       "</table>\n",
       "</div>"
      ],
      "text/plain": [
       "                        Null_count  Non_Null_count  N_unique  D_types  \\\n",
       "enrollee_id                      0           18359     18359   object   \n",
       "city                             0           18359       123   object   \n",
       "city_development_index           0           18359        93  float64   \n",
       "gender                        4098           14261         3   object   \n",
       "relevent_experience              0           18359         2   object   \n",
       "enrolled_university            342           18017         3   object   \n",
       "education_level                457           17902         5   object   \n",
       "major_discipline              2838           15521         6   object   \n",
       "experience                      59           18300        22   object   \n",
       "company_size                  4779           13580         8   object   \n",
       "company_type                  5039           13320         6   object   \n",
       "last_new_job                   367           17992         6   object   \n",
       "training_hours                   0           18359       241    int64   \n",
       "target                           0           18359         2    int64   \n",
       "\n",
       "                        Blank_count  \n",
       "enrollee_id                       0  \n",
       "city                              0  \n",
       "city_development_index            0  \n",
       "gender                            0  \n",
       "relevent_experience               0  \n",
       "enrolled_university               0  \n",
       "education_level                   0  \n",
       "major_discipline                  0  \n",
       "experience                        0  \n",
       "company_size                      0  \n",
       "company_type                      0  \n",
       "last_new_job                      0  \n",
       "training_hours                    0  \n",
       "target                            0  "
      ]
     },
     "execution_count": 186,
     "metadata": {},
     "output_type": "execute_result"
    }
   ],
   "source": [
    "data_info(train)"
   ]
  },
  {
   "cell_type": "code",
   "execution_count": 187,
   "metadata": {},
   "outputs": [
    {
     "data": {
      "text/html": [
       "<div>\n",
       "<style scoped>\n",
       "    .dataframe tbody tr th:only-of-type {\n",
       "        vertical-align: middle;\n",
       "    }\n",
       "\n",
       "    .dataframe tbody tr th {\n",
       "        vertical-align: top;\n",
       "    }\n",
       "\n",
       "    .dataframe thead th {\n",
       "        text-align: right;\n",
       "    }\n",
       "</style>\n",
       "<table border=\"1\" class=\"dataframe\">\n",
       "  <thead>\n",
       "    <tr style=\"text-align: right;\">\n",
       "      <th></th>\n",
       "      <th>enrollee_id</th>\n",
       "      <th>city</th>\n",
       "      <th>city_development_index</th>\n",
       "      <th>gender</th>\n",
       "      <th>relevent_experience</th>\n",
       "      <th>enrolled_university</th>\n",
       "      <th>education_level</th>\n",
       "      <th>major_discipline</th>\n",
       "      <th>experience</th>\n",
       "      <th>company_size</th>\n",
       "      <th>company_type</th>\n",
       "      <th>last_new_job</th>\n",
       "      <th>training_hours</th>\n",
       "      <th>target</th>\n",
       "    </tr>\n",
       "  </thead>\n",
       "  <tbody>\n",
       "    <tr>\n",
       "      <th>count</th>\n",
       "      <td>18359</td>\n",
       "      <td>18359</td>\n",
       "      <td>18359.000000</td>\n",
       "      <td>14261</td>\n",
       "      <td>18359</td>\n",
       "      <td>18017</td>\n",
       "      <td>17902</td>\n",
       "      <td>15521</td>\n",
       "      <td>18300</td>\n",
       "      <td>13580</td>\n",
       "      <td>13320</td>\n",
       "      <td>17992</td>\n",
       "      <td>18359.000000</td>\n",
       "      <td>18359.000000</td>\n",
       "    </tr>\n",
       "    <tr>\n",
       "      <th>unique</th>\n",
       "      <td>18359</td>\n",
       "      <td>123</td>\n",
       "      <td>NaN</td>\n",
       "      <td>3</td>\n",
       "      <td>2</td>\n",
       "      <td>3</td>\n",
       "      <td>5</td>\n",
       "      <td>6</td>\n",
       "      <td>22</td>\n",
       "      <td>8</td>\n",
       "      <td>6</td>\n",
       "      <td>6</td>\n",
       "      <td>NaN</td>\n",
       "      <td>NaN</td>\n",
       "    </tr>\n",
       "    <tr>\n",
       "      <th>top</th>\n",
       "      <td>29280</td>\n",
       "      <td>city_103</td>\n",
       "      <td>NaN</td>\n",
       "      <td>Male</td>\n",
       "      <td>Has relevent experience</td>\n",
       "      <td>no_enrollment</td>\n",
       "      <td>Graduate</td>\n",
       "      <td>STEM</td>\n",
       "      <td>&gt;20</td>\n",
       "      <td>50-99</td>\n",
       "      <td>Pvt Ltd</td>\n",
       "      <td>1</td>\n",
       "      <td>NaN</td>\n",
       "      <td>NaN</td>\n",
       "    </tr>\n",
       "    <tr>\n",
       "      <th>freq</th>\n",
       "      <td>1</td>\n",
       "      <td>4358</td>\n",
       "      <td>NaN</td>\n",
       "      <td>12884</td>\n",
       "      <td>13596</td>\n",
       "      <td>13659</td>\n",
       "      <td>10769</td>\n",
       "      <td>13738</td>\n",
       "      <td>3437</td>\n",
       "      <td>3120</td>\n",
       "      <td>10051</td>\n",
       "      <td>7567</td>\n",
       "      <td>NaN</td>\n",
       "      <td>NaN</td>\n",
       "    </tr>\n",
       "    <tr>\n",
       "      <th>mean</th>\n",
       "      <td>NaN</td>\n",
       "      <td>NaN</td>\n",
       "      <td>0.847140</td>\n",
       "      <td>NaN</td>\n",
       "      <td>NaN</td>\n",
       "      <td>NaN</td>\n",
       "      <td>NaN</td>\n",
       "      <td>NaN</td>\n",
       "      <td>NaN</td>\n",
       "      <td>NaN</td>\n",
       "      <td>NaN</td>\n",
       "      <td>NaN</td>\n",
       "      <td>65.899014</td>\n",
       "      <td>0.132088</td>\n",
       "    </tr>\n",
       "    <tr>\n",
       "      <th>std</th>\n",
       "      <td>NaN</td>\n",
       "      <td>NaN</td>\n",
       "      <td>0.110189</td>\n",
       "      <td>NaN</td>\n",
       "      <td>NaN</td>\n",
       "      <td>NaN</td>\n",
       "      <td>NaN</td>\n",
       "      <td>NaN</td>\n",
       "      <td>NaN</td>\n",
       "      <td>NaN</td>\n",
       "      <td>NaN</td>\n",
       "      <td>NaN</td>\n",
       "      <td>60.885300</td>\n",
       "      <td>0.338595</td>\n",
       "    </tr>\n",
       "    <tr>\n",
       "      <th>min</th>\n",
       "      <td>NaN</td>\n",
       "      <td>NaN</td>\n",
       "      <td>0.448000</td>\n",
       "      <td>NaN</td>\n",
       "      <td>NaN</td>\n",
       "      <td>NaN</td>\n",
       "      <td>NaN</td>\n",
       "      <td>NaN</td>\n",
       "      <td>NaN</td>\n",
       "      <td>NaN</td>\n",
       "      <td>NaN</td>\n",
       "      <td>NaN</td>\n",
       "      <td>1.000000</td>\n",
       "      <td>0.000000</td>\n",
       "    </tr>\n",
       "    <tr>\n",
       "      <th>25%</th>\n",
       "      <td>NaN</td>\n",
       "      <td>NaN</td>\n",
       "      <td>0.796000</td>\n",
       "      <td>NaN</td>\n",
       "      <td>NaN</td>\n",
       "      <td>NaN</td>\n",
       "      <td>NaN</td>\n",
       "      <td>NaN</td>\n",
       "      <td>NaN</td>\n",
       "      <td>NaN</td>\n",
       "      <td>NaN</td>\n",
       "      <td>NaN</td>\n",
       "      <td>23.000000</td>\n",
       "      <td>0.000000</td>\n",
       "    </tr>\n",
       "    <tr>\n",
       "      <th>50%</th>\n",
       "      <td>NaN</td>\n",
       "      <td>NaN</td>\n",
       "      <td>0.910000</td>\n",
       "      <td>NaN</td>\n",
       "      <td>NaN</td>\n",
       "      <td>NaN</td>\n",
       "      <td>NaN</td>\n",
       "      <td>NaN</td>\n",
       "      <td>NaN</td>\n",
       "      <td>NaN</td>\n",
       "      <td>NaN</td>\n",
       "      <td>NaN</td>\n",
       "      <td>47.000000</td>\n",
       "      <td>0.000000</td>\n",
       "    </tr>\n",
       "    <tr>\n",
       "      <th>75%</th>\n",
       "      <td>NaN</td>\n",
       "      <td>NaN</td>\n",
       "      <td>0.920000</td>\n",
       "      <td>NaN</td>\n",
       "      <td>NaN</td>\n",
       "      <td>NaN</td>\n",
       "      <td>NaN</td>\n",
       "      <td>NaN</td>\n",
       "      <td>NaN</td>\n",
       "      <td>NaN</td>\n",
       "      <td>NaN</td>\n",
       "      <td>NaN</td>\n",
       "      <td>89.000000</td>\n",
       "      <td>0.000000</td>\n",
       "    </tr>\n",
       "    <tr>\n",
       "      <th>max</th>\n",
       "      <td>NaN</td>\n",
       "      <td>NaN</td>\n",
       "      <td>0.949000</td>\n",
       "      <td>NaN</td>\n",
       "      <td>NaN</td>\n",
       "      <td>NaN</td>\n",
       "      <td>NaN</td>\n",
       "      <td>NaN</td>\n",
       "      <td>NaN</td>\n",
       "      <td>NaN</td>\n",
       "      <td>NaN</td>\n",
       "      <td>NaN</td>\n",
       "      <td>336.000000</td>\n",
       "      <td>1.000000</td>\n",
       "    </tr>\n",
       "  </tbody>\n",
       "</table>\n",
       "</div>"
      ],
      "text/plain": [
       "       enrollee_id      city  city_development_index gender  \\\n",
       "count        18359     18359            18359.000000  14261   \n",
       "unique       18359       123                     NaN      3   \n",
       "top          29280  city_103                     NaN   Male   \n",
       "freq             1      4358                     NaN  12884   \n",
       "mean           NaN       NaN                0.847140    NaN   \n",
       "std            NaN       NaN                0.110189    NaN   \n",
       "min            NaN       NaN                0.448000    NaN   \n",
       "25%            NaN       NaN                0.796000    NaN   \n",
       "50%            NaN       NaN                0.910000    NaN   \n",
       "75%            NaN       NaN                0.920000    NaN   \n",
       "max            NaN       NaN                0.949000    NaN   \n",
       "\n",
       "            relevent_experience enrolled_university education_level  \\\n",
       "count                     18359               18017           17902   \n",
       "unique                        2                   3               5   \n",
       "top     Has relevent experience       no_enrollment        Graduate   \n",
       "freq                      13596               13659           10769   \n",
       "mean                        NaN                 NaN             NaN   \n",
       "std                         NaN                 NaN             NaN   \n",
       "min                         NaN                 NaN             NaN   \n",
       "25%                         NaN                 NaN             NaN   \n",
       "50%                         NaN                 NaN             NaN   \n",
       "75%                         NaN                 NaN             NaN   \n",
       "max                         NaN                 NaN             NaN   \n",
       "\n",
       "       major_discipline experience company_size company_type last_new_job  \\\n",
       "count             15521      18300        13580        13320        17992   \n",
       "unique                6         22            8            6            6   \n",
       "top                STEM        >20        50-99      Pvt Ltd            1   \n",
       "freq              13738       3437         3120        10051         7567   \n",
       "mean                NaN        NaN          NaN          NaN          NaN   \n",
       "std                 NaN        NaN          NaN          NaN          NaN   \n",
       "min                 NaN        NaN          NaN          NaN          NaN   \n",
       "25%                 NaN        NaN          NaN          NaN          NaN   \n",
       "50%                 NaN        NaN          NaN          NaN          NaN   \n",
       "75%                 NaN        NaN          NaN          NaN          NaN   \n",
       "max                 NaN        NaN          NaN          NaN          NaN   \n",
       "\n",
       "        training_hours        target  \n",
       "count     18359.000000  18359.000000  \n",
       "unique             NaN           NaN  \n",
       "top                NaN           NaN  \n",
       "freq               NaN           NaN  \n",
       "mean         65.899014      0.132088  \n",
       "std          60.885300      0.338595  \n",
       "min           1.000000      0.000000  \n",
       "25%          23.000000      0.000000  \n",
       "50%          47.000000      0.000000  \n",
       "75%          89.000000      0.000000  \n",
       "max         336.000000      1.000000  "
      ]
     },
     "execution_count": 187,
     "metadata": {},
     "output_type": "execute_result"
    }
   ],
   "source": [
    "train.describe(include = 'all')"
   ]
  },
  {
   "cell_type": "markdown",
   "metadata": {},
   "source": [
    "### checking event rate "
   ]
  },
  {
   "cell_type": "code",
   "execution_count": 188,
   "metadata": {},
   "outputs": [
    {
     "data": {
      "text/plain": [
       "Counter({0: 15934, 1: 2425})"
      ]
     },
     "execution_count": 188,
     "metadata": {},
     "output_type": "execute_result"
    },
    {
     "data": {
      "text/plain": [
       "0    0.867912\n",
       "1    0.132088\n",
       "Name: target, dtype: float64"
      ]
     },
     "execution_count": 188,
     "metadata": {},
     "output_type": "execute_result"
    }
   ],
   "source": [
    "from collections import Counter\n",
    "Counter(train.target)\n",
    "train.target.value_counts(normalize=True) # works for numeric columns too with arguement `bins`\n",
    "#train.city_development_index.value_counts(bins =6)"
   ]
  },
  {
   "cell_type": "markdown",
   "metadata": {},
   "source": [
    "### treating null values"
   ]
  },
  {
   "cell_type": "code",
   "execution_count": 189,
   "metadata": {
    "scrolled": true
   },
   "outputs": [
    {
     "data": {
      "text/plain": [
       "Male      12884\n",
       "NaN        4098\n",
       "Female     1188\n",
       "Other       189\n",
       "Name: gender, dtype: int64"
      ]
     },
     "execution_count": 189,
     "metadata": {},
     "output_type": "execute_result"
    }
   ],
   "source": [
    "var = 'gender'\n",
    "#f'count of NULLs in {var} : {train[[var]].isna().sum()[0]}'\n",
    "train[var].value_counts(dropna = False)"
   ]
  },
  {
   "cell_type": "code",
   "execution_count": 190,
   "metadata": {},
   "outputs": [
    {
     "data": {
      "text/plain": [
       "Text(0.5, 1.0, 'Count Plot of gender')"
      ]
     },
     "execution_count": 190,
     "metadata": {},
     "output_type": "execute_result"
    },
    {
     "data": {
      "text/html": [
       "<div>\n",
       "<style scoped>\n",
       "    .dataframe tbody tr th:only-of-type {\n",
       "        vertical-align: middle;\n",
       "    }\n",
       "\n",
       "    .dataframe tbody tr th {\n",
       "        vertical-align: top;\n",
       "    }\n",
       "\n",
       "    .dataframe thead th {\n",
       "        text-align: right;\n",
       "    }\n",
       "</style>\n",
       "<table border=\"1\" class=\"dataframe\">\n",
       "  <thead>\n",
       "    <tr style=\"text-align: right;\">\n",
       "      <th>target</th>\n",
       "      <th>0</th>\n",
       "      <th>1</th>\n",
       "    </tr>\n",
       "    <tr>\n",
       "      <th>gender</th>\n",
       "      <th></th>\n",
       "      <th></th>\n",
       "    </tr>\n",
       "  </thead>\n",
       "  <tbody>\n",
       "    <tr>\n",
       "      <th>Female</th>\n",
       "      <td>0.849327</td>\n",
       "      <td>0.150673</td>\n",
       "    </tr>\n",
       "    <tr>\n",
       "      <th>Male</th>\n",
       "      <td>0.877523</td>\n",
       "      <td>0.122477</td>\n",
       "    </tr>\n",
       "    <tr>\n",
       "      <th>Other</th>\n",
       "      <td>0.846561</td>\n",
       "      <td>0.153439</td>\n",
       "    </tr>\n",
       "    <tr>\n",
       "      <th>All</th>\n",
       "      <td>0.874763</td>\n",
       "      <td>0.125237</td>\n",
       "    </tr>\n",
       "  </tbody>\n",
       "</table>\n",
       "</div>"
      ],
      "text/plain": [
       "target         0         1\n",
       "gender                    \n",
       "Female  0.849327  0.150673\n",
       "Male    0.877523  0.122477\n",
       "Other   0.846561  0.153439\n",
       "All     0.874763  0.125237"
      ]
     },
     "execution_count": 190,
     "metadata": {},
     "output_type": "execute_result"
    },
    {
     "data": {
      "image/png": "[encoded data removed]",
      "text/plain": [
       "<Figure size 432x288 with 1 Axes>"
      ]
     },
     "metadata": {},
     "output_type": "display_data"
    }
   ],
   "source": [
    "sns.countplot(x= var,hue='target', data = train).set_title(f'Count Plot of {var}');\n",
    "pd.crosstab(index = train[var], columns = train.target,margins = True,normalize='index',)"
   ]
  },
  {
   "cell_type": "code",
   "execution_count": 191,
   "metadata": {},
   "outputs": [],
   "source": [
    "#creating a label 'missing' as the null count is very high \n",
    "train[var].fillna('missing',inplace=True)\n",
    "test[var].fillna('missing',inplace=True)"
   ]
  },
  {
   "cell_type": "code",
   "execution_count": 192,
   "metadata": {},
   "outputs": [],
   "source": [
    "#http://sphweb.bumc.bu.edu/otlt/MPH-Modules/BS/DataPresentation/DataPresentation7.html"
   ]
  },
  {
   "cell_type": "code",
   "execution_count": null,
   "metadata": {},
   "outputs": [],
   "source": []
  },
  {
   "cell_type": "code",
   "execution_count": 193,
   "metadata": {
    "scrolled": false
   },
   "outputs": [
    {
     "data": {
      "text/plain": [
       "no_enrollment       13659\n",
       "Full time course     3187\n",
       "Part time course     1171\n",
       "NaN                   342\n",
       "Name: enrolled_university, dtype: int64"
      ]
     },
     "execution_count": 193,
     "metadata": {},
     "output_type": "execute_result"
    }
   ],
   "source": [
    "#enrolled_university  --  Type of University course enrolled if any\n",
    "var = 'enrolled_university'\n",
    "#f'count of NULLs in {var} : {train[[var]].isna().sum()[0]}'\n",
    "train[var].value_counts(dropna = False)"
   ]
  },
  {
   "cell_type": "code",
   "execution_count": 194,
   "metadata": {},
   "outputs": [
    {
     "data": {
      "text/plain": [
       "Text(0.5, 1.0, 'Count Plot of enrolled_university')"
      ]
     },
     "execution_count": 194,
     "metadata": {},
     "output_type": "execute_result"
    },
    {
     "data": {
      "text/html": [
       "<div>\n",
       "<style scoped>\n",
       "    .dataframe tbody tr th:only-of-type {\n",
       "        vertical-align: middle;\n",
       "    }\n",
       "\n",
       "    .dataframe tbody tr th {\n",
       "        vertical-align: top;\n",
       "    }\n",
       "\n",
       "    .dataframe thead th {\n",
       "        text-align: right;\n",
       "    }\n",
       "</style>\n",
       "<table border=\"1\" class=\"dataframe\">\n",
       "  <thead>\n",
       "    <tr style=\"text-align: right;\">\n",
       "      <th>target</th>\n",
       "      <th>0</th>\n",
       "      <th>1</th>\n",
       "    </tr>\n",
       "    <tr>\n",
       "      <th>enrolled_university</th>\n",
       "      <th></th>\n",
       "      <th></th>\n",
       "    </tr>\n",
       "  </thead>\n",
       "  <tbody>\n",
       "    <tr>\n",
       "      <th>Full time course</th>\n",
       "      <td>0.809539</td>\n",
       "      <td>0.190461</td>\n",
       "    </tr>\n",
       "    <tr>\n",
       "      <th>Part time course</th>\n",
       "      <td>0.851409</td>\n",
       "      <td>0.148591</td>\n",
       "    </tr>\n",
       "    <tr>\n",
       "      <th>no_enrollment</th>\n",
       "      <td>0.883740</td>\n",
       "      <td>0.116260</td>\n",
       "    </tr>\n",
       "    <tr>\n",
       "      <th>All</th>\n",
       "      <td>0.868513</td>\n",
       "      <td>0.131487</td>\n",
       "    </tr>\n",
       "  </tbody>\n",
       "</table>\n",
       "</div>"
      ],
      "text/plain": [
       "target                      0         1\n",
       "enrolled_university                    \n",
       "Full time course     0.809539  0.190461\n",
       "Part time course     0.851409  0.148591\n",
       "no_enrollment        0.883740  0.116260\n",
       "All                  0.868513  0.131487"
      ]
     },
     "execution_count": 194,
     "metadata": {},
     "output_type": "execute_result"
    },
    {
     "data": {
      "image/png": "[encoded data removed]",
      "text/plain": [
       "<Figure size 432x288 with 1 Axes>"
      ]
     },
     "metadata": {},
     "output_type": "display_data"
    }
   ],
   "source": [
    "sns.countplot(x=var,hue='target', data = train).set_title(f'Count Plot of {var}');\n",
    "pd.crosstab(index = train[var], columns = train.target,margins = True,normalize='index',)"
   ]
  },
  {
   "cell_type": "code",
   "execution_count": 195,
   "metadata": {},
   "outputs": [],
   "source": [
    "#replacing NULLs with modes\n",
    "x = train[var].mode()[0]\n",
    "train[var].fillna(x,inplace=True)\n",
    "test[var].fillna(x,inplace=True)"
   ]
  },
  {
   "cell_type": "code",
   "execution_count": null,
   "metadata": {},
   "outputs": [],
   "source": []
  },
  {
   "cell_type": "code",
   "execution_count": 196,
   "metadata": {
    "scrolled": false
   },
   "outputs": [
    {
     "data": {
      "text/plain": [
       "Graduate          0.586579\n",
       "Masters           0.235252\n",
       "High School       0.110681\n",
       "Phd               0.025001\n",
       "NaN               0.024892\n",
       "Primary School    0.017594\n",
       "Name: education_level, dtype: float64"
      ]
     },
     "execution_count": 196,
     "metadata": {},
     "output_type": "execute_result"
    }
   ],
   "source": [
    "#enrolled_university  --  Type of University course enrolled if any\n",
    "var = 'education_level'\n",
    "train[var].value_counts(dropna=False,normalize=True)"
   ]
  },
  {
   "cell_type": "code",
   "execution_count": 197,
   "metadata": {},
   "outputs": [
    {
     "data": {
      "text/plain": [
       "Text(0.5, 1.0, 'Count Plot of education_level')"
      ]
     },
     "execution_count": 197,
     "metadata": {},
     "output_type": "execute_result"
    },
    {
     "data": {
      "text/html": [
       "<div>\n",
       "<style scoped>\n",
       "    .dataframe tbody tr th:only-of-type {\n",
       "        vertical-align: middle;\n",
       "    }\n",
       "\n",
       "    .dataframe tbody tr th {\n",
       "        vertical-align: top;\n",
       "    }\n",
       "\n",
       "    .dataframe thead th {\n",
       "        text-align: right;\n",
       "    }\n",
       "</style>\n",
       "<table border=\"1\" class=\"dataframe\">\n",
       "  <thead>\n",
       "    <tr style=\"text-align: right;\">\n",
       "      <th>target</th>\n",
       "      <th>0</th>\n",
       "      <th>1</th>\n",
       "      <th>All</th>\n",
       "    </tr>\n",
       "    <tr>\n",
       "      <th>education_level</th>\n",
       "      <th></th>\n",
       "      <th></th>\n",
       "      <th></th>\n",
       "    </tr>\n",
       "  </thead>\n",
       "  <tbody>\n",
       "    <tr>\n",
       "      <th>Graduate</th>\n",
       "      <td>9237</td>\n",
       "      <td>1532</td>\n",
       "      <td>10769</td>\n",
       "    </tr>\n",
       "    <tr>\n",
       "      <th>High School</th>\n",
       "      <td>1791</td>\n",
       "      <td>241</td>\n",
       "      <td>2032</td>\n",
       "    </tr>\n",
       "    <tr>\n",
       "      <th>Masters</th>\n",
       "      <td>3806</td>\n",
       "      <td>513</td>\n",
       "      <td>4319</td>\n",
       "    </tr>\n",
       "    <tr>\n",
       "      <th>Phd</th>\n",
       "      <td>406</td>\n",
       "      <td>53</td>\n",
       "      <td>459</td>\n",
       "    </tr>\n",
       "    <tr>\n",
       "      <th>Primary School</th>\n",
       "      <td>298</td>\n",
       "      <td>25</td>\n",
       "      <td>323</td>\n",
       "    </tr>\n",
       "    <tr>\n",
       "      <th>All</th>\n",
       "      <td>15538</td>\n",
       "      <td>2364</td>\n",
       "      <td>17902</td>\n",
       "    </tr>\n",
       "  </tbody>\n",
       "</table>\n",
       "</div>"
      ],
      "text/plain": [
       "target               0     1    All\n",
       "education_level                    \n",
       "Graduate          9237  1532  10769\n",
       "High School       1791   241   2032\n",
       "Masters           3806   513   4319\n",
       "Phd                406    53    459\n",
       "Primary School     298    25    323\n",
       "All              15538  2364  17902"
      ]
     },
     "execution_count": 197,
     "metadata": {},
     "output_type": "execute_result"
    },
    {
     "data": {
      "image/png": "[encoded data removed]",
      "text/plain": [
       "<Figure size 432x288 with 1 Axes>"
      ]
     },
     "metadata": {},
     "output_type": "display_data"
    }
   ],
   "source": [
    "sns.countplot(x=var,hue='target', data = train).set_title(f'Count Plot of {var}');\n",
    "pd.crosstab(index = train[var], columns = train.target,margins = True)#,normalize='index',)"
   ]
  },
  {
   "cell_type": "code",
   "execution_count": 198,
   "metadata": {},
   "outputs": [],
   "source": [
    "#replacing NULLs with modes\n",
    "train[var].fillna('missing',inplace=True)\n",
    "test[var].fillna('missing',inplace=True)"
   ]
  },
  {
   "cell_type": "code",
   "execution_count": null,
   "metadata": {},
   "outputs": [],
   "source": []
  },
  {
   "cell_type": "code",
   "execution_count": 199,
   "metadata": {
    "scrolled": false
   },
   "outputs": [
    {
     "data": {
      "text/plain": [
       "STEM               0.748298\n",
       "NaN                0.154584\n",
       "Humanities         0.037475\n",
       "Other              0.018683\n",
       "Business Degree    0.016722\n",
       "Arts               0.013018\n",
       "No Major           0.011221\n",
       "Name: major_discipline, dtype: float64"
      ]
     },
     "execution_count": 199,
     "metadata": {},
     "output_type": "execute_result"
    }
   ],
   "source": [
    "#enrolled_university  --  Type of University course enrolled if any\n",
    "var = 'major_discipline'\n",
    "train[var].value_counts(dropna=False,normalize=True)"
   ]
  },
  {
   "cell_type": "code",
   "execution_count": 200,
   "metadata": {},
   "outputs": [
    {
     "data": {
      "text/plain": [
       "Text(0.5, 1.0, 'Count Plot of major_discipline')"
      ]
     },
     "execution_count": 200,
     "metadata": {},
     "output_type": "execute_result"
    },
    {
     "data": {
      "text/html": [
       "<div>\n",
       "<style scoped>\n",
       "    .dataframe tbody tr th:only-of-type {\n",
       "        vertical-align: middle;\n",
       "    }\n",
       "\n",
       "    .dataframe tbody tr th {\n",
       "        vertical-align: top;\n",
       "    }\n",
       "\n",
       "    .dataframe thead th {\n",
       "        text-align: right;\n",
       "    }\n",
       "</style>\n",
       "<table border=\"1\" class=\"dataframe\">\n",
       "  <thead>\n",
       "    <tr style=\"text-align: right;\">\n",
       "      <th>target</th>\n",
       "      <th>0</th>\n",
       "      <th>1</th>\n",
       "      <th>All</th>\n",
       "    </tr>\n",
       "    <tr>\n",
       "      <th>major_discipline</th>\n",
       "      <th></th>\n",
       "      <th></th>\n",
       "      <th></th>\n",
       "    </tr>\n",
       "  </thead>\n",
       "  <tbody>\n",
       "    <tr>\n",
       "      <th>Arts</th>\n",
       "      <td>214</td>\n",
       "      <td>25</td>\n",
       "      <td>239</td>\n",
       "    </tr>\n",
       "    <tr>\n",
       "      <th>Business Degree</th>\n",
       "      <td>268</td>\n",
       "      <td>39</td>\n",
       "      <td>307</td>\n",
       "    </tr>\n",
       "    <tr>\n",
       "      <th>Humanities</th>\n",
       "      <td>595</td>\n",
       "      <td>93</td>\n",
       "      <td>688</td>\n",
       "    </tr>\n",
       "    <tr>\n",
       "      <th>No Major</th>\n",
       "      <td>186</td>\n",
       "      <td>20</td>\n",
       "      <td>206</td>\n",
       "    </tr>\n",
       "    <tr>\n",
       "      <th>Other</th>\n",
       "      <td>306</td>\n",
       "      <td>37</td>\n",
       "      <td>343</td>\n",
       "    </tr>\n",
       "    <tr>\n",
       "      <th>STEM</th>\n",
       "      <td>11861</td>\n",
       "      <td>1877</td>\n",
       "      <td>13738</td>\n",
       "    </tr>\n",
       "    <tr>\n",
       "      <th>All</th>\n",
       "      <td>15934</td>\n",
       "      <td>2425</td>\n",
       "      <td>18359</td>\n",
       "    </tr>\n",
       "  </tbody>\n",
       "</table>\n",
       "</div>"
      ],
      "text/plain": [
       "target                0     1    All\n",
       "major_discipline                    \n",
       "Arts                214    25    239\n",
       "Business Degree     268    39    307\n",
       "Humanities          595    93    688\n",
       "No Major            186    20    206\n",
       "Other               306    37    343\n",
       "STEM              11861  1877  13738\n",
       "All               15934  2425  18359"
      ]
     },
     "execution_count": 200,
     "metadata": {},
     "output_type": "execute_result"
    },
    {
     "data": {
      "image/png": "[encoded data removed]",
      "text/plain": [
       "<Figure size 432x288 with 1 Axes>"
      ]
     },
     "metadata": {},
     "output_type": "display_data"
    }
   ],
   "source": [
    "sns.countplot(x=var,hue='target', data = train).set_title(f'Count Plot of {var}');\n",
    "pd.crosstab(index = train[var], columns = train.target,margins = True,dropna = False)#,normalize='index',)"
   ]
  },
  {
   "cell_type": "code",
   "execution_count": 201,
   "metadata": {},
   "outputs": [],
   "source": [
    "#replacing NULLs with modes\n",
    "train[var].fillna('missing',inplace=True)\n",
    "test[var].fillna('missing',inplace=True)"
   ]
  },
  {
   "cell_type": "code",
   "execution_count": null,
   "metadata": {},
   "outputs": [],
   "source": []
  },
  {
   "cell_type": "code",
   "execution_count": 202,
   "metadata": {},
   "outputs": [
    {
     "data": {
      "text/plain": [
       ">20    0.187211\n",
       "5      0.071300\n",
       "4      0.068086\n",
       "3      0.063130\n",
       "6      0.061278\n",
       "2      0.054033\n",
       "9      0.053325\n",
       "10     0.052672\n",
       "7      0.051746\n",
       "8      0.041124\n",
       "15     0.037856\n",
       "11     0.036331\n",
       "14     0.032790\n",
       "16     0.029904\n",
       "12     0.027071\n",
       "1      0.024620\n",
       "<1     0.022659\n",
       "13     0.022441\n",
       "17     0.018901\n",
       "19     0.016777\n",
       "18     0.015578\n",
       "20     0.007953\n",
       "NaN    0.003214\n",
       "Name: experience, dtype: float64"
      ]
     },
     "execution_count": 202,
     "metadata": {},
     "output_type": "execute_result"
    }
   ],
   "source": [
    "#enrolled_university  --  Type of University course enrolled if any\n",
    "var = 'experience'\n",
    "train[var].value_counts(dropna=False,normalize=True)"
   ]
  },
  {
   "cell_type": "code",
   "execution_count": 203,
   "metadata": {},
   "outputs": [
    {
     "data": {
      "text/plain": [
       "Text(0.5, 1.0, 'Count Plot of experience')"
      ]
     },
     "execution_count": 203,
     "metadata": {},
     "output_type": "execute_result"
    },
    {
     "data": {
      "text/html": [
       "<div>\n",
       "<style scoped>\n",
       "    .dataframe tbody tr th:only-of-type {\n",
       "        vertical-align: middle;\n",
       "    }\n",
       "\n",
       "    .dataframe tbody tr th {\n",
       "        vertical-align: top;\n",
       "    }\n",
       "\n",
       "    .dataframe thead th {\n",
       "        text-align: right;\n",
       "    }\n",
       "</style>\n",
       "<table border=\"1\" class=\"dataframe\">\n",
       "  <thead>\n",
       "    <tr style=\"text-align: right;\">\n",
       "      <th>target</th>\n",
       "      <th>0</th>\n",
       "      <th>1</th>\n",
       "    </tr>\n",
       "    <tr>\n",
       "      <th>experience</th>\n",
       "      <th></th>\n",
       "      <th></th>\n",
       "    </tr>\n",
       "  </thead>\n",
       "  <tbody>\n",
       "    <tr>\n",
       "      <th>1</th>\n",
       "      <td>0.761062</td>\n",
       "      <td>0.238938</td>\n",
       "    </tr>\n",
       "    <tr>\n",
       "      <th>10</th>\n",
       "      <td>0.875905</td>\n",
       "      <td>0.124095</td>\n",
       "    </tr>\n",
       "    <tr>\n",
       "      <th>11</th>\n",
       "      <td>0.875562</td>\n",
       "      <td>0.124438</td>\n",
       "    </tr>\n",
       "    <tr>\n",
       "      <th>12</th>\n",
       "      <td>0.895372</td>\n",
       "      <td>0.104628</td>\n",
       "    </tr>\n",
       "    <tr>\n",
       "      <th>13</th>\n",
       "      <td>0.883495</td>\n",
       "      <td>0.116505</td>\n",
       "    </tr>\n",
       "    <tr>\n",
       "      <th>14</th>\n",
       "      <td>0.875415</td>\n",
       "      <td>0.124585</td>\n",
       "    </tr>\n",
       "    <tr>\n",
       "      <th>15</th>\n",
       "      <td>0.889209</td>\n",
       "      <td>0.110791</td>\n",
       "    </tr>\n",
       "    <tr>\n",
       "      <th>16</th>\n",
       "      <td>0.896175</td>\n",
       "      <td>0.103825</td>\n",
       "    </tr>\n",
       "    <tr>\n",
       "      <th>17</th>\n",
       "      <td>0.902017</td>\n",
       "      <td>0.097983</td>\n",
       "    </tr>\n",
       "    <tr>\n",
       "      <th>18</th>\n",
       "      <td>0.909091</td>\n",
       "      <td>0.090909</td>\n",
       "    </tr>\n",
       "    <tr>\n",
       "      <th>19</th>\n",
       "      <td>0.892857</td>\n",
       "      <td>0.107143</td>\n",
       "    </tr>\n",
       "    <tr>\n",
       "      <th>2</th>\n",
       "      <td>0.827621</td>\n",
       "      <td>0.172379</td>\n",
       "    </tr>\n",
       "    <tr>\n",
       "      <th>20</th>\n",
       "      <td>0.890411</td>\n",
       "      <td>0.109589</td>\n",
       "    </tr>\n",
       "    <tr>\n",
       "      <th>3</th>\n",
       "      <td>0.835203</td>\n",
       "      <td>0.164797</td>\n",
       "    </tr>\n",
       "    <tr>\n",
       "      <th>4</th>\n",
       "      <td>0.831200</td>\n",
       "      <td>0.168800</td>\n",
       "    </tr>\n",
       "    <tr>\n",
       "      <th>5</th>\n",
       "      <td>0.859435</td>\n",
       "      <td>0.140565</td>\n",
       "    </tr>\n",
       "    <tr>\n",
       "      <th>6</th>\n",
       "      <td>0.864000</td>\n",
       "      <td>0.136000</td>\n",
       "    </tr>\n",
       "    <tr>\n",
       "      <th>7</th>\n",
       "      <td>0.853684</td>\n",
       "      <td>0.146316</td>\n",
       "    </tr>\n",
       "    <tr>\n",
       "      <th>8</th>\n",
       "      <td>0.886093</td>\n",
       "      <td>0.113907</td>\n",
       "    </tr>\n",
       "    <tr>\n",
       "      <th>9</th>\n",
       "      <td>0.879469</td>\n",
       "      <td>0.120531</td>\n",
       "    </tr>\n",
       "    <tr>\n",
       "      <th>&lt;1</th>\n",
       "      <td>0.757212</td>\n",
       "      <td>0.242788</td>\n",
       "    </tr>\n",
       "    <tr>\n",
       "      <th>&gt;20</th>\n",
       "      <td>0.903986</td>\n",
       "      <td>0.096014</td>\n",
       "    </tr>\n",
       "    <tr>\n",
       "      <th>All</th>\n",
       "      <td>0.867912</td>\n",
       "      <td>0.132088</td>\n",
       "    </tr>\n",
       "  </tbody>\n",
       "</table>\n",
       "</div>"
      ],
      "text/plain": [
       "target             0         1\n",
       "experience                    \n",
       "1           0.761062  0.238938\n",
       "10          0.875905  0.124095\n",
       "11          0.875562  0.124438\n",
       "12          0.895372  0.104628\n",
       "13          0.883495  0.116505\n",
       "14          0.875415  0.124585\n",
       "15          0.889209  0.110791\n",
       "16          0.896175  0.103825\n",
       "17          0.902017  0.097983\n",
       "18          0.909091  0.090909\n",
       "19          0.892857  0.107143\n",
       "2           0.827621  0.172379\n",
       "20          0.890411  0.109589\n",
       "3           0.835203  0.164797\n",
       "4           0.831200  0.168800\n",
       "5           0.859435  0.140565\n",
       "6           0.864000  0.136000\n",
       "7           0.853684  0.146316\n",
       "8           0.886093  0.113907\n",
       "9           0.879469  0.120531\n",
       "<1          0.757212  0.242788\n",
       ">20         0.903986  0.096014\n",
       "All         0.867912  0.132088"
      ]
     },
     "execution_count": 203,
     "metadata": {},
     "output_type": "execute_result"
    },
    {
     "data": {
      "image/png": "[encoded data removed]",
      "text/plain": [
       "<Figure size 432x288 with 1 Axes>"
      ]
     },
     "metadata": {},
     "output_type": "display_data"
    }
   ],
   "source": [
    "sns.countplot(x=var,hue='target', data = train).set_title(f'Count Plot of {var}');\n",
    "pd.crosstab(index = train[var], columns = train.target,margins = True,dropna = False,normalize='index',)"
   ]
  },
  {
   "cell_type": "code",
   "execution_count": 204,
   "metadata": {},
   "outputs": [],
   "source": [
    "#replacing NULLs with modes\n",
    "x = train[var].mode()[0]\n",
    "train[var].fillna(train[var].mode()[0],inplace=True)\n",
    "test[var].fillna(train[var].mode()[0],inplace=True)"
   ]
  },
  {
   "cell_type": "markdown",
   "metadata": {},
   "source": [
    "### on similar note imputing NAs for below variables"
   ]
  },
  {
   "cell_type": "code",
   "execution_count": 205,
   "metadata": {},
   "outputs": [],
   "source": [
    "x = train.last_new_job.mode()[0]\n",
    "train.fillna({'company_size' : 'missing', 'company_type' : 'missing',\\\n",
    "              'last_new_job' : x},inplace = True)\n",
    "\n",
    "test.fillna({'company_size' : 'missing', 'company_type' : 'missing', \\\n",
    "              'last_new_job' : x},inplace = True)"
   ]
  },
  {
   "cell_type": "code",
   "execution_count": 209,
   "metadata": {
    "scrolled": false
   },
   "outputs": [
    {
     "data": {
      "text/html": [
       "<div>\n",
       "<style scoped>\n",
       "    .dataframe tbody tr th:only-of-type {\n",
       "        vertical-align: middle;\n",
       "    }\n",
       "\n",
       "    .dataframe tbody tr th {\n",
       "        vertical-align: top;\n",
       "    }\n",
       "\n",
       "    .dataframe thead th {\n",
       "        text-align: right;\n",
       "    }\n",
       "</style>\n",
       "<table border=\"1\" class=\"dataframe\">\n",
       "  <thead>\n",
       "    <tr style=\"text-align: right;\">\n",
       "      <th></th>\n",
       "      <th>Null_count</th>\n",
       "      <th>Non_Null_count</th>\n",
       "      <th>N_unique</th>\n",
       "      <th>D_types</th>\n",
       "      <th>Blank_count</th>\n",
       "    </tr>\n",
       "  </thead>\n",
       "  <tbody>\n",
       "    <tr>\n",
       "      <th>enrollee_id</th>\n",
       "      <td>0</td>\n",
       "      <td>18359</td>\n",
       "      <td>18359</td>\n",
       "      <td>object</td>\n",
       "      <td>0</td>\n",
       "    </tr>\n",
       "    <tr>\n",
       "      <th>city</th>\n",
       "      <td>0</td>\n",
       "      <td>18359</td>\n",
       "      <td>123</td>\n",
       "      <td>object</td>\n",
       "      <td>0</td>\n",
       "    </tr>\n",
       "    <tr>\n",
       "      <th>city_development_index</th>\n",
       "      <td>0</td>\n",
       "      <td>18359</td>\n",
       "      <td>93</td>\n",
       "      <td>float64</td>\n",
       "      <td>0</td>\n",
       "    </tr>\n",
       "    <tr>\n",
       "      <th>gender</th>\n",
       "      <td>0</td>\n",
       "      <td>18359</td>\n",
       "      <td>4</td>\n",
       "      <td>object</td>\n",
       "      <td>0</td>\n",
       "    </tr>\n",
       "    <tr>\n",
       "      <th>relevent_experience</th>\n",
       "      <td>0</td>\n",
       "      <td>18359</td>\n",
       "      <td>2</td>\n",
       "      <td>object</td>\n",
       "      <td>0</td>\n",
       "    </tr>\n",
       "    <tr>\n",
       "      <th>enrolled_university</th>\n",
       "      <td>0</td>\n",
       "      <td>18359</td>\n",
       "      <td>3</td>\n",
       "      <td>object</td>\n",
       "      <td>0</td>\n",
       "    </tr>\n",
       "    <tr>\n",
       "      <th>education_level</th>\n",
       "      <td>0</td>\n",
       "      <td>18359</td>\n",
       "      <td>6</td>\n",
       "      <td>object</td>\n",
       "      <td>0</td>\n",
       "    </tr>\n",
       "    <tr>\n",
       "      <th>major_discipline</th>\n",
       "      <td>0</td>\n",
       "      <td>18359</td>\n",
       "      <td>7</td>\n",
       "      <td>object</td>\n",
       "      <td>0</td>\n",
       "    </tr>\n",
       "    <tr>\n",
       "      <th>experience</th>\n",
       "      <td>0</td>\n",
       "      <td>18359</td>\n",
       "      <td>22</td>\n",
       "      <td>object</td>\n",
       "      <td>0</td>\n",
       "    </tr>\n",
       "    <tr>\n",
       "      <th>company_size</th>\n",
       "      <td>0</td>\n",
       "      <td>18359</td>\n",
       "      <td>9</td>\n",
       "      <td>object</td>\n",
       "      <td>0</td>\n",
       "    </tr>\n",
       "    <tr>\n",
       "      <th>company_type</th>\n",
       "      <td>0</td>\n",
       "      <td>18359</td>\n",
       "      <td>7</td>\n",
       "      <td>object</td>\n",
       "      <td>0</td>\n",
       "    </tr>\n",
       "    <tr>\n",
       "      <th>last_new_job</th>\n",
       "      <td>0</td>\n",
       "      <td>18359</td>\n",
       "      <td>6</td>\n",
       "      <td>object</td>\n",
       "      <td>0</td>\n",
       "    </tr>\n",
       "    <tr>\n",
       "      <th>training_hours</th>\n",
       "      <td>0</td>\n",
       "      <td>18359</td>\n",
       "      <td>241</td>\n",
       "      <td>int64</td>\n",
       "      <td>0</td>\n",
       "    </tr>\n",
       "    <tr>\n",
       "      <th>target</th>\n",
       "      <td>0</td>\n",
       "      <td>18359</td>\n",
       "      <td>2</td>\n",
       "      <td>int64</td>\n",
       "      <td>0</td>\n",
       "    </tr>\n",
       "  </tbody>\n",
       "</table>\n",
       "</div>"
      ],
      "text/plain": [
       "                        Null_count  Non_Null_count  N_unique  D_types  \\\n",
       "enrollee_id                      0           18359     18359   object   \n",
       "city                             0           18359       123   object   \n",
       "city_development_index           0           18359        93  float64   \n",
       "gender                           0           18359         4   object   \n",
       "relevent_experience              0           18359         2   object   \n",
       "enrolled_university              0           18359         3   object   \n",
       "education_level                  0           18359         6   object   \n",
       "major_discipline                 0           18359         7   object   \n",
       "experience                       0           18359        22   object   \n",
       "company_size                     0           18359         9   object   \n",
       "company_type                     0           18359         7   object   \n",
       "last_new_job                     0           18359         6   object   \n",
       "training_hours                   0           18359       241    int64   \n",
       "target                           0           18359         2    int64   \n",
       "\n",
       "                        Blank_count  \n",
       "enrollee_id                       0  \n",
       "city                              0  \n",
       "city_development_index            0  \n",
       "gender                            0  \n",
       "relevent_experience               0  \n",
       "enrolled_university               0  \n",
       "education_level                   0  \n",
       "major_discipline                  0  \n",
       "experience                        0  \n",
       "company_size                      0  \n",
       "company_type                      0  \n",
       "last_new_job                      0  \n",
       "training_hours                    0  \n",
       "target                            0  "
      ]
     },
     "execution_count": 209,
     "metadata": {},
     "output_type": "execute_result"
    }
   ],
   "source": [
    "data_info(train)"
   ]
  },
  {
   "cell_type": "code",
   "execution_count": 208,
   "metadata": {},
   "outputs": [],
   "source": [
    "train.to_csv(f'{path}/train_null_rem.csv',index= False)\n",
    "test.to_csv(f'{path}/test_null_rem.csv',index= False)"
   ]
  },
  {
   "cell_type": "markdown",
   "metadata": {},
   "source": [
    "<center><b> ***THE END** </center></b>"
   ]
  },
  {
   "cell_type": "code",
   "execution_count": null,
   "metadata": {},
   "outputs": [],
   "source": []
  },
  {
   "cell_type": "code",
   "execution_count": 210,
   "metadata": {},
   "outputs": [],
   "source": [
    "train['city_event_rate'] = train.city.map(train.groupby('city').target.mean())\n",
    "test['city_event_rate'] = test.city.map(train.groupby('city').target.mean())"
   ]
  },
  {
   "cell_type": "code",
   "execution_count": 211,
   "metadata": {},
   "outputs": [
    {
     "data": {
      "text/plain": [
       "STEM          0.748298\n",
       "missing       0.154584\n",
       "low_pop       0.059644\n",
       "Humanities    0.037475\n",
       "Name: major_discipline, dtype: float64"
      ]
     },
     "execution_count": 211,
     "metadata": {},
     "output_type": "execute_result"
    }
   ],
   "source": [
    "var = 'major_discipline'\n",
    "temp = train[var].value_counts(normalize=True)\n",
    "temp = pd.Series(temp[temp> 0.03].index)\n",
    "#temp\n",
    "train[var] = np.where(train[var].isin(temp), train[var],'low_pop')\n",
    "train[var].value_counts(normalize=True)\n",
    "test[var] = np.where(test[var].isin(temp), test[var],'low_pop')"
   ]
  },
  {
   "cell_type": "code",
   "execution_count": 212,
   "metadata": {},
   "outputs": [
    {
     "data": {
      "text/plain": [
       "missing      0.260308\n",
       "50-99        0.169944\n",
       "100-500      0.146958\n",
       "10000+       0.111335\n",
       "low_pop      0.081323\n",
       "10/49        0.079852\n",
       "1000-4999    0.076202\n",
       "<10          0.074078\n",
       "Name: company_size, dtype: float64"
      ]
     },
     "execution_count": 212,
     "metadata": {},
     "output_type": "execute_result"
    }
   ],
   "source": [
    "var = 'company_size'\n",
    "temp = train[var].value_counts(normalize=True)\n",
    "temp = pd.Series(temp[temp> 0.05].index)\n",
    "#temp\n",
    "train[var] = np.where(train[var].isin(temp), train[var],'low_pop')\n",
    "train[var].value_counts(normalize=True)\n",
    "test[var] = np.where(test[var].isin(temp), test[var],'low_pop')\n"
   ]
  },
  {
   "cell_type": "code",
   "execution_count": 213,
   "metadata": {},
   "outputs": [
    {
     "data": {
      "text/plain": [
       "Pvt Ltd           0.547470\n",
       "missing           0.274470\n",
       "low_pop           0.067269\n",
       "Funded Startup    0.056539\n",
       "Public Sector     0.054251\n",
       "Name: company_type, dtype: float64"
      ]
     },
     "execution_count": 213,
     "metadata": {},
     "output_type": "execute_result"
    }
   ],
   "source": [
    "var = 'company_type'\n",
    "temp = train[var].value_counts(normalize=True)\n",
    "temp = pd.Series(temp[temp> 0.05].index)\n",
    "#temp\n",
    "train[var] = np.where(train[var].isin(temp), train[var],'low_pop')\n",
    "train[var].value_counts(normalize=True)\n",
    "test[var] = np.where(test[var].isin(temp), test[var],'low_pop')"
   ]
  },
  {
   "cell_type": "code",
   "execution_count": 214,
   "metadata": {},
   "outputs": [
    {
     "data": {
      "text/plain": [
       "1        0.432159\n",
       ">4       0.181873\n",
       "2        0.154420\n",
       "never    0.119070\n",
       "4        0.056539\n",
       "3        0.055940\n",
       "Name: last_new_job, dtype: float64"
      ]
     },
     "execution_count": 214,
     "metadata": {},
     "output_type": "execute_result"
    }
   ],
   "source": [
    "var = 'last_new_job'\n",
    "temp = train[var].value_counts(normalize=True)\n",
    "temp = pd.Series(temp[temp> 0.05].index)\n",
    "#temp\n",
    "train[var] = np.where(train[var].isin(temp), train[var],'low_pop')\n",
    "train[var].value_counts(normalize=True)\n",
    "test[var] = np.where(test[var].isin(temp), test[var],'low_pop')\n"
   ]
  },
  {
   "cell_type": "code",
   "execution_count": 215,
   "metadata": {},
   "outputs": [
    {
     "data": {
      "text/html": [
       "<div>\n",
       "<style scoped>\n",
       "    .dataframe tbody tr th:only-of-type {\n",
       "        vertical-align: middle;\n",
       "    }\n",
       "\n",
       "    .dataframe tbody tr th {\n",
       "        vertical-align: top;\n",
       "    }\n",
       "\n",
       "    .dataframe thead th {\n",
       "        text-align: right;\n",
       "    }\n",
       "</style>\n",
       "<table border=\"1\" class=\"dataframe\">\n",
       "  <thead>\n",
       "    <tr style=\"text-align: right;\">\n",
       "      <th></th>\n",
       "      <th>Null_count</th>\n",
       "      <th>Non_Null_count</th>\n",
       "      <th>N_unique</th>\n",
       "      <th>D_types</th>\n",
       "      <th>Blank_count</th>\n",
       "    </tr>\n",
       "  </thead>\n",
       "  <tbody>\n",
       "    <tr>\n",
       "      <th>enrollee_id</th>\n",
       "      <td>0</td>\n",
       "      <td>18359</td>\n",
       "      <td>18359</td>\n",
       "      <td>object</td>\n",
       "      <td>0</td>\n",
       "    </tr>\n",
       "    <tr>\n",
       "      <th>city</th>\n",
       "      <td>0</td>\n",
       "      <td>18359</td>\n",
       "      <td>123</td>\n",
       "      <td>object</td>\n",
       "      <td>0</td>\n",
       "    </tr>\n",
       "    <tr>\n",
       "      <th>city_development_index</th>\n",
       "      <td>0</td>\n",
       "      <td>18359</td>\n",
       "      <td>93</td>\n",
       "      <td>float64</td>\n",
       "      <td>0</td>\n",
       "    </tr>\n",
       "    <tr>\n",
       "      <th>gender</th>\n",
       "      <td>0</td>\n",
       "      <td>18359</td>\n",
       "      <td>4</td>\n",
       "      <td>object</td>\n",
       "      <td>0</td>\n",
       "    </tr>\n",
       "    <tr>\n",
       "      <th>relevent_experience</th>\n",
       "      <td>0</td>\n",
       "      <td>18359</td>\n",
       "      <td>2</td>\n",
       "      <td>object</td>\n",
       "      <td>0</td>\n",
       "    </tr>\n",
       "    <tr>\n",
       "      <th>enrolled_university</th>\n",
       "      <td>0</td>\n",
       "      <td>18359</td>\n",
       "      <td>3</td>\n",
       "      <td>object</td>\n",
       "      <td>0</td>\n",
       "    </tr>\n",
       "    <tr>\n",
       "      <th>education_level</th>\n",
       "      <td>0</td>\n",
       "      <td>18359</td>\n",
       "      <td>6</td>\n",
       "      <td>object</td>\n",
       "      <td>0</td>\n",
       "    </tr>\n",
       "    <tr>\n",
       "      <th>major_discipline</th>\n",
       "      <td>0</td>\n",
       "      <td>18359</td>\n",
       "      <td>4</td>\n",
       "      <td>object</td>\n",
       "      <td>0</td>\n",
       "    </tr>\n",
       "    <tr>\n",
       "      <th>experience</th>\n",
       "      <td>0</td>\n",
       "      <td>18359</td>\n",
       "      <td>22</td>\n",
       "      <td>object</td>\n",
       "      <td>0</td>\n",
       "    </tr>\n",
       "    <tr>\n",
       "      <th>company_size</th>\n",
       "      <td>0</td>\n",
       "      <td>18359</td>\n",
       "      <td>8</td>\n",
       "      <td>object</td>\n",
       "      <td>0</td>\n",
       "    </tr>\n",
       "    <tr>\n",
       "      <th>company_type</th>\n",
       "      <td>0</td>\n",
       "      <td>18359</td>\n",
       "      <td>5</td>\n",
       "      <td>object</td>\n",
       "      <td>0</td>\n",
       "    </tr>\n",
       "    <tr>\n",
       "      <th>last_new_job</th>\n",
       "      <td>0</td>\n",
       "      <td>18359</td>\n",
       "      <td>6</td>\n",
       "      <td>object</td>\n",
       "      <td>0</td>\n",
       "    </tr>\n",
       "    <tr>\n",
       "      <th>training_hours</th>\n",
       "      <td>0</td>\n",
       "      <td>18359</td>\n",
       "      <td>241</td>\n",
       "      <td>int64</td>\n",
       "      <td>0</td>\n",
       "    </tr>\n",
       "    <tr>\n",
       "      <th>target</th>\n",
       "      <td>0</td>\n",
       "      <td>18359</td>\n",
       "      <td>2</td>\n",
       "      <td>int64</td>\n",
       "      <td>0</td>\n",
       "    </tr>\n",
       "    <tr>\n",
       "      <th>city_event_rate</th>\n",
       "      <td>0</td>\n",
       "      <td>18359</td>\n",
       "      <td>84</td>\n",
       "      <td>float64</td>\n",
       "      <td>0</td>\n",
       "    </tr>\n",
       "  </tbody>\n",
       "</table>\n",
       "</div>"
      ],
      "text/plain": [
       "                        Null_count  Non_Null_count  N_unique  D_types  \\\n",
       "enrollee_id                      0           18359     18359   object   \n",
       "city                             0           18359       123   object   \n",
       "city_development_index           0           18359        93  float64   \n",
       "gender                           0           18359         4   object   \n",
       "relevent_experience              0           18359         2   object   \n",
       "enrolled_university              0           18359         3   object   \n",
       "education_level                  0           18359         6   object   \n",
       "major_discipline                 0           18359         4   object   \n",
       "experience                       0           18359        22   object   \n",
       "company_size                     0           18359         8   object   \n",
       "company_type                     0           18359         5   object   \n",
       "last_new_job                     0           18359         6   object   \n",
       "training_hours                   0           18359       241    int64   \n",
       "target                           0           18359         2    int64   \n",
       "city_event_rate                  0           18359        84  float64   \n",
       "\n",
       "                        Blank_count  \n",
       "enrollee_id                       0  \n",
       "city                              0  \n",
       "city_development_index            0  \n",
       "gender                            0  \n",
       "relevent_experience               0  \n",
       "enrolled_university               0  \n",
       "education_level                   0  \n",
       "major_discipline                  0  \n",
       "experience                        0  \n",
       "company_size                      0  \n",
       "company_type                      0  \n",
       "last_new_job                      0  \n",
       "training_hours                    0  \n",
       "target                            0  \n",
       "city_event_rate                   0  "
      ]
     },
     "execution_count": 215,
     "metadata": {},
     "output_type": "execute_result"
    }
   ],
   "source": [
    "data_info(train)"
   ]
  },
  {
   "cell_type": "code",
   "execution_count": 107,
   "metadata": {},
   "outputs": [],
   "source": [
    "#,normalize='index',)\n",
    "#                 colnames= {0 :'Non_Event', 1:'Event'})"
   ]
  },
  {
   "cell_type": "code",
   "execution_count": null,
   "metadata": {},
   "outputs": [],
   "source": []
  },
  {
   "cell_type": "code",
   "execution_count": 166,
   "metadata": {},
   "outputs": [
    {
     "data": {
      "text/html": [
       "<div>\n",
       "<style scoped>\n",
       "    .dataframe tbody tr th:only-of-type {\n",
       "        vertical-align: middle;\n",
       "    }\n",
       "\n",
       "    .dataframe tbody tr th {\n",
       "        vertical-align: top;\n",
       "    }\n",
       "\n",
       "    .dataframe thead th {\n",
       "        text-align: right;\n",
       "    }\n",
       "</style>\n",
       "<table border=\"1\" class=\"dataframe\">\n",
       "  <thead>\n",
       "    <tr style=\"text-align: right;\">\n",
       "      <th>target</th>\n",
       "      <th>experience</th>\n",
       "      <th>Non_Event</th>\n",
       "      <th>Event</th>\n",
       "      <th>All</th>\n",
       "      <th>Non_Event_%</th>\n",
       "      <th>Event_%</th>\n",
       "      <th>woe</th>\n",
       "      <th>IV</th>\n",
       "    </tr>\n",
       "  </thead>\n",
       "  <tbody>\n",
       "    <tr>\n",
       "      <th>20</th>\n",
       "      <td>0</td>\n",
       "      <td>315</td>\n",
       "      <td>101</td>\n",
       "      <td>416</td>\n",
       "      <td>0.757212</td>\n",
       "      <td>0.242788</td>\n",
       "      <td>-1.137452</td>\n",
       "      <td>0.585132</td>\n",
       "    </tr>\n",
       "  </tbody>\n",
       "</table>\n",
       "</div>"
      ],
      "text/plain": [
       "target  experience  Non_Event  Event  All  Non_Event_%   Event_%       woe  \\\n",
       "20               0        315    101  416     0.757212  0.242788 -1.137452   \n",
       "\n",
       "target        IV  \n",
       "20      0.585132  "
      ]
     },
     "execution_count": 166,
     "metadata": {},
     "output_type": "execute_result"
    }
   ],
   "source": [
    "var = 'experience'\n",
    "df = pd.crosstab(index = train[var], columns = train.target,margins = True).reset_index()\n",
    "\n",
    "df.experience = pd.to_numeric(df.experience.replace({'<1': '0', '>20' : '21', 'All' : '100'}))\n",
    "df = df.rename({0 :'Non_Event', 1:'Event'}, axis = 1)\n",
    "df['Non_Event_%'] =  df.Non_Event/df.All\n",
    "df['Event_%'] =  df.Event/df.All\n",
    "df['woe'] = np.log(df['Event_%']/df['Non_Event_%'])\n",
    "df['IV'] = (df['Event_%'] - df['Non_Event_%'])*df['woe']\n",
    "df.sort_values('experience',inplace = True)#.reset_index(drop = True)\n",
    "df.head(1)"
   ]
  },
  {
   "cell_type": "code",
   "execution_count": null,
   "metadata": {},
   "outputs": [],
   "source": [
    ">= 7 [8-15] <15\n"
   ]
  },
  {
   "cell_type": "code",
   "execution_count": 216,
   "metadata": {
    "scrolled": true
   },
   "outputs": [],
   "source": [
    "train['experience_band'] = pd.to_numeric(train.experience.replace({'<1': '0', '>20' : '21', 'All' : '100'}))\n",
    "train['experience_band'] = np.where(train.experience_band <= 7 , 'low_exp',np.where(train.experience_band >= 16, 'high_exp', 'med_exp'))\n",
    "\n",
    "test['experience_band'] = pd.to_numeric(test.experience.replace({'<1': '0', '>20' : '21', 'All' : '100'}))\n",
    "test['experience_band'] = np.where(test.experience_band <= 7 , 'low_exp',np.where(test.experience_band >= 16, 'high_exp', 'med_exp'))"
   ]
  },
  {
   "cell_type": "code",
   "execution_count": null,
   "metadata": {},
   "outputs": [],
   "source": []
  },
  {
   "cell_type": "code",
   "execution_count": 294,
   "metadata": {},
   "outputs": [],
   "source": [
    "# 5 - DIct Vectorizer on train and transforming it on test\n",
    "def dict_vec(train_set,cols,is_test, test_set):\n",
    "    \"\"\"\n",
    "    returns dict vectorizer on train set or train & test set for chosen columns\n",
    "    train_set: Dataset on which DV is to be fit\n",
    "    cols: List of columns of train_set which are to be considered for DV\n",
    "    is_test: Boolean, If DV is to be transformed on test too\n",
    "    test_set: Test set on which DV is to be transformed\n",
    "    \"\"\"\n",
    "    from sklearn.feature_extraction import DictVectorizer\n",
    "    import pandas as pd\n",
    "    dvec = DictVectorizer(sparse=False)\n",
    "    if not is_test:\n",
    "        train_dvec = dvec.fit_transform(train_set[cols].transpose().to_dict().values())\n",
    "        train_dvec = pd.DataFrame(train_dvec, index = train_set.index, columns = dvec.get_feature_names())\n",
    "        train_df = pd.concat([train_set.drop(cols, axis = 1),train_dvec], axis = 1)\n",
    "        return train_df,pd.DataFrame(),dvec\n",
    "    else:\n",
    "        train_dvec = dvec.fit_transform(train_set[cols].transpose().to_dict().values())\n",
    "        train_dvec = pd.DataFrame(train_dvec, index = train_set.index, columns = dvec.get_feature_names())\n",
    "        train_df = pd.concat([train_set.drop(cols, axis = 1),train_dvec], axis = 1)\n",
    "        test_dvec = dvec.transform(test_set[cols].transpose().to_dict().values())\n",
    "        test_dvec = pd.DataFrame(test_dvec, index = test_set.index, columns = dvec.get_feature_names())\n",
    "        test_df = pd.concat([test_set.drop(cols, axis = 1),test_dvec], axis = 1)\n",
    "        return train_df, test_df,dvec"
   ]
  },
  {
   "cell_type": "code",
   "execution_count": 295,
   "metadata": {},
   "outputs": [
    {
     "data": {
      "text/plain": [
       "Index(['gender', 'relevent_experience', 'enrolled_university',\n",
       "       'education_level', 'major_discipline', 'company_size', 'company_type',\n",
       "       'last_new_job', 'experience_band'],\n",
       "      dtype='object')"
      ]
     },
     "execution_count": 295,
     "metadata": {},
     "output_type": "execute_result"
    }
   ],
   "source": [
    "obj_cols = train.drop(['enrollee_id','city', 'experience'],axis = 1).select_dtypes('object').columns\n",
    "#obj_cols = [x for x in train.columns if x != 'enrollee_id' or x != 'city']\n",
    "obj_cols"
   ]
  },
  {
   "cell_type": "code",
   "execution_count": 296,
   "metadata": {},
   "outputs": [],
   "source": [
    "df_train,df_test,dv = dict_vec(train, obj_cols,is_test = True,test_set =test)"
   ]
  },
  {
   "cell_type": "code",
   "execution_count": 297,
   "metadata": {},
   "outputs": [
    {
     "data": {
      "text/plain": [
       "(18359, 48)"
      ]
     },
     "execution_count": 297,
     "metadata": {},
     "output_type": "execute_result"
    },
    {
     "data": {
      "text/plain": [
       "(15021, 47)"
      ]
     },
     "execution_count": 297,
     "metadata": {},
     "output_type": "execute_result"
    }
   ],
   "source": [
    "df_train.shape; df_test.shape\n",
    "#df_train.columns"
   ]
  },
  {
   "cell_type": "code",
   "execution_count": 299,
   "metadata": {},
   "outputs": [],
   "source": [
    "fin_cols = pd.Series(df_train.columns)\n",
    "#fin_cols\n",
    "df_train.columns = fin_cols.apply(lambda x : re.sub('>', 'grtr',x)).apply(lambda x : re.sub('<', 'smlr',x))"
   ]
  },
  {
   "cell_type": "code",
   "execution_count": 321,
   "metadata": {},
   "outputs": [],
   "source": [
    "fin_cols_test = pd.Series(df_test.columns)\n",
    "#fin_cols\n",
    "df_test.columns = fin_cols_test.apply(lambda x : re.sub('>', 'grtr',x)).apply(lambda x : re.sub('<', 'smlr',x))"
   ]
  },
  {
   "cell_type": "code",
   "execution_count": 335,
   "metadata": {},
   "outputs": [],
   "source": [
    "df_train.to_csv(f'{path}/train_for_model.csv',index= False)\n",
    "df_test.to_csv(f'{path}/test_for_model.csv',index= False)"
   ]
  },
  {
   "cell_type": "code",
   "execution_count": null,
   "metadata": {},
   "outputs": [],
   "source": []
  },
  {
   "cell_type": "code",
   "execution_count": null,
   "metadata": {},
   "outputs": [],
   "source": []
  },
  {
   "cell_type": "code",
   "execution_count": 302,
   "metadata": {},
   "outputs": [],
   "source": [
    "from xgboost import XGBClassifier\n",
    "xgb = XGBClassifier(random_state = 69, colsample = 0.7, learning_rate = 0.05, subsample = 0.9,n_estimators =500)"
   ]
  },
  {
   "cell_type": "code",
   "execution_count": 305,
   "metadata": {},
   "outputs": [],
   "source": [
    "features = df_train.drop(['enrollee_id','city','experience','target'],axis =1).columns"
   ]
  },
  {
   "cell_type": "code",
   "execution_count": 306,
   "metadata": {},
   "outputs": [
    {
     "name": "stdout",
     "output_type": "stream",
     "text": [
      "Wall time: 10.3 s\n"
     ]
    },
    {
     "data": {
      "text/plain": [
       "XGBClassifier(base_score=0.5, booster=None, colsample=0.7, colsample_bylevel=1,\n",
       "              colsample_bynode=1, colsample_bytree=1, gamma=0, gpu_id=-1,\n",
       "              importance_type='gain', interaction_constraints=None,\n",
       "              learning_rate=0.05, max_delta_step=0, max_depth=6,\n",
       "              min_child_weight=1, missing=nan, monotone_constraints=None,\n",
       "              n_estimators=500, n_jobs=0, num_parallel_tree=1,\n",
       "              objective='binary:logistic', random_state=69, reg_alpha=0,\n",
       "              reg_lambda=1, scale_pos_weight=1, subsample=0.9, tree_method=None,\n",
       "              validate_parameters=False, verbosity=None)"
      ]
     },
     "execution_count": 306,
     "metadata": {},
     "output_type": "execute_result"
    }
   ],
   "source": [
    "%%time\n",
    "xgb.fit(df_train[features],df_train.target)"
   ]
  },
  {
   "cell_type": "code",
   "execution_count": 310,
   "metadata": {},
   "outputs": [],
   "source": [
    "\n",
    "from sklearn.model_selection import StratifiedKFold\n",
    "skf = StratifiedKFold(n_splits = 10,shuffle = True, random_state=69)"
   ]
  },
  {
   "cell_type": "code",
   "execution_count": 312,
   "metadata": {},
   "outputs": [
    {
     "data": {
      "text/plain": [
       "array([0.66181879, 0.62215961, 0.62576511, 0.64694328, 0.64080449])"
      ]
     },
     "execution_count": 312,
     "metadata": {},
     "output_type": "execute_result"
    },
    {
     "name": "stdout",
     "output_type": "stream",
     "text": [
      "Full Accuracy: 0.64(+/- 0.03)\n"
     ]
    }
   ],
   "source": [
    "all_accuracies_data = cross_val_score(estimator=xgb, X=df_train[features], y=df_train.target, cv=5,scoring = 'roc_auc')\n",
    "all_accuracies_data\n",
    "print(\"Full Accuracy: %0.2f(+/- %0.2f)\" % (all_accuracies_data.mean(), all_accuracies_data.std()*2))\n"
   ]
  },
  {
   "cell_type": "code",
   "execution_count": 315,
   "metadata": {},
   "outputs": [
    {
     "data": {
      "text/plain": [
       "0.9192726051664145"
      ]
     },
     "execution_count": 315,
     "metadata": {},
     "output_type": "execute_result"
    }
   ],
   "source": [
    "roc_auc_score(df_train.target, xgb.predict_proba(df_train[features])[:,1])"
   ]
  },
  {
   "cell_type": "code",
   "execution_count": 317,
   "metadata": {},
   "outputs": [
    {
     "data": {
      "text/plain": [
       "0.9468599033816425"
      ]
     },
     "execution_count": 317,
     "metadata": {},
     "output_type": "execute_result"
    },
    {
     "data": {
      "text/plain": [
       "0.16164948453608247"
      ]
     },
     "execution_count": 317,
     "metadata": {},
     "output_type": "execute_result"
    },
    {
     "data": {
      "text/plain": [
       "array([[15912,    22],\n",
       "       [ 2033,   392]], dtype=int64)"
      ]
     },
     "execution_count": 317,
     "metadata": {},
     "output_type": "execute_result"
    },
    {
     "data": {
      "text/plain": [
       "0.8880657987907838"
      ]
     },
     "execution_count": 317,
     "metadata": {},
     "output_type": "execute_result"
    },
    {
     "data": {
      "text/plain": [
       "0.2761535752025361"
      ]
     },
     "execution_count": 317,
     "metadata": {},
     "output_type": "execute_result"
    }
   ],
   "source": [
    "pred_bin = xgb.predict(df_train[features])\n",
    "precision_score(df_train.target,pred_bin)\n",
    "recall_score(df_train.target,pred_bin)\n",
    "confusion_matrix(df_train.target,pred_bin)\n",
    "accuracy_score(df_train.target,pred_bin)\n",
    "f1_score(df_train.target ,pred_bin)#df_train[features]"
   ]
  },
  {
   "cell_type": "code",
   "execution_count": 318,
   "metadata": {},
   "outputs": [],
   "source": [
    "# 1- getting feature importance of variables with name for XGB model\n",
    "def xgb_feature_imp(model):\n",
    "    \"\"\"\n",
    "    Gives the feature importance along with variable names for an XGB Model.\n",
    "    \"\"\"\n",
    "    return(pd.DataFrame({'features' : model.get_booster().feature_names, 'importance' : model.feature_importances_}).\\\n",
    "           sort_values('importance',ascending = False))\n"
   ]
  },
  {
   "cell_type": "code",
   "execution_count": 320,
   "metadata": {
    "scrolled": true
   },
   "outputs": [
    {
     "data": {
      "text/html": [
       "<div>\n",
       "<style scoped>\n",
       "    .dataframe tbody tr th:only-of-type {\n",
       "        vertical-align: middle;\n",
       "    }\n",
       "\n",
       "    .dataframe tbody tr th {\n",
       "        vertical-align: top;\n",
       "    }\n",
       "\n",
       "    .dataframe thead th {\n",
       "        text-align: right;\n",
       "    }\n",
       "</style>\n",
       "<table border=\"1\" class=\"dataframe\">\n",
       "  <thead>\n",
       "    <tr style=\"text-align: right;\">\n",
       "      <th></th>\n",
       "      <th>features</th>\n",
       "      <th>importance</th>\n",
       "    </tr>\n",
       "  </thead>\n",
       "  <tbody>\n",
       "    <tr>\n",
       "      <th>10</th>\n",
       "      <td>company_size=missing</td>\n",
       "      <td>0.058355</td>\n",
       "    </tr>\n",
       "    <tr>\n",
       "      <th>2</th>\n",
       "      <td>city_event_rate</td>\n",
       "      <td>0.035126</td>\n",
       "    </tr>\n",
       "    <tr>\n",
       "      <th>37</th>\n",
       "      <td>last_new_job=never</td>\n",
       "      <td>0.031371</td>\n",
       "    </tr>\n",
       "    <tr>\n",
       "      <th>41</th>\n",
       "      <td>major_discipline=missing</td>\n",
       "      <td>0.030019</td>\n",
       "    </tr>\n",
       "    <tr>\n",
       "      <th>17</th>\n",
       "      <td>education_level=High School</td>\n",
       "      <td>0.025902</td>\n",
       "    </tr>\n",
       "    <tr>\n",
       "      <th>26</th>\n",
       "      <td>experience_band=low_exp</td>\n",
       "      <td>0.024776</td>\n",
       "    </tr>\n",
       "    <tr>\n",
       "      <th>24</th>\n",
       "      <td>enrolled_university=no_enrollment</td>\n",
       "      <td>0.024698</td>\n",
       "    </tr>\n",
       "    <tr>\n",
       "      <th>42</th>\n",
       "      <td>relevent_experience=Has relevent experience</td>\n",
       "      <td>0.024622</td>\n",
       "    </tr>\n",
       "    <tr>\n",
       "      <th>15</th>\n",
       "      <td>company_type=missing</td>\n",
       "      <td>0.023967</td>\n",
       "    </tr>\n",
       "    <tr>\n",
       "      <th>16</th>\n",
       "      <td>education_level=Graduate</td>\n",
       "      <td>0.023893</td>\n",
       "    </tr>\n",
       "    <tr>\n",
       "      <th>3</th>\n",
       "      <td>company_size=10/49</td>\n",
       "      <td>0.023182</td>\n",
       "    </tr>\n",
       "    <tr>\n",
       "      <th>23</th>\n",
       "      <td>enrolled_university=Part time course</td>\n",
       "      <td>0.023122</td>\n",
       "    </tr>\n",
       "    <tr>\n",
       "      <th>6</th>\n",
       "      <td>company_size=10000+</td>\n",
       "      <td>0.023099</td>\n",
       "    </tr>\n",
       "    <tr>\n",
       "      <th>18</th>\n",
       "      <td>education_level=Masters</td>\n",
       "      <td>0.022510</td>\n",
       "    </tr>\n",
       "    <tr>\n",
       "      <th>9</th>\n",
       "      <td>company_size=low_pop</td>\n",
       "      <td>0.022010</td>\n",
       "    </tr>\n",
       "    <tr>\n",
       "      <th>8</th>\n",
       "      <td>company_size=smlr10</td>\n",
       "      <td>0.021954</td>\n",
       "    </tr>\n",
       "    <tr>\n",
       "      <th>25</th>\n",
       "      <td>experience_band=high_exp</td>\n",
       "      <td>0.021920</td>\n",
       "    </tr>\n",
       "    <tr>\n",
       "      <th>14</th>\n",
       "      <td>company_type=low_pop</td>\n",
       "      <td>0.021749</td>\n",
       "    </tr>\n",
       "    <tr>\n",
       "      <th>22</th>\n",
       "      <td>enrolled_university=Full time course</td>\n",
       "      <td>0.021662</td>\n",
       "    </tr>\n",
       "    <tr>\n",
       "      <th>28</th>\n",
       "      <td>gender=Female</td>\n",
       "      <td>0.021615</td>\n",
       "    </tr>\n",
       "    <tr>\n",
       "      <th>5</th>\n",
       "      <td>company_size=1000-4999</td>\n",
       "      <td>0.021564</td>\n",
       "    </tr>\n",
       "    <tr>\n",
       "      <th>20</th>\n",
       "      <td>education_level=Primary School</td>\n",
       "      <td>0.021561</td>\n",
       "    </tr>\n",
       "    <tr>\n",
       "      <th>31</th>\n",
       "      <td>gender=missing</td>\n",
       "      <td>0.021520</td>\n",
       "    </tr>\n",
       "    <tr>\n",
       "      <th>12</th>\n",
       "      <td>company_type=Public Sector</td>\n",
       "      <td>0.021452</td>\n",
       "    </tr>\n",
       "    <tr>\n",
       "      <th>0</th>\n",
       "      <td>city_development_index</td>\n",
       "      <td>0.021382</td>\n",
       "    </tr>\n",
       "    <tr>\n",
       "      <th>33</th>\n",
       "      <td>last_new_job=2</td>\n",
       "      <td>0.021378</td>\n",
       "    </tr>\n",
       "    <tr>\n",
       "      <th>32</th>\n",
       "      <td>last_new_job=1</td>\n",
       "      <td>0.021368</td>\n",
       "    </tr>\n",
       "    <tr>\n",
       "      <th>1</th>\n",
       "      <td>training_hours</td>\n",
       "      <td>0.021261</td>\n",
       "    </tr>\n",
       "    <tr>\n",
       "      <th>35</th>\n",
       "      <td>last_new_job=4</td>\n",
       "      <td>0.021227</td>\n",
       "    </tr>\n",
       "    <tr>\n",
       "      <th>11</th>\n",
       "      <td>company_type=Funded Startup</td>\n",
       "      <td>0.021013</td>\n",
       "    </tr>\n",
       "    <tr>\n",
       "      <th>40</th>\n",
       "      <td>major_discipline=low_pop</td>\n",
       "      <td>0.020792</td>\n",
       "    </tr>\n",
       "    <tr>\n",
       "      <th>38</th>\n",
       "      <td>major_discipline=Humanities</td>\n",
       "      <td>0.020749</td>\n",
       "    </tr>\n",
       "    <tr>\n",
       "      <th>27</th>\n",
       "      <td>experience_band=med_exp</td>\n",
       "      <td>0.020606</td>\n",
       "    </tr>\n",
       "    <tr>\n",
       "      <th>7</th>\n",
       "      <td>company_size=50-99</td>\n",
       "      <td>0.020584</td>\n",
       "    </tr>\n",
       "    <tr>\n",
       "      <th>34</th>\n",
       "      <td>last_new_job=3</td>\n",
       "      <td>0.020541</td>\n",
       "    </tr>\n",
       "    <tr>\n",
       "      <th>29</th>\n",
       "      <td>gender=Male</td>\n",
       "      <td>0.020369</td>\n",
       "    </tr>\n",
       "    <tr>\n",
       "      <th>36</th>\n",
       "      <td>last_new_job=grtr4</td>\n",
       "      <td>0.020202</td>\n",
       "    </tr>\n",
       "    <tr>\n",
       "      <th>13</th>\n",
       "      <td>company_type=Pvt Ltd</td>\n",
       "      <td>0.020123</td>\n",
       "    </tr>\n",
       "    <tr>\n",
       "      <th>19</th>\n",
       "      <td>education_level=Phd</td>\n",
       "      <td>0.019943</td>\n",
       "    </tr>\n",
       "    <tr>\n",
       "      <th>39</th>\n",
       "      <td>major_discipline=STEM</td>\n",
       "      <td>0.019883</td>\n",
       "    </tr>\n",
       "    <tr>\n",
       "      <th>4</th>\n",
       "      <td>company_size=100-500</td>\n",
       "      <td>0.019543</td>\n",
       "    </tr>\n",
       "    <tr>\n",
       "      <th>30</th>\n",
       "      <td>gender=Other</td>\n",
       "      <td>0.019525</td>\n",
       "    </tr>\n",
       "    <tr>\n",
       "      <th>21</th>\n",
       "      <td>education_level=missing</td>\n",
       "      <td>0.017859</td>\n",
       "    </tr>\n",
       "    <tr>\n",
       "      <th>43</th>\n",
       "      <td>relevent_experience=No relevent experience</td>\n",
       "      <td>0.000000</td>\n",
       "    </tr>\n",
       "  </tbody>\n",
       "</table>\n",
       "</div>"
      ],
      "text/plain": [
       "                                       features  importance\n",
       "10                         company_size=missing    0.058355\n",
       "2                               city_event_rate    0.035126\n",
       "37                           last_new_job=never    0.031371\n",
       "41                     major_discipline=missing    0.030019\n",
       "17                  education_level=High School    0.025902\n",
       "26                      experience_band=low_exp    0.024776\n",
       "24            enrolled_university=no_enrollment    0.024698\n",
       "42  relevent_experience=Has relevent experience    0.024622\n",
       "15                         company_type=missing    0.023967\n",
       "16                     education_level=Graduate    0.023893\n",
       "3                            company_size=10/49    0.023182\n",
       "23         enrolled_university=Part time course    0.023122\n",
       "6                           company_size=10000+    0.023099\n",
       "18                      education_level=Masters    0.022510\n",
       "9                          company_size=low_pop    0.022010\n",
       "8                           company_size=smlr10    0.021954\n",
       "25                     experience_band=high_exp    0.021920\n",
       "14                         company_type=low_pop    0.021749\n",
       "22         enrolled_university=Full time course    0.021662\n",
       "28                                gender=Female    0.021615\n",
       "5                        company_size=1000-4999    0.021564\n",
       "20               education_level=Primary School    0.021561\n",
       "31                               gender=missing    0.021520\n",
       "12                   company_type=Public Sector    0.021452\n",
       "0                        city_development_index    0.021382\n",
       "33                               last_new_job=2    0.021378\n",
       "32                               last_new_job=1    0.021368\n",
       "1                                training_hours    0.021261\n",
       "35                               last_new_job=4    0.021227\n",
       "11                  company_type=Funded Startup    0.021013\n",
       "40                     major_discipline=low_pop    0.020792\n",
       "38                  major_discipline=Humanities    0.020749\n",
       "27                      experience_band=med_exp    0.020606\n",
       "7                            company_size=50-99    0.020584\n",
       "34                               last_new_job=3    0.020541\n",
       "29                                  gender=Male    0.020369\n",
       "36                           last_new_job=grtr4    0.020202\n",
       "13                         company_type=Pvt Ltd    0.020123\n",
       "19                          education_level=Phd    0.019943\n",
       "39                        major_discipline=STEM    0.019883\n",
       "4                          company_size=100-500    0.019543\n",
       "30                                 gender=Other    0.019525\n",
       "21                      education_level=missing    0.017859\n",
       "43   relevent_experience=No relevent experience    0.000000"
      ]
     },
     "execution_count": 320,
     "metadata": {},
     "output_type": "execute_result"
    }
   ],
   "source": [
    "feat_imp = xgb_feature_imp(model = xgb)\n",
    "feat_imp\n"
   ]
  },
  {
   "cell_type": "code",
   "execution_count": null,
   "metadata": {},
   "outputs": [],
   "source": []
  },
  {
   "cell_type": "code",
   "execution_count": 332,
   "metadata": {},
   "outputs": [],
   "source": [
    "df_sub = df_test[['enrollee_id']]\n",
    "df_sub['target'] = xgb.predict_proba(df_test[features])[:,1]\n",
    "df_sub['target'] = xgb.predict(df_test[features])"
   ]
  },
  {
   "cell_type": "code",
   "execution_count": 333,
   "metadata": {
    "scrolled": true
   },
   "outputs": [
    {
     "data": {
      "text/html": [
       "<div>\n",
       "<style scoped>\n",
       "    .dataframe tbody tr th:only-of-type {\n",
       "        vertical-align: middle;\n",
       "    }\n",
       "\n",
       "    .dataframe tbody tr th {\n",
       "        vertical-align: top;\n",
       "    }\n",
       "\n",
       "    .dataframe thead th {\n",
       "        text-align: right;\n",
       "    }\n",
       "</style>\n",
       "<table border=\"1\" class=\"dataframe\">\n",
       "  <thead>\n",
       "    <tr style=\"text-align: right;\">\n",
       "      <th></th>\n",
       "      <th>enrollee_id</th>\n",
       "      <th>target</th>\n",
       "    </tr>\n",
       "  </thead>\n",
       "  <tbody>\n",
       "    <tr>\n",
       "      <th>0</th>\n",
       "      <td>16548</td>\n",
       "      <td>1</td>\n",
       "    </tr>\n",
       "    <tr>\n",
       "      <th>1</th>\n",
       "      <td>12036</td>\n",
       "      <td>0</td>\n",
       "    </tr>\n",
       "    <tr>\n",
       "      <th>2</th>\n",
       "      <td>11061</td>\n",
       "      <td>1</td>\n",
       "    </tr>\n",
       "    <tr>\n",
       "      <th>3</th>\n",
       "      <td>5032</td>\n",
       "      <td>0</td>\n",
       "    </tr>\n",
       "    <tr>\n",
       "      <th>4</th>\n",
       "      <td>17599</td>\n",
       "      <td>0</td>\n",
       "    </tr>\n",
       "  </tbody>\n",
       "</table>\n",
       "</div>"
      ],
      "text/plain": [
       "  enrollee_id  target\n",
       "0       16548       1\n",
       "1       12036       0\n",
       "2       11061       1\n",
       "3        5032       0\n",
       "4       17599       0"
      ]
     },
     "execution_count": 333,
     "metadata": {},
     "output_type": "execute_result"
    }
   ],
   "source": [
    "df_sub.head()"
   ]
  },
  {
   "cell_type": "code",
   "execution_count": 334,
   "metadata": {},
   "outputs": [],
   "source": [
    "df_sub.to_csv(f'{path}/my_submission_v1.csv',index = False)"
   ]
  },
  {
   "cell_type": "code",
   "execution_count": null,
   "metadata": {},
   "outputs": [],
   "source": []
  },
  {
   "cell_type": "code",
   "execution_count": null,
   "metadata": {},
   "outputs": [],
   "source": []
  },
  {
   "cell_type": "code",
   "execution_count": null,
   "metadata": {},
   "outputs": [],
   "source": []
  },
  {
   "cell_type": "code",
   "execution_count": null,
   "metadata": {},
   "outputs": [],
   "source": [
    "train.company_type.unique()\n",
    "pd.crosstab(train.company_size, train.company_type,dropna=False)"
   ]
  },
  {
   "cell_type": "code",
   "execution_count": null,
   "metadata": {
    "scrolled": false
   },
   "outputs": [],
   "source": [
    "#enrolled_university  --  Type of University course enrolled if any\n",
    "var = 'company_size'\n",
    "train[var].value_counts(dropna=False)"
   ]
  },
  {
   "cell_type": "code",
   "execution_count": null,
   "metadata": {},
   "outputs": [],
   "source": []
  },
  {
   "cell_type": "code",
   "execution_count": null,
   "metadata": {},
   "outputs": [],
   "source": [
    "train[var].value_counts()"
   ]
  },
  {
   "cell_type": "code",
   "execution_count": null,
   "metadata": {},
   "outputs": [],
   "source": [
    "cdi_bands,bins = pd.qcut(train.city_development_index, q = 6,retbins= True,duplicates = 'drop')\n",
    "train['cdi_bands'] = cdi_bands\n",
    "#train.groupby(cdi_bands).city.count()\n",
    "train.groupby(cdi_bands).target.sum()/train.groupby(cdi_bands).target.count()\n",
    "train.drop('cdi_bands', axis = 1,inplace=True)"
   ]
  },
  {
   "cell_type": "code",
   "execution_count": null,
   "metadata": {},
   "outputs": [],
   "source": [
    "train.head()"
   ]
  },
  {
   "cell_type": "code",
   "execution_count": null,
   "metadata": {},
   "outputs": [],
   "source": [
    "train.groupby('company_size').target.sum()/train.groupby('company_size').target.count()"
   ]
  },
  {
   "cell_type": "code",
   "execution_count": null,
   "metadata": {},
   "outputs": [],
   "source": [
    "train.company_size"
   ]
  },
  {
   "cell_type": "code",
   "execution_count": null,
   "metadata": {},
   "outputs": [],
   "source": [
    "sns.countplot(x = 'gender', hue = 'target', data = train,palette=\"Set1\");"
   ]
  },
  {
   "cell_type": "code",
   "execution_count": null,
   "metadata": {},
   "outputs": [],
   "source": [
    "def crosstab_2var(df,var1,var2):\n",
    "    return(pd.crosstab([df[var1], df[\"target\"]], df[var2], margins = True).style.background_gradient(cmap = \"Accent\"))"
   ]
  },
  {
   "cell_type": "code",
   "execution_count": null,
   "metadata": {
    "scrolled": true
   },
   "outputs": [],
   "source": [
    "crosstab_2var(train,'gender','company_size')"
   ]
  },
  {
   "cell_type": "code",
   "execution_count": null,
   "metadata": {},
   "outputs": [],
   "source": [
    "train.columns"
   ]
  },
  {
   "cell_type": "code",
   "execution_count": null,
   "metadata": {},
   "outputs": [],
   "source": [
    "sns.scatterplot(x = train.city_development_index, y = train.training_hours)"
   ]
  },
  {
   "cell_type": "code",
   "execution_count": 31,
   "metadata": {},
   "outputs": [
    {
     "data": {
      "text/plain": [
       "<seaborn.axisgrid.PairGrid at 0x188f28d6748>"
      ]
     },
     "execution_count": 31,
     "metadata": {},
     "output_type": "execute_result"
    },
    {
     "data": {
      "image/png": "[encoded data removed]",
      "text/plain": [
       "<Figure size 405.725x360 with 6 Axes>"
      ]
     },
     "metadata": {},
     "output_type": "display_data"
    }
   ],
   "source": [
    "sns.pairplot(train.select_dtypes('number'), hue = 'target',)\n"
   ]
  },
  {
   "cell_type": "code",
   "execution_count": null,
   "metadata": {},
   "outputs": [],
   "source": []
  },
  {
   "cell_type": "code",
   "execution_count": null,
   "metadata": {},
   "outputs": [],
   "source": []
  },
  {
   "cell_type": "code",
   "execution_count": null,
   "metadata": {},
   "outputs": [],
   "source": []
  }
 ],
 "metadata": {
  "kernelspec": {
   "display_name": "Python 3",
   "language": "python",
   "name": "python3"
  },
  "language_info": {
   "codemirror_mode": {
    "name": "ipython",
    "version": 3
   },
   "file_extension": ".py",
   "mimetype": "text/x-python",
   "name": "python",
   "nbconvert_exporter": "python",
   "pygments_lexer": "ipython3",
   "version": "3.7.6"
  }
 },
 "nbformat": 4,
 "nbformat_minor": 4
}
